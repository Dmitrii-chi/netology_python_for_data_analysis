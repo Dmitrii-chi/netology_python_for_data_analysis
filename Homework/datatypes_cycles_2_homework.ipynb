{
 "cells": [
  {
   "cell_type": "markdown",
   "id": "27a42ba7",
   "metadata": {},
   "source": [
    "Задание 1\n",
    "\n",
    "Дана переменная, в которой хранится словарь, содержащий гео-метки для каждого пользователя (пример структуры данных приведен ниже). Вам необходимо написать программу, которая выведет на экран множество уникальных гео-меток всех пользователей."
   ]
  },
  {
   "cell_type": "code",
   "execution_count": 50,
   "id": "ae881e02",
   "metadata": {},
   "outputs": [],
   "source": [
    "ids = {'user1': [213, 213, 213, 15, 213], \n",
    "       'user2': [54, 54, 119, 119, 119], \n",
    "       'user3': [213, 98, 98, 35]}"
   ]
  },
  {
   "cell_type": "code",
   "execution_count": 52,
   "id": "5c3b2658",
   "metadata": {},
   "outputs": [
    {
     "data": {
      "text/plain": [
       "[[213, 213, 213, 15, 213], [54, 54, 119, 119, 119], [213, 98, 98, 35]]"
      ]
     },
     "execution_count": 52,
     "metadata": {},
     "output_type": "execute_result"
    }
   ],
   "source": [
    "list_values = list(ids.values())\n",
    "list_values"
   ]
  },
  {
   "cell_type": "code",
   "execution_count": 53,
   "id": "91513402",
   "metadata": {},
   "outputs": [
    {
     "name": "stdout",
     "output_type": "stream",
     "text": [
      "{98, 35, 15, 213, 54, 119}\n"
     ]
    }
   ],
   "source": [
    "index = 0\n",
    "set_all = []\n",
    "for i in list_values:\n",
    "    set_all += (list_values[index])\n",
    "    index += 1\n",
    "print(set(set_all))"
   ]
  },
  {
   "cell_type": "markdown",
   "id": "7e0d6895",
   "metadata": {},
   "source": [
    "Задание 2\n",
    "\n",
    "Дана переменная, в которой хранится список поисковых запросов пользователя (пример структуры данных приведен ниже). Вам необходимо написать программу, которая выведет на экран распределение количества слов в запросах в требуемом виде."
   ]
  },
  {
   "cell_type": "code",
   "execution_count": 54,
   "id": "84c43ca3",
   "metadata": {},
   "outputs": [],
   "source": [
    "queries = [\n",
    "    'смотреть сериалы онлайн',\n",
    "    'новости спорта',\n",
    "    'афиша кино',\n",
    "    'курс доллара',\n",
    "    'сериалы этим летом',\n",
    "    'курс по питону',\n",
    "    'сериалы про спорт',\n",
    "    'курс курс курс курс'\n",
    "]"
   ]
  },
  {
   "cell_type": "code",
   "execution_count": 58,
   "id": "4bdc82fd",
   "metadata": {},
   "outputs": [
    {
     "data": {
      "text/plain": [
       "{3: 4, 2: 3, 4: 1}"
      ]
     },
     "execution_count": 58,
     "metadata": {},
     "output_type": "execute_result"
    }
   ],
   "source": [
    "store = {}\n",
    "\n",
    "for string in queries:\n",
    "    word = string.split()\n",
    "    key = len(word)\n",
    "    if key in store:\n",
    "        store[key] += 1\n",
    "    else:\n",
    "        store.update({key : 1})\n",
    "\n",
    "store"
   ]
  },
  {
   "cell_type": "code",
   "execution_count": 289,
   "id": "620faf74",
   "metadata": {},
   "outputs": [
    {
     "name": "stdout",
     "output_type": "stream",
     "text": [
      "Поисковых запросов, содержащих 3 слов(а): 50.0%\n",
      "Поисковых запросов, содержащих 2 слов(а): 37.5%\n",
      "Поисковых запросов, содержащих 4 слов(а): 12.5%\n"
     ]
    }
   ],
   "source": [
    "sum_all_value = (sum(store.values()))/100\n",
    "proc = 0\n",
    "for key, value in store.items():\n",
    "    proc = value/sum_all_value\n",
    "    print(f\"Поисковых запросов, содержащих {key} слов(а): {proc}%\")"
   ]
  },
  {
   "cell_type": "markdown",
   "id": "01608460",
   "metadata": {},
   "source": [
    "Задание 3\n",
    "\n",
    "\n",
    "Дана переменная, в которой хранится информация о затратах и доходе рекламных кампаний по различным источникам. Необходимо дополнить исходную структуру показателем ROI, который рассчитаем по формуле: (revenue / cost - 1) * 100"
   ]
  },
  {
   "cell_type": "code",
   "execution_count": 290,
   "id": "d7a53628",
   "metadata": {},
   "outputs": [],
   "source": [
    "results = {\n",
    "    'vk': {'revenue': 103, 'cost': 98},\n",
    "    'yandex': {'revenue': 179, 'cost': 153},\n",
    "    'facebook': {'revenue': 103, 'cost': 110},\n",
    "    'adwords': {'revenue': 35, 'cost': 34},\n",
    "    'twitter': {'revenue': 11, 'cost': 24},\n",
    "}"
   ]
  },
  {
   "cell_type": "code",
   "execution_count": 291,
   "id": "7d654ca9",
   "metadata": {},
   "outputs": [
    {
     "data": {
      "text/plain": [
       "{'vk': {'revenue': 103, 'cost': 98, 'ROI': 5.102040816326525},\n",
       " 'yandex': {'revenue': 179, 'cost': 153, 'ROI': 16.99346405228759},\n",
       " 'facebook': {'revenue': 103, 'cost': 110, 'ROI': -6.36363636363636},\n",
       " 'adwords': {'revenue': 35, 'cost': 34, 'ROI': 2.941176470588225},\n",
       " 'twitter': {'revenue': 11, 'cost': 24, 'ROI': -54.16666666666667}}"
      ]
     },
     "execution_count": 291,
     "metadata": {},
     "output_type": "execute_result"
    }
   ],
   "source": [
    "list_ = list(results.values())\n",
    "objest = None\n",
    "for i in list_:\n",
    "    objest = list(i.values())\n",
    "    i.setdefault('ROI', ((objest[0]/objest[1]) - 1)*100)\n",
    "results\n"
   ]
  },
  {
   "cell_type": "markdown",
   "id": "d1daf906",
   "metadata": {},
   "source": [
    "Задание 4\n",
    "\n",
    "Дана переменная, в которой хранится статистика рекламных каналов по объемам продаж (пример структуры данных приведен ниже). Напишите программу, которая возвращает название канала с максимальным объемом продаж."
   ]
  },
  {
   "cell_type": "code",
   "execution_count": 292,
   "id": "a796540d",
   "metadata": {},
   "outputs": [],
   "source": [
    "stats = {'facebook': 55, 'yandex': 115, 'vk': 120, 'google': 99, 'email': 42, 'ok': 98}"
   ]
  },
  {
   "cell_type": "code",
   "execution_count": 293,
   "id": "7a924e52",
   "metadata": {},
   "outputs": [
    {
     "data": {
      "text/plain": [
       "'vk'"
      ]
     },
     "execution_count": 293,
     "metadata": {},
     "output_type": "execute_result"
    }
   ],
   "source": [
    "list_ = list(stats.items())\n",
    "index = 0\n",
    "list_of_values = []\n",
    "for i in list_:\n",
    "    list_of_values.append(list_[index][1])\n",
    "    index += 1\n",
    "max_value_index = list_of_values.index(max(list_of_values))\n",
    "list_[max_value_index][0]\n"
   ]
  }
 ],
 "metadata": {
  "kernelspec": {
   "display_name": "Python 3 (ipykernel)",
   "language": "python",
   "name": "python3"
  },
  "language_info": {
   "codemirror_mode": {
    "name": "ipython",
    "version": 3
   },
   "file_extension": ".py",
   "mimetype": "text/x-python",
   "name": "python",
   "nbconvert_exporter": "python",
   "pygments_lexer": "ipython3",
   "version": "3.9.12"
  }
 },
 "nbformat": 4,
 "nbformat_minor": 5
}
