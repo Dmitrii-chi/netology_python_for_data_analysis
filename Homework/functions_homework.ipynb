{
 "cells": [
  {
   "cell_type": "markdown",
   "id": "fb55490c",
   "metadata": {},
   "source": [
    "Вам нужно помочь секретарю автоматизировать работу. Для этого нужно написать программу, которая будет на основе хранимых данных исполнять пользовательские команды.\n",
    "\n",
    "\n",
    "Общие требования к программе:\n",
    "\n",
    "код должен быть грамотно декомпозирован (каждая функция отвечает за свою конкретную задачу, дублирующийся функционал переиспользуется, а его код не повторяется);\n",
    "\n",
    "в коде отсутствуют глобальные переменные (за исключением documents и directories);\n",
    "\n",
    "пользовательский ввод обрабатывается в цикле while до тех пор, пока пользователь явно не завершит программу (вводом команды \"q\")."
   ]
  },
  {
   "cell_type": "code",
   "execution_count": 574,
   "id": "467c872c",
   "metadata": {},
   "outputs": [],
   "source": [
    "#перечень всех документов1\n",
    "global documents\n",
    "documents = [\n",
    " {'type': 'passport', 'number': '2207 876234', 'name': 'Василий Гупкин'},\n",
    " {'type': 'invoice', 'number': '11-2', 'name': 'Геннадий Покемонов'},\n",
    " {'type': 'insurance', 'number': '10006', 'name': 'Аристарх Павлов'}\n",
    "]"
   ]
  },
  {
   "cell_type": "code",
   "execution_count": 575,
   "id": "e9592880",
   "metadata": {},
   "outputs": [],
   "source": [
    "#перечень полок, на которых хранятся документы (если документ есть в documents, то он обязательно должен быть и в directories)\n",
    "global directories\n",
    "directories = {\n",
    " '1': ['2207 876234', '11-2'],\n",
    " '2': ['10006'],\n",
    " '3': []\n",
    "}"
   ]
  },
  {
   "cell_type": "code",
   "execution_count": 576,
   "id": "c443794b",
   "metadata": {},
   "outputs": [],
   "source": [
    "def main(comand = None):\n",
    "    while True:\n",
    "        comand = input('Введите команду:')\n",
    "        if comand == 'q':\n",
    "            break \n",
    "        elif comand == 'p':\n",
    "            p()\n",
    "        elif comand == 's':\n",
    "            s()\n",
    "        elif comand == 'l':\n",
    "            l()\n",
    "        elif comand == 'abs': \n",
    "            abs()\n",
    "        elif comand == 'bs':\n",
    "            bs()\n",
    "        elif comand == 'ad':\n",
    "            ad()\n",
    "        elif comand == 'd':    \n",
    "            d ()\n",
    "        elif comand != 'q' and comand != 'p' and comand != 's' and comand != 'l' \\\n",
    "        and comand != 'abs' and comand != 'bs' and comand != 'ad' and comand != 'd':\n",
    "            print('Команды не существует')"
   ]
  },
  {
   "cell_type": "code",
   "execution_count": 166,
   "id": "ec1876ea",
   "metadata": {},
   "outputs": [],
   "source": [
    "# Пункт 1. Пользователь по команде \"p\" может узнать владельца документа по его номеру\n",
    "def p():\n",
    "    number = input(\"Введите номер документа:\")\n",
    "    flag = False\n",
    "    for i in documents:\n",
    "        if number == i['number']:\n",
    "            name = i['name']\n",
    "            print(f'Владелец документа:{name}')\n",
    "            return \n",
    "    print(\"Документ не найден в базе\")\n",
    "        "
   ]
  },
  {
   "cell_type": "code",
   "execution_count": 591,
   "id": "3d763db1",
   "metadata": {},
   "outputs": [],
   "source": [
    "# Пункт 2. Пользователь по команде \"s\" может по номеру документа узнать на какой полке он хранится\n",
    "def s(number = None):\n",
    "    if number == None:\n",
    "        number = input(\"Введите номер документа:\")\n",
    "    for list_ in list(directories.values()):\n",
    "        for n in list_:\n",
    "            if n == number:\n",
    "                current_index = (list(directories.values())).index(list_)\n",
    "                print(f'Документ хранится на полке: {current_index + 1}')\n",
    "                return current_index + 1\n",
    "    print(\"Документ не найден в базе\") "
   ]
  },
  {
   "cell_type": "code",
   "execution_count": 558,
   "id": "72dc438c",
   "metadata": {},
   "outputs": [],
   "source": [
    "# Пункт 3. Пользователь по команде \"l\" может увидеть полную информацию по всем документам\n",
    "def l():\n",
    "    #list_ = []\n",
    "    for i in documents:\n",
    "        type_doc = i['type']\n",
    "        number = i['number']\n",
    "        name = i['name']\n",
    "        for group in list(directories.values()):\n",
    "            for polka in group:\n",
    "                if polka == number:\n",
    "                    polka_number = ((list(directories.values())).index(group) + 1)\n",
    "                    break\n",
    "        print(f'№ {number}, тип: {type_doc}, владелец: {name}, полка хранения: {polka_number}')"
   ]
  },
  {
   "cell_type": "code",
   "execution_count": 541,
   "id": "561d430a",
   "metadata": {},
   "outputs": [],
   "source": [
    "# Пункт 4. Пользователь по команде \"ads\" может добавить новую полку\n",
    "def abs(new_polka=None):\n",
    "    global global_abs \n",
    "    global_abs = False\n",
    "    if new_polka == None:\n",
    "        new_polka = input('Введите номер полки:')\n",
    "    new_polka = str(new_polka)\n",
    "    for group in list(directories.keys()):     \n",
    "        if group == new_polka:\n",
    "            print(f'Такая полка уже существует. Текущий перечень полок:{sorted(list(directories.keys()))}')\n",
    "            global_abs = True\n",
    "            return\n",
    "        continue\n",
    "    else:\n",
    "        directories[new_polka] = []\n",
    "        print(f'Полка добавлена. Текущий перечень полок:{sorted(list(directories.keys()))}')\n",
    "        return"
   ]
  },
  {
   "cell_type": "code",
   "execution_count": 542,
   "id": "e481c22c",
   "metadata": {},
   "outputs": [],
   "source": [
    "# Пункт 5. Пользователь по команде \"ds\" может удалить существующую полку из данных (только если она пустая)\n",
    "def bs(number = None):\n",
    "    if number == None:\n",
    "        number = str(input('Введите номер полки:'))\n",
    "    flag = True\n",
    "    for n in list(directories.keys()):\n",
    "        if number == n:\n",
    "            flag = False\n",
    "            if directories[n] != []:\n",
    "                print(f'На полке есть документа, удалите их перед удалением полки. Текущий перечень полок:{sorted(list(directories.keys()))} ')\n",
    "            else:\n",
    "                del(directories[n])\n",
    "                print(f'Полка удалена. Текущий перечень полок: {sorted(list(directories.keys()))}')\n",
    "                return\n",
    "    if flag == True:\n",
    "        print(f'Такой полки не существует. Текущий перечень полок: {sorted(list(directories.keys()))}')\n",
    "            \n",
    "                "
   ]
  },
  {
   "cell_type": "code",
   "execution_count": 545,
   "id": "a0e7bde7",
   "metadata": {},
   "outputs": [],
   "source": [
    "# Пункт 2.1. Пользователь по команде \"ad\" может добавить новый документ в данные\n",
    "def ad():\n",
    "    number_doc = str(input('Введите номер документа:'))\n",
    "    type_doc = str(input('Введите тип документа:'))\n",
    "    name_owner = str(input('Введите владельца документа:'))\n",
    "    abs_nomber = str(input('Введите полку для хранения:'))\n",
    "    abs(abs_nomber)\n",
    "    if global_abs == False:\n",
    "        new_dict = {'type': type_doc, 'number': number_doc, 'name': name_owner}\n",
    "        documents.append(new_dict)\n",
    "        print('Документ добавлен. Текущий список документов:')\n",
    "        l()\n",
    "        return\n",
    "    else:\n",
    "        return\n",
    "# Немного изменил условия (в начале не так прочитал) теперь полка автоматически добовляется если ее нет и ее нельзя добавить если она есть"
   ]
  },
  {
   "cell_type": "code",
   "execution_count": 569,
   "id": "d0da78ba",
   "metadata": {},
   "outputs": [],
   "source": [
    "# Пункт 2.2. Пользователь по команде \"d\" может удалить документ из данных\n",
    "def d ():\n",
    "    number = input('Введите номер документа')\n",
    "    for i in documents:\n",
    "        if number == i['number']:\n",
    "            documents.remove(i)\n",
    "            print('Документ удален')\n",
    "            l()\n",
    "            return\n",
    "    else:\n",
    "        print('Документ не найден')"
   ]
  },
  {
   "cell_type": "code",
   "execution_count": null,
   "id": "e746c6a8",
   "metadata": {},
   "outputs": [],
   "source": []
  }
 ],
 "metadata": {
  "kernelspec": {
   "display_name": "Python 3 (ipykernel)",
   "language": "python",
   "name": "python3"
  },
  "language_info": {
   "codemirror_mode": {
    "name": "ipython",
    "version": 3
   },
   "file_extension": ".py",
   "mimetype": "text/x-python",
   "name": "python",
   "nbconvert_exporter": "python",
   "pygments_lexer": "ipython3",
   "version": "3.9.12"
  }
 },
 "nbformat": 4,
 "nbformat_minor": 5
}
