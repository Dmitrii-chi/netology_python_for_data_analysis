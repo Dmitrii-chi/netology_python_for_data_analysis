{
 "cells": [
  {
   "cell_type": "markdown",
   "metadata": {},
   "source": [
    "Задание 1\n",
    "\n",
    "Печатные газеты использовали свой формат дат для каждого выпуска. Для каждой газеты из списка напишите формат указанной даты для перевода в объект datetime:\n",
    "\n",
    "The Moscow Times - Wednesday, October 2, 2002\n",
    "The Guardian - Friday, 11.10.13\n",
    "Daily News - Thursday, 18 August 1977"
   ]
  },
  {
   "cell_type": "code",
   "execution_count": 8,
   "metadata": {},
   "outputs": [
    {
     "name": "stdout",
     "output_type": "stream",
     "text": [
      "2002-10-02 00:00:00\n",
      "2013-10-11 00:00:00\n",
      "1977-08-18 00:00:00\n"
     ]
    }
   ],
   "source": [
    "import datetime as dt\n",
    "The_Moscow_Times = 'Wednesday, October 2, 2002'\n",
    "The_Guardian = 'Friday, 11.10.13'\n",
    "Daily_News = 'Thursday, 18 August 1977'\n",
    "\n",
    "print(dt.datetime.strptime(The_Moscow_Times, '%A, %B %d, %Y'))\n",
    "print(dt.datetime.strptime(The_Guardian, '%A, %d.%m.%y'))\n",
    "print(dt.datetime.strptime(Daily_News, '%A, %d %B %Y'))"
   ]
  },
  {
   "cell_type": "markdown",
   "metadata": {},
   "source": [
    "Дан поток дат в формате YYYY-MM-DD, в которых встречаются некорректные значения:\n",
    "stream = [‘2018-04-02’, ‘2018-02-29’, ‘2018-19-02’]\n",
    "\n",
    "Напишите функцию, которая проверяет эти даты на корректность. Т. е. для каждой даты возвращает True (дата корректна) или False (некорректная дата)."
   ]
  },
  {
   "cell_type": "code",
   "execution_count": 9,
   "metadata": {},
   "outputs": [],
   "source": [
    "stream = ['2018-04-02', '2018-02-29', '2018-19-02']\n",
    "\n",
    "def test_timelist(stream):\n",
    "    for i in stream:\n",
    "        try:\n",
    "            dt.datetime.strptime(i, '%Y-%m-%d')\n",
    "            print(f'{i} - True')\n",
    "        except:\n",
    "            print(f'{i} - False')"
   ]
  },
  {
   "cell_type": "code",
   "execution_count": 10,
   "metadata": {},
   "outputs": [
    {
     "name": "stdout",
     "output_type": "stream",
     "text": [
      "2018-04-02 - True\n",
      "2018-02-29 - False\n",
      "2018-19-02 - False\n"
     ]
    }
   ],
   "source": [
    "test_timelist(stream)"
   ]
  },
  {
   "cell_type": "markdown",
   "metadata": {},
   "source": [
    "Задание 3\n",
    "\n",
    "Напишите функцию date_range, которая возвращает список дат за период от start_date до end_date. Даты должны вводиться в формате YYYY-MM-DD. В случае неверного формата или при start_date > end_date должен возвращаться пустой список."
   ]
  },
  {
   "cell_type": "code",
   "execution_count": 37,
   "metadata": {},
   "outputs": [],
   "source": [
    "import sys\n",
    "def test_range(list_, start_date, end_date ):\n",
    "    l_to_return = []\n",
    "    try:\n",
    "        st_data_dt = dt.datetime.strptime(start_date, '%Y-%m-%d')\n",
    "        en_data_dt = dt.datetime.strptime(end_date, '%Y-%m-%d')\n",
    "    except ValueError:\n",
    "        l_to_return.clear()\n",
    "        return l_to_return\n",
    "    for i in list_:\n",
    "        try:\n",
    "            if st_data_dt < en_data_dt:\n",
    "                dt.datetime.strptime(i, '%Y-%m-%d')\n",
    "                l_to_return.append(i)\n",
    "            else:\n",
    "                l_to_return.clear()\n",
    "                print(l_to_return)\n",
    "                break\n",
    "        except ValueError:\n",
    "            l_to_return.clear()\n",
    "            print(l_to_return)\n",
    "            break\n",
    "    print(l_to_return)"
   ]
  },
  {
   "cell_type": "code",
   "execution_count": 38,
   "metadata": {},
   "outputs": [
    {
     "name": "stdout",
     "output_type": "stream",
     "text": [
      "['2018-04-2', '2018-02-9', '2018-09-02', '2018-05-24']\n"
     ]
    }
   ],
   "source": [
    "stream = ['2018-04-2', '2018-02-9', '2018-09-02', '2018-05-24']\n",
    "test_range(stream, '2017-08-22', '2019-12-23')\n"
   ]
  }
 ],
 "metadata": {
  "kernelspec": {
   "display_name": "Python 3.9.13 64-bit (windows store)",
   "language": "python",
   "name": "python3"
  },
  "language_info": {
   "codemirror_mode": {
    "name": "ipython",
    "version": 3
   },
   "file_extension": ".py",
   "mimetype": "text/x-python",
   "name": "python",
   "nbconvert_exporter": "python",
   "pygments_lexer": "ipython3",
   "version": "3.9.13"
  },
  "orig_nbformat": 4,
  "vscode": {
   "interpreter": {
    "hash": "200ebbd607595889f78ab90cd33e5b2d7d952683c406cf769739ea41b147450e"
   }
  }
 },
 "nbformat": 4,
 "nbformat_minor": 2
}
