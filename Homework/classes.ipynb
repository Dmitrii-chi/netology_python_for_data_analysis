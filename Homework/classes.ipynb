{
 "cells": [
  {
   "cell_type": "markdown",
   "metadata": {},
   "source": [
    "Задание 1\n",
    "\n",
    "Напишите функцию, которая возвращает название валюты (поле ‘Name’) с максимальным значением курса с помощью сервиса www.cbr-xml-daily.ru...ly_json.js"
   ]
  },
  {
   "cell_type": "code",
   "execution_count": 2,
   "metadata": {},
   "outputs": [],
   "source": [
    "# Импортируем необходимые модули, добавляем их пути\n",
    "import sys\n",
    "sys.path.append('C:\\\\Users\\\\chiku\\\\Desktop\\\\DS\\\\netology_python_for_data_analysis\\\\data\\\\libs')\n",
    "sys.path.append(r'C:\\Users\\chiku\\AppData\\Local\\Packages\\PythonSoftwareFoundation.Python.3.9_qbz5n2kfra8p0\\LocalCache\\local-packages\\Python39\\Scripts')\n",
    "import requests"
   ]
  },
  {
   "cell_type": "code",
   "execution_count": 3,
   "metadata": {},
   "outputs": [],
   "source": [
    "# Создадим функцию по поиску максимального значения валюты\n",
    "def found_name_of_max_value():\n",
    "    r = requests.get('https://www.cbr-xml-daily.ru/daily_json.js')\n",
    "    dict_ = r.json()['Valute']\n",
    "    value_m = 0.00\n",
    "    keys_list = (r.json()['Valute']).keys()\n",
    "    for i in keys_list:\n",
    "        if value_m < ((dict_[i])['Value']):\n",
    "            value_m = ((dict_[i])['Value'])\n",
    "            name_max = ((dict_[i])['Name'])\n",
    "        else:\n",
    "            pass\n",
    "    return name_max\n"
   ]
  },
  {
   "cell_type": "code",
   "execution_count": 4,
   "metadata": {},
   "outputs": [
    {
     "data": {
      "text/plain": [
       "'Китайских юаней'"
      ]
     },
     "execution_count": 4,
     "metadata": {},
     "output_type": "execute_result"
    }
   ],
   "source": [
    "found_name_of_max_value()"
   ]
  },
  {
   "cell_type": "markdown",
   "metadata": {},
   "source": [
    "Задание 2\n",
    "\n",
    "Добавьте в класс Rate параметр diff (со значениями True или False), который в случае значения True в методах курсов валют (eur, usd итд) будет возвращать не курс валюты, а изменение по сравнению в прошлым значением. Считайте, self.diff будет принимать значение True только при возврате значения курса. При отображении всей информации о валюте он не используется."
   ]
  },
  {
   "cell_type": "code",
   "execution_count": 8,
   "metadata": {},
   "outputs": [
    {
     "data": {
      "text/plain": [
       "1.5964000000000027"
      ]
     },
     "execution_count": 8,
     "metadata": {},
     "output_type": "execute_result"
    }
   ],
   "source": [
    "from exchange import Rate\n",
    "t = Rate()\n",
    "#Добавили условие на вывод разницы валют в класс Rate\n",
    "t.make_format('EUR', True)"
   ]
  },
  {
   "cell_type": "markdown",
   "metadata": {},
   "source": [
    "Задание 3\n",
    "\n",
    "Напишите класс Designer, который учитывает количество международных премий. Подсказки в коде занятия в разделе “Домашнее задание задача 3”.\n",
    "\n",
    "Комментарий по классу Designer такой:\n",
    "Напишите класс Designer, который учитывает количество международных премий для дизайнеров (из презентации: “Повышение на 1 грейд за каждые 7 баллов. Получение международной премии – это +2 балла”). Считайте, что при выходе на работу сотрудник уже имеет две премии и их количество не меняется со стажем (конечно если хотите это можно вручную менять).\n",
    "\n",
    "Класс Designer пишется по аналогии с классом Developer из материалов занятия."
   ]
  },
  {
   "cell_type": "code",
   "execution_count": 19,
   "metadata": {},
   "outputs": [],
   "source": [
    "class Employee:\n",
    "    def __init__(self, name, seniority,):\n",
    "        self.name = name\n",
    "        self.seniority = seniority\n",
    "        self.grade = 1\n",
    "    \n",
    "    def grade_up(self):\n",
    "        \"\"\"Повышает уровень сотрудника\"\"\"\n",
    "        self.grade += 1\n",
    "    \n",
    "    def publish_grade(self):\n",
    "        \"\"\"Публикация результатов аккредитации сотрудников\"\"\"\n",
    "        print(self.name, self.grade)\n",
    "    \n",
    "    def check_if_it_is_time_for_upgrade(self):\n",
    "        pass"
   ]
  },
  {
   "cell_type": "code",
   "execution_count": 21,
   "metadata": {},
   "outputs": [],
   "source": [
    "class Designer(Employee):\n",
    "    def __init__(self, name, seniority, awards):\n",
    "        super().__init__(name, seniority)\n",
    "        self.awards = 2\n",
    "\n",
    "    def grade_up_(self):\n",
    "        \"\"\"Повышение уровня сотрудника\"\"\"\n",
    "        if self.seniority % 7 == 0:\n",
    "            grade_up(self)\n",
    "        else:\n",
    "            pass\n",
    "    def award_get(self):\n",
    "        \"\"\"Получение международной премии\"\"\"\n",
    "        self.awards += 1\n",
    "        self.seniority += 2\n",
    "\n",
    "    \n"
   ]
  },
  {
   "cell_type": "code",
   "execution_count": 23,
   "metadata": {},
   "outputs": [
    {
     "ename": "TypeError",
     "evalue": "__init__() missing 2 required positional arguments: 'seniority' and 'awards'",
     "output_type": "error",
     "traceback": [
      "\u001b[1;31m---------------------------------------------------------------------------\u001b[0m",
      "\u001b[1;31mTypeError\u001b[0m                                 Traceback (most recent call last)",
      "\u001b[1;32mDmitrii-chi\\netology_python_for_data_analysis\\Homework\\classes.ipynb Ячейка 10\u001b[0m in \u001b[0;36m<cell line: 1>\u001b[1;34m()\u001b[0m\n\u001b[1;32m----> <a href='vscode-notebook-cell://github/Dmitrii-chi/netology_python_for_data_analysis/Homework/classes.ipynb#ch0000011vscode-vfs?line=0'>1</a>\u001b[0m q \u001b[39m=\u001b[39m Designer(Employee)\n",
      "\u001b[1;31mTypeError\u001b[0m: __init__() missing 2 required positional arguments: 'seniority' and 'awards'"
     ]
    }
   ],
   "source": [
    "q = Designer(Employee)"
   ]
  },
  {
   "cell_type": "code",
   "execution_count": null,
   "metadata": {},
   "outputs": [],
   "source": []
  }
 ],
 "metadata": {
  "kernelspec": {
   "display_name": "Python 3.9.13 64-bit (windows store)",
   "language": "python",
   "name": "python3"
  },
  "language_info": {
   "codemirror_mode": {
    "name": "ipython",
    "version": 3
   },
   "file_extension": ".py",
   "mimetype": "text/x-python",
   "name": "python",
   "nbconvert_exporter": "python",
   "pygments_lexer": "ipython3",
   "version": "3.9.13"
  },
  "orig_nbformat": 4,
  "vscode": {
   "interpreter": {
    "hash": "200ebbd607595889f78ab90cd33e5b2d7d952683c406cf769739ea41b147450e"
   }
  }
 },
 "nbformat": 4,
 "nbformat_minor": 2
}
