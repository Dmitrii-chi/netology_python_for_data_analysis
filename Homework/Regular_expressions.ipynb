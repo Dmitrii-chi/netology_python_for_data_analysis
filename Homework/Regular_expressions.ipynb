{
 "cells": [
  {
   "cell_type": "markdown",
   "metadata": {},
   "source": [
    "Задание 1\n",
    "\n",
    "Напишите функцию, которая принимает на вход строку и проверяет является ли она валидным транспортным номером (1 буква, 3 цифры, 2 буквы, 2-3 цифры). Обратите внимание, что не все буквы кириллического алфавита используются в транспортных номерах.\n",
    "\n",
    "Если номер валиден, то функция должна возвращать отдельно номер и регион."
   ]
  },
  {
   "cell_type": "code",
   "execution_count": 19,
   "metadata": {},
   "outputs": [],
   "source": [
    "def car_id_check(car_id):\n",
    "    import re\n",
    "    if (re.findall(r'[АВЕКМНОРСТУХ]{1}\\d{3}[АВЕКМНОРСТУХ]{2}\\d{2,3}', car_id)) != []:\n",
    "        number = re.findall(r'[АВЕКМНОРСТУХ]{1}\\d{3}[АВЕКМНОРСТУХ]{2}', car_id)\n",
    "        region = car_id.replace(number[0], '')\n",
    "        print(f'Результат: Номер {number[0]} валиден. Регион: {region}')\n",
    "    else:\n",
    "        return 'Результат: Номер не валиден'\n",
    "    \n",
    "\n"
   ]
  },
  {
   "cell_type": "code",
   "execution_count": 20,
   "metadata": {},
   "outputs": [
    {
     "data": {
      "text/plain": [
       "'Результат: Номер не валиден'"
      ]
     },
     "execution_count": 20,
     "metadata": {},
     "output_type": "execute_result"
    }
   ],
   "source": [
    "car_id_check(\"Ы456МН799\")"
   ]
  },
  {
   "cell_type": "markdown",
   "metadata": {},
   "source": [
    "Задание 2\n",
    "\n",
    "Напишите функцию, которая будет удалять все последовательные повторы слов из заданной строки при помощи регулярных выражений."
   ]
  },
  {
   "cell_type": "code",
   "execution_count": 52,
   "metadata": {},
   "outputs": [
    {
     "data": {
      "text/plain": [
       "'Напишите функцию, которая будет будет удалять все все последовательные повторы слов из из заданной строки при помощи регулярных выражений.'"
      ]
     },
     "execution_count": 52,
     "metadata": {},
     "output_type": "execute_result"
    }
   ],
   "source": [
    "def del_repeat_w (string):\n",
    "    import re\n",
    "    return re.sub(r'(\\w+)(\\s\\1)', r'\\1', string)\n",
    "\n",
    "string = 'Напишите функцию функцию, которая будет будет будет будет удалять все все все все последовательные повторы слов из из из из заданной строки строки при помощи регулярных выражений.'\n",
    "del_repeat_w(string)"
   ]
  },
  {
   "cell_type": "markdown",
   "metadata": {},
   "source": [
    "Задание 3\n",
    "\n",
    "Напишите функцию, которая будет возвращать акроним по переданной в нее строке со словами."
   ]
  },
  {
   "cell_type": "code",
   "execution_count": 61,
   "metadata": {},
   "outputs": [
    {
     "data": {
      "text/plain": [
       "'ИТ'"
      ]
     },
     "execution_count": 61,
     "metadata": {},
     "output_type": "execute_result"
    }
   ],
   "source": [
    "some_words = 'Информационные технологии'\n",
    "def acron(string):\n",
    "    import re\n",
    "    return (''.join((re.findall(r'(\\w)\\w+', string)))).upper()\n",
    "acron(some_words)"
   ]
  },
  {
   "cell_type": "markdown",
   "metadata": {},
   "source": [
    "Задание 4\n",
    "\n",
    "Напишите функцию, которая будет принимать на вход список email-адресов и выводить их распределение по доменным зонам."
   ]
  },
  {
   "cell_type": "code",
   "execution_count": 153,
   "metadata": {},
   "outputs": [
    {
     "name": "stdout",
     "output_type": "stream",
     "text": [
      "@gmail.com: 2\n",
      "@test.in: 1\n",
      "@ya.ru: 2\n",
      "@mail.ru: 1\n"
     ]
    }
   ],
   "source": [
    "emails = ['test@gmail.com', 'xyz@test.in', 'test@ya.ru', 'xyz@mail.ru', 'xyz@ya.ru', 'xyz@gmail.com']\n",
    "def sep_emails(emails):\n",
    "    import re\n",
    "    dict_emails = {}\n",
    "    for i in emails:\n",
    "        g = re.findall(r'@\\w+.\\w{2,3}', i)\n",
    "        if g[0] in dict_emails:\n",
    "            pass\n",
    "        else:\n",
    "            for t in emails:\n",
    "                if g == re.findall(r'@\\w+.\\w{2,3}', t):\n",
    "                    dict_emails.setdefault(((re.findall(r'@\\w+.\\w{2,3}', t))[0]),0)\n",
    "                    dict_emails[(re.findall(r'@\\w+.\\w{2,3}', t))[0]] +=1\n",
    "                    value_ = (dict_emails[(re.findall(r'@\\w+.\\w{2,3}', t))[0]])\n",
    "                    key_ = ((re.findall(r'@\\w+.\\w{2,3}', t))[0])\n",
    "            print(f\"{key_}: {value_}\")\n",
    "\n",
    "sep_emails(emails)"
   ]
  }
 ],
 "metadata": {
  "kernelspec": {
   "display_name": "Python 3.9.13 64-bit (windows store)",
   "language": "python",
   "name": "python3"
  },
  "language_info": {
   "codemirror_mode": {
    "name": "ipython",
    "version": 3
   },
   "file_extension": ".py",
   "mimetype": "text/x-python",
   "name": "python",
   "nbconvert_exporter": "python",
   "pygments_lexer": "ipython3",
   "version": "3.9.13"
  },
  "orig_nbformat": 4,
  "vscode": {
   "interpreter": {
    "hash": "200ebbd607595889f78ab90cd33e5b2d7d952683c406cf769739ea41b147450e"
   }
  }
 },
 "nbformat": 4,
 "nbformat_minor": 2
}
