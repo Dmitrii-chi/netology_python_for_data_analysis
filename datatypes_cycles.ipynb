{
 "cells": [
  {
   "cell_type": "markdown",
   "id": "8d0b86fb",
   "metadata": {},
   "source": [
    "Задание 1\n",
    "\n",
    "\n",
    "Дана переменная, в которой хранится слово из латинских букв. Напишите код, который выводит на экран:\n",
    "\n",
    "среднюю букву, если число букв в слове нечетное;\n",
    "две средних буквы, если число букв четное."
   ]
  },
  {
   "cell_type": "code",
   "execution_count": 12,
   "id": "27c99fdf",
   "metadata": {},
   "outputs": [],
   "source": [
    "word = 'testing'\n",
    "value_of_letters = len(word)"
   ]
  },
  {
   "cell_type": "code",
   "execution_count": 13,
   "id": "81829524",
   "metadata": {},
   "outputs": [
    {
     "name": "stdout",
     "output_type": "stream",
     "text": [
      "t\n"
     ]
    }
   ],
   "source": [
    "odd_print = value_of_letters//2\n",
    "even_print = int(value_of_letters/2)\n",
    "if value_of_letters % 2 != 0:\n",
    "    print(word[odd_print])\n",
    "else:\n",
    "    print(word [even_print -1 : even_print+1])\n"
   ]
  },
  {
   "cell_type": "markdown",
   "id": "3a94cffc",
   "metadata": {},
   "source": [
    "Задание 2\n",
    "\n",
    "Напишите программу, которая последовательно запрашивает у пользователя числа (по одному за раз) и после первого нуля выводит сумму всех ранее введенных чисел."
   ]
  },
  {
   "cell_type": "code",
   "execution_count": 53,
   "id": "5bcb47a5",
   "metadata": {},
   "outputs": [
    {
     "name": "stdout",
     "output_type": "stream",
     "text": [
      "введите число - 5\n",
      "введите число - 5\n",
      "введите число - 10\n",
      "введите число - 0\n"
     ]
    },
    {
     "data": {
      "text/plain": [
       "20"
      ]
     },
     "execution_count": 53,
     "metadata": {},
     "output_type": "execute_result"
    }
   ],
   "source": [
    "count = 0\n",
    "number = None\n",
    "while number != 0:\n",
    "    number = int(input(\"введите число - \"))\n",
    "    count += number\n",
    "\n",
    "count  \n",
    "    \n",
    "    "
   ]
  },
  {
   "cell_type": "markdown",
   "id": "74c2b28c",
   "metadata": {},
   "source": [
    "Задание 3\n",
    "\n",
    "Мы делаем MVP dating-сервиса, и у нас есть список парней и девушек.\n",
    "Выдвигаем гипотезу: лучшие рекомендации мы получим, если просто отсортируем имена по алфавиту и познакомим людей с одинаковыми индексами после сортировки! Но мы не будем никого знакомить, если кто-то может остаться без пары:"
   ]
  },
  {
   "cell_type": "code",
   "execution_count": 61,
   "id": "7895d868",
   "metadata": {},
   "outputs": [],
   "source": [
    "boys = ['Peter', 'Alex', 'John', 'Arthur', 'Richard']\n",
    "girls = ['Kate', 'Liza', 'Kira', 'Emma', 'Trisha']"
   ]
  },
  {
   "cell_type": "code",
   "execution_count": 62,
   "id": "b74a5e50",
   "metadata": {},
   "outputs": [
    {
     "name": "stdout",
     "output_type": "stream",
     "text": [
      "[('Alex', 'Emma'), ('Arthur', 'Kate'), ('John', 'Kira'), ('Peter', 'Liza'), ('Richard', 'Trisha')]\n"
     ]
    }
   ],
   "source": [
    "boys.sort()\n",
    "girls.sort()\n",
    "if len(boys) != len(girls):\n",
    "    print(\"не найдены пары для всех\")\n",
    "else:\n",
    "    caples = zip(boys,girls)\n",
    "    print(list(caples))\n",
    "        "
   ]
  },
  {
   "cell_type": "markdown",
   "id": "0c7f6f1a",
   "metadata": {},
   "source": [
    "Задание 4\n",
    "\n",
    "У нас есть список, содержащий информацию о среднедневной температуре в Фаренгейтах за произвольный период по странам (структура данных в примере). Необходимо написать код, который рассчитает среднюю температуру за период в Цельсиях(!) для каждой страны."
   ]
  },
  {
   "cell_type": "code",
   "execution_count": 35,
   "id": "c3eda67f",
   "metadata": {},
   "outputs": [],
   "source": [
    "countries_temperature = [['Thailand', [75.2, 77, 78.8, 73.4, 68, 75.2, 77]], \n",
    "                         ['Germany', [57.2, 55.4, 59, 59, 53.6]], \n",
    "                         ['Russia', [35.6, 37.4, 39.2, 41, 42.8, 39.2, 35.6]],\n",
    "                         ['Poland', [50, 50, 53.6, 57.2, 55.4, 55.4]]\n",
    "]"
   ]
  },
  {
   "cell_type": "code",
   "execution_count": 74,
   "id": "583cd4c7",
   "metadata": {},
   "outputs": [
    {
     "name": "stdout",
     "output_type": "stream",
     "text": [
      "Средняя температура в странах:\n",
      "Thailand = 273.67 C\n",
      "Germany =  140.11 C\n",
      "Russia = 132.67 C\n",
      "Poland = 160.89 C\n"
     ]
    }
   ],
   "source": [
    "Thailand = ((sum(countries_temperature[0][1])) - 32) / 1.8\n",
    "Germany = ((sum(countries_temperature[1][1])) - 32) / 1.8\n",
    "Russia = ((sum(countries_temperature[2][1])) - 32) / 1.8\n",
    "Poland = ((sum(countries_temperature[3][1])) - 32) / 1.8\n",
    "print('Средняя температура в странах:', f'Thailand = {Thailand :.2f} C', \n",
    "      f'Germany =  {Germany :.2f} C', f'Russia = {Russia :.2f} C', \n",
    "       f'Poland = {Poland :.2f} C', sep='\\n')"
   ]
  },
  {
   "cell_type": "markdown",
   "id": "7ba728c9",
   "metadata": {},
   "source": [
    "Задание 5\n",
    "\n",
    "Дан поток логов по количеству просмотренных страниц для каждого пользователя. Вам необходимо написать алгоритм, который считает среднее значение просмотров на пользователя. Т. е. надо посчитать отношение суммы всех просмотров к количеству уникальных пользователей."
   ]
  },
  {
   "cell_type": "code",
   "execution_count": 96,
   "id": "126b4ad3",
   "metadata": {},
   "outputs": [],
   "source": [
    "stream = [\n",
    "    '2018-01-01,user1,3',\n",
    "    '2018-01-07,user1,4',\n",
    "    '2018-03-29,user1,1',\n",
    "    '2018-04-04,user1,13',\n",
    "    '2018-01-05,user2,7',\n",
    "    '2018-06-14,user3,4',\n",
    "    '2018-07-02,user3,10',\n",
    "    '2018-03-21,user4,19',\n",
    "    '2018-03-22,user4,4',\n",
    "    '2018-04-22,user4,8',\n",
    "    '2018-05-03,user4,9',\n",
    "    '2018-05-11,user4,11',\n",
    "]"
   ]
  },
  {
   "cell_type": "code",
   "execution_count": 112,
   "id": "f4929679",
   "metadata": {},
   "outputs": [
    {
     "data": {
      "text/plain": [
       "[['user1', '3'],\n",
       " ['user1', '4'],\n",
       " ['user1', '1'],\n",
       " ['user1', '13'],\n",
       " ['user2', '7'],\n",
       " ['user3', '4'],\n",
       " ['user3', '10'],\n",
       " ['user4', '19'],\n",
       " ['user4', '4'],\n",
       " ['user4', '8'],\n",
       " ['user4', '9'],\n",
       " ['user4', '11']]"
      ]
     },
     "execution_count": 112,
     "metadata": {},
     "output_type": "execute_result"
    }
   ],
   "source": [
    "user_name_visits_list = []\n",
    "# Создаем список с нужными данными\n",
    "for el in stream:\n",
    "    element = el[11:]\n",
    "    user_name_visits = element.split(',')\n",
    "    user_name_visits_list.append(user_name_visits)\n",
    "user_name_visits_list    \n"
   ]
  },
  {
   "cell_type": "code",
   "execution_count": 135,
   "id": "ebe1e8dc",
   "metadata": {},
   "outputs": [],
   "source": [
    "#расчет количества уникальных пользователей \n",
    "user_all = []\n",
    "for user in user_name_visits_list:\n",
    "    users = user[0]\n",
    "    user_all.append(users)\n",
    "uniq_users = len(list(set(user_all)))\n",
    "\n",
    "    "
   ]
  },
  {
   "cell_type": "code",
   "execution_count": 145,
   "id": "af420aed",
   "metadata": {},
   "outputs": [],
   "source": [
    "#сумма всех просмотров\n",
    "vis_all = []\n",
    "for user in user_name_visits_list:\n",
    "    vis = float(user[1])\n",
    "    vis_all.append(vis)\n",
    "sum_vis = sum(vis_all)\n"
   ]
  },
  {
   "cell_type": "code",
   "execution_count": 148,
   "id": "c9e031ce",
   "metadata": {},
   "outputs": [
    {
     "data": {
      "text/plain": [
       "23.25"
      ]
     },
     "execution_count": 148,
     "metadata": {},
     "output_type": "execute_result"
    }
   ],
   "source": [
    "#отношение суммы всех просмотров к количеству уникальных пользователей\n",
    "result = sum_vis/uniq_users\n",
    "result"
   ]
  }
 ],
 "metadata": {
  "kernelspec": {
   "display_name": "Python 3 (ipykernel)",
   "language": "python",
   "name": "python3"
  },
  "language_info": {
   "codemirror_mode": {
    "name": "ipython",
    "version": 3
   },
   "file_extension": ".py",
   "mimetype": "text/x-python",
   "name": "python",
   "nbconvert_exporter": "python",
   "pygments_lexer": "ipython3",
   "version": "3.9.12"
  }
 },
 "nbformat": 4,
 "nbformat_minor": 5
}
