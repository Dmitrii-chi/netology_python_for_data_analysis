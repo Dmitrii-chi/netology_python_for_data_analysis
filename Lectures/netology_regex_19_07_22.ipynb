{
  "cells": [
    {
      "cell_type": "markdown",
      "metadata": {
        "id": "T14fj_LH_mVr"
      },
      "source": [
        "# Регулярные выражения\n",
        "\n",
        "Булыгин Олег  \n",
        " \n",
        "* [LinkedIn](linkedin.com/in/obulygin)  \n",
        "* [Мой канал в ТГ по Python](https://t.me/solidtalk)"
      ]
    },
    {
      "cell_type": "code",
      "execution_count": null,
      "metadata": {
        "id": "bfG5_RuypQlt"
      },
      "outputs": [],
      "source": [
        "import re"
      ]
    },
    {
      "cell_type": "code",
      "execution_count": null,
      "metadata": {
        "id": "WxQkHgKD_hy5"
      },
      "outputs": [],
      "source": [
        "re.findall(r'id\\d+', msg)"
      ]
    },
    {
      "cell_type": "code",
      "execution_count": null,
      "metadata": {
        "id": "mCafPRzv_hy9"
      },
      "outputs": [],
      "source": [
        "# найдем идентификаторы пользователей в тексте\n",
        "msg = 'В розыгрыше победили: id1234563, id4653, id461'"
      ]
    },
    {
      "cell_type": "code",
      "execution_count": null,
      "metadata": {
        "colab": {
          "base_uri": "https://localhost:8080/"
        },
        "id": "mvfyZlvS_hy-",
        "outputId": "55a2ef79-cf0b-47cd-be7e-13c77e6a256a"
      },
      "outputs": [
        {
          "data": {
            "text/plain": [
              "['id1234563', 'id4653', 'id461']"
            ]
          },
          "execution_count": 3,
          "metadata": {},
          "output_type": "execute_result"
        }
      ],
      "source": [
        "re.findall(r'id\\d+', msg)"
      ]
    },
    {
      "cell_type": "code",
      "execution_count": null,
      "metadata": {
        "id": "38hqT0YP_hzA"
      },
      "outputs": [],
      "source": [
        "# ПРАКТИКА. Найдем хэштеги в твите\n",
        "tweet = 'когда #эпидемия, то обязательно #оставайсядома'"
      ]
    },
    {
      "cell_type": "code",
      "execution_count": null,
      "metadata": {
        "colab": {
          "base_uri": "https://localhost:8080/"
        },
        "id": "QYLyEyPF_hzB",
        "outputId": "7bb2df2e-b38f-40e9-8295-161b7c3f05ad"
      },
      "outputs": [
        {
          "data": {
            "text/plain": [
              "['#эпидемия', '#оставайсядома']"
            ]
          },
          "execution_count": 6,
          "metadata": {},
          "output_type": "execute_result"
        }
      ],
      "source": [
        "re.findall(r'#\\w+', tweet)"
      ]
    },
    {
      "cell_type": "code",
      "execution_count": null,
      "metadata": {
        "colab": {
          "base_uri": "https://localhost:8080/"
        },
        "id": "RnYSvVVOSPgI",
        "outputId": "5388e0ef-767e-406a-ec8d-03cbf37f6c08"
      },
      "outputs": [
        {
          "data": {
            "text/plain": [
              "['#эпидемия', '#оставайсядома']"
            ]
          },
          "execution_count": 7,
          "metadata": {},
          "output_type": "execute_result"
        }
      ],
      "source": [
        "re.findall(r'#\\w*', tweet)"
      ]
    },
    {
      "cell_type": "code",
      "execution_count": null,
      "metadata": {
        "colab": {
          "base_uri": "https://localhost:8080/"
        },
        "id": "cHwDdYwUSVB2",
        "outputId": "28f355d0-07f5-48d5-ae50-ab1b39422ae1"
      },
      "outputs": [
        {
          "data": {
            "text/plain": [
              "['#эпидемия', '#оставайсядома']"
            ]
          },
          "execution_count": 8,
          "metadata": {},
          "output_type": "execute_result"
        }
      ],
      "source": [
        "re.findall(r'#\\w+', tweet)"
      ]
    },
    {
      "cell_type": "code",
      "execution_count": null,
      "metadata": {
        "colab": {
          "base_uri": "https://localhost:8080/"
        },
        "id": "aXL7AVXgSscp",
        "outputId": "fe0bb976-0d2f-4f8e-fcfd-988cf384cefa"
      },
      "outputs": [
        {
          "data": {
            "text/plain": [
              "['#эпидемия, то обязательно #оставайсядома']"
            ]
          },
          "execution_count": 9,
          "metadata": {},
          "output_type": "execute_result"
        }
      ],
      "source": [
        "re.findall(r'#\\D+', tweet)"
      ]
    },
    {
      "cell_type": "markdown",
      "metadata": {
        "id": "0R7hBBVBBiI7"
      },
      "source": []
    },
    {
      "cell_type": "code",
      "execution_count": null,
      "metadata": {
        "id": "QdLpzlNB_hzB"
      },
      "outputs": [],
      "source": [
        "# посмотрим внимательнее, как работают quantifiers\n",
        "text = \"\"\"Что такое регулярные выражения и как их использовать? \n",
        "Говоря простым языком, регулярное выражение — это последовательность символов, используемая для поиска и замены текста в строке или файле. Как уже было упомянуто,\\\n",
        "их поддерживает множество языков общего назначения: Python, Perl, R.\n",
        "Так что изучение регулярных выражений рано или поздно пригодится.\"\"\""
      ]
    },
    {
      "cell_type": "code",
      "execution_count": null,
      "metadata": {
        "colab": {
          "base_uri": "https://localhost:8080/"
        },
        "id": "R9VklNwz_hzC",
        "outputId": "82a7b217-e88f-4f05-beae-bddac0c16801",
        "scrolled": true
      },
      "outputs": [
        {
          "data": {
            "text/plain": [
              "['Что',\n",
              " 'такое',\n",
              " 'регулярные',\n",
              " 'выражения',\n",
              " 'и',\n",
              " 'как',\n",
              " 'их',\n",
              " 'использовать',\n",
              " 'Говоря',\n",
              " 'простым',\n",
              " 'языком',\n",
              " 'регулярное',\n",
              " 'выражение',\n",
              " 'это',\n",
              " 'последовательность',\n",
              " 'символов',\n",
              " 'используемая',\n",
              " 'для',\n",
              " 'поиска',\n",
              " 'и',\n",
              " 'замены',\n",
              " 'текста',\n",
              " 'в',\n",
              " 'строке',\n",
              " 'или',\n",
              " 'файле',\n",
              " 'Как',\n",
              " 'уже',\n",
              " 'было',\n",
              " 'упомянуто',\n",
              " 'их',\n",
              " 'поддерживает',\n",
              " 'множество',\n",
              " 'языков',\n",
              " 'общего',\n",
              " 'назначения',\n",
              " 'Python',\n",
              " 'Perl',\n",
              " 'R',\n",
              " 'Так',\n",
              " 'что',\n",
              " 'изучение',\n",
              " 'регулярных',\n",
              " 'выражений',\n",
              " 'рано',\n",
              " 'или',\n",
              " 'поздно',\n",
              " 'пригодится']"
            ]
          },
          "execution_count": 11,
          "metadata": {},
          "output_type": "execute_result"
        }
      ],
      "source": [
        "re.findall(r'\\w+', text)"
      ]
    },
    {
      "cell_type": "code",
      "execution_count": null,
      "metadata": {
        "colab": {
          "base_uri": "https://localhost:8080/"
        },
        "id": "C9ofKbAc_hzC",
        "outputId": "ae84b45f-c8f4-46d3-897d-29f30ee8a99d"
      },
      "outputs": [
        {
          "data": {
            "text/plain": [
              "['Что',\n",
              " '',\n",
              " 'такое',\n",
              " '',\n",
              " 'регулярные',\n",
              " '',\n",
              " 'выражения',\n",
              " '',\n",
              " 'и',\n",
              " '',\n",
              " 'как',\n",
              " '',\n",
              " 'их',\n",
              " '',\n",
              " 'использовать',\n",
              " '',\n",
              " '',\n",
              " '',\n",
              " 'Говоря',\n",
              " '',\n",
              " 'простым',\n",
              " '',\n",
              " 'языком',\n",
              " '',\n",
              " '',\n",
              " 'регулярное',\n",
              " '',\n",
              " 'выражение',\n",
              " '',\n",
              " '',\n",
              " '',\n",
              " 'это',\n",
              " '',\n",
              " 'последовательность',\n",
              " '',\n",
              " 'символов',\n",
              " '',\n",
              " '',\n",
              " 'используемая',\n",
              " '',\n",
              " 'для',\n",
              " '',\n",
              " 'поиска',\n",
              " '',\n",
              " 'и',\n",
              " '',\n",
              " 'замены',\n",
              " '',\n",
              " 'текста',\n",
              " '',\n",
              " 'в',\n",
              " '',\n",
              " 'строке',\n",
              " '',\n",
              " 'или',\n",
              " '',\n",
              " 'файле',\n",
              " '',\n",
              " '',\n",
              " 'Как',\n",
              " '',\n",
              " 'уже',\n",
              " '',\n",
              " 'было',\n",
              " '',\n",
              " 'упомянуто',\n",
              " '',\n",
              " 'их',\n",
              " '',\n",
              " 'поддерживает',\n",
              " '',\n",
              " 'множество',\n",
              " '',\n",
              " 'языков',\n",
              " '',\n",
              " 'общего',\n",
              " '',\n",
              " 'назначения',\n",
              " '',\n",
              " '',\n",
              " 'Python',\n",
              " '',\n",
              " '',\n",
              " 'Perl',\n",
              " '',\n",
              " '',\n",
              " 'R',\n",
              " '',\n",
              " '',\n",
              " 'Так',\n",
              " '',\n",
              " 'что',\n",
              " '',\n",
              " 'изучение',\n",
              " '',\n",
              " 'регулярных',\n",
              " '',\n",
              " 'выражений',\n",
              " '',\n",
              " 'рано',\n",
              " '',\n",
              " 'или',\n",
              " '',\n",
              " 'поздно',\n",
              " '',\n",
              " 'пригодится',\n",
              " '',\n",
              " '']"
            ]
          },
          "execution_count": 12,
          "metadata": {},
          "output_type": "execute_result"
        }
      ],
      "source": [
        "re.findall(r'\\w*', text)"
      ]
    },
    {
      "cell_type": "code",
      "execution_count": null,
      "metadata": {
        "colab": {
          "base_uri": "https://localhost:8080/"
        },
        "id": "WRBcmiin_hzD",
        "outputId": "0051e37e-bb68-41c5-cc9f-8752fe54c42d",
        "scrolled": false
      },
      "outputs": [
        {
          "name": "stdout",
          "output_type": "stream",
          "text": [
            "['Ч', 'т', 'о', '', 'т', 'а', 'к', 'о', 'е', '', 'р', 'е', 'г', 'у', 'л', 'я', 'р', 'н', 'ы', 'е', '', 'в', 'ы', 'р', 'а', 'ж', 'е', 'н', 'и', 'я', '', 'и', '', 'к', 'а', 'к', '', 'и', 'х', '', 'и', 'с', 'п', 'о', 'л', 'ь', 'з', 'о', 'в', 'а', 'т', 'ь', '', '', '', 'Г', 'о', 'в', 'о', 'р', 'я', '', 'п', 'р', 'о', 'с', 'т', 'ы', 'м', '', 'я', 'з', 'ы', 'к', 'о', 'м', '', '', 'р', 'е', 'г', 'у', 'л', 'я', 'р', 'н', 'о', 'е', '', 'в', 'ы', 'р', 'а', 'ж', 'е', 'н', 'и', 'е', '', '', '', 'э', 'т', 'о', '', 'п', 'о', 'с', 'л', 'е', 'д', 'о', 'в', 'а', 'т', 'е', 'л', 'ь', 'н', 'о', 'с', 'т', 'ь', '', 'с', 'и', 'м', 'в', 'о', 'л', 'о', 'в', '', '', 'и', 'с', 'п', 'о', 'л', 'ь', 'з', 'у', 'е', 'м', 'а', 'я', '', 'д', 'л', 'я', '', 'п', 'о', 'и', 'с', 'к', 'а', '', 'и', '', 'з', 'а', 'м', 'е', 'н', 'ы', '', 'т', 'е', 'к', 'с', 'т', 'а', '', 'в', '', 'с', 'т', 'р', 'о', 'к', 'е', '', 'и', 'л', 'и', '', 'ф', 'а', 'й', 'л', 'е', '', '', 'К', 'а', 'к', '', 'у', 'ж', 'е', '', 'б', 'ы', 'л', 'о', '', 'у', 'п', 'о', 'м', 'я', 'н', 'у', 'т', 'о', '', 'и', 'х', '', 'п', 'о', 'д', 'д', 'е', 'р', 'ж', 'и', 'в', 'а', 'е', 'т', '', 'м', 'н', 'о', 'ж', 'е', 'с', 'т', 'в', 'о', '', 'я', 'з', 'ы', 'к', 'о', 'в', '', 'о', 'б', 'щ', 'е', 'г', 'о', '', 'н', 'а', 'з', 'н', 'а', 'ч', 'е', 'н', 'и', 'я', '', '', 'P', 'y', 't', 'h', 'o', 'n', '', '', 'P', 'e', 'r', 'l', '', '', 'R', '', '', 'Т', 'а', 'к', '', 'ч', 'т', 'о', '', 'и', 'з', 'у', 'ч', 'е', 'н', 'и', 'е', '', 'р', 'е', 'г', 'у', 'л', 'я', 'р', 'н', 'ы', 'х', '', 'в', 'ы', 'р', 'а', 'ж', 'е', 'н', 'и', 'й', '', 'р', 'а', 'н', 'о', '', 'и', 'л', 'и', '', 'п', 'о', 'з', 'д', 'н', 'о', '', 'п', 'р', 'и', 'г', 'о', 'д', 'и', 'т', 'с', 'я', '', '']\n"
          ]
        }
      ],
      "source": [
        "print(re.findall(r'\\w?', text))"
      ]
    },
    {
      "cell_type": "code",
      "execution_count": null,
      "metadata": {
        "id": "I4FpQWdw_hzE"
      },
      "outputs": [],
      "source": []
    },
    {
      "cell_type": "code",
      "execution_count": null,
      "metadata": {
        "id": "qGntw1Qd_hzE"
      },
      "outputs": [],
      "source": [
        "# необходимо из строки с условными датами вытащить их\n",
        "registration = 'Date of start: 4-12. Date of registration: 20-11'"
      ]
    },
    {
      "cell_type": "code",
      "execution_count": null,
      "metadata": {
        "colab": {
          "base_uri": "https://localhost:8080/"
        },
        "id": "cASR3icl_hzF",
        "outputId": "1f58077f-5170-40dd-ba1c-f10a325c48a5"
      },
      "outputs": [
        {
          "data": {
            "text/plain": [
              "['4-12', '20-11']"
            ]
          },
          "execution_count": 15,
          "metadata": {},
          "output_type": "execute_result"
        }
      ],
      "source": [
        "re.findall(r'\\d{1,2}-\\d{1,2}', registration)"
      ]
    },
    {
      "cell_type": "code",
      "execution_count": null,
      "metadata": {
        "id": "zU0_MXp2_hzF"
      },
      "outputs": [],
      "source": []
    },
    {
      "cell_type": "code",
      "execution_count": null,
      "metadata": {
        "id": "ln3Z3Q3O_hzG"
      },
      "outputs": [],
      "source": [
        "# вытащим номера телефонов и текста\n",
        "phone_numbers = 'Мария: 8-943-342-23-32 Александр: 8-323-432-23-67'"
      ]
    },
    {
      "cell_type": "code",
      "execution_count": null,
      "metadata": {
        "colab": {
          "base_uri": "https://localhost:8080/"
        },
        "id": "tbUFSSXU_hzG",
        "outputId": "60d8fdca-9ddc-47ea-b7e7-c2e73233a285"
      },
      "outputs": [
        {
          "data": {
            "text/plain": [
              "['8-943-342-23-32', '8-323-432-23-67']"
            ]
          },
          "execution_count": 17,
          "metadata": {},
          "output_type": "execute_result"
        }
      ],
      "source": [
        "phone_pattern = r'\\d-\\d{3}-\\d{3}-\\d{2}-\\d{2}'\n",
        "re.findall(phone_pattern, phone_numbers)"
      ]
    },
    {
      "cell_type": "code",
      "execution_count": null,
      "metadata": {
        "id": "4UrQtkT1_hzH"
      },
      "outputs": [],
      "source": []
    },
    {
      "cell_type": "code",
      "execution_count": null,
      "metadata": {
        "id": "zqii2BFP_hzH",
        "scrolled": true
      },
      "outputs": [],
      "source": [
        "# ПРАКТИКА. Свалидируем дату\n",
        "date = 'some text 1st september 2019 07:25 some text'"
      ]
    },
    {
      "cell_type": "code",
      "execution_count": null,
      "metadata": {
        "colab": {
          "base_uri": "https://localhost:8080/"
        },
        "id": "0jQLCAS4_hzH",
        "outputId": "1bc9c502-6160-4668-b37f-dc8e71c1ed41"
      },
      "outputs": [
        {
          "data": {
            "text/plain": [
              "['1st september 2019']"
            ]
          },
          "execution_count": 21,
          "metadata": {},
          "output_type": "execute_result"
        }
      ],
      "source": [
        "re.findall(r'\\d{1,2}\\w{2}\\s\\w+\\s\\d{4}', date)"
      ]
    },
    {
      "cell_type": "code",
      "execution_count": null,
      "metadata": {
        "colab": {
          "base_uri": "https://localhost:8080/"
        },
        "id": "Q6Y6-OTtWwtB",
        "outputId": "45671cad-3e60-4ced-b58c-d331bd2f0f92"
      },
      "outputs": [
        {
          "data": {
            "text/plain": [
              "['1st september 2019']"
            ]
          },
          "execution_count": 23,
          "metadata": {},
          "output_type": "execute_result"
        }
      ],
      "source": [
        "re.findall(r'\\d{1,2}\\w+\\s+\\w+\\s+\\d{4}', date)"
      ]
    },
    {
      "cell_type": "code",
      "execution_count": null,
      "metadata": {
        "colab": {
          "base_uri": "https://localhost:8080/"
        },
        "id": "eJqxbIpgWykX",
        "outputId": "ea4342fb-4195-4349-ef40-29e533f998b7"
      },
      "outputs": [
        {
          "data": {
            "text/plain": [
              "['1st september 2019']"
            ]
          },
          "execution_count": 24,
          "metadata": {},
          "output_type": "execute_result"
        }
      ],
      "source": [
        "re.findall(r'\\d{1,2}\\w{2,3}\\s+\\w+\\s+\\d{4}', date)"
      ]
    },
    {
      "cell_type": "code",
      "execution_count": null,
      "metadata": {
        "colab": {
          "base_uri": "https://localhost:8080/"
        },
        "id": "kIU7h4wFW1rj",
        "outputId": "58656a97-ac07-4468-8e52-5f073fdaa53d"
      },
      "outputs": [
        {
          "data": {
            "text/plain": [
              "['1st september 2019']"
            ]
          },
          "execution_count": 25,
          "metadata": {},
          "output_type": "execute_result"
        }
      ],
      "source": [
        "re.findall(r'\\d{1,2}\\w{2} \\w+ \\d{4}', date)"
      ]
    },
    {
      "cell_type": "code",
      "execution_count": null,
      "metadata": {
        "colab": {
          "base_uri": "https://localhost:8080/"
        },
        "id": "bTVcoJD0W4Y_",
        "outputId": "486f3af0-56bb-4205-e795-2d0ac2f19eca"
      },
      "outputs": [
        {
          "data": {
            "text/plain": [
              "['1st september 2019']"
            ]
          },
          "execution_count": 26,
          "metadata": {},
          "output_type": "execute_result"
        }
      ],
      "source": [
        "re.findall(r'\\d{1,2}\\w{2} \\w+ \\d{4}', date)"
      ]
    },
    {
      "cell_type": "code",
      "execution_count": null,
      "metadata": {
        "colab": {
          "base_uri": "https://localhost:8080/"
        },
        "id": "g4j8FiTFXHVz",
        "outputId": "c8740caa-a568-4e93-8673-d2df40bfc62c"
      },
      "outputs": [
        {
          "data": {
            "text/plain": [
              "['1st september 2019']"
            ]
          },
          "execution_count": 28,
          "metadata": {},
          "output_type": "execute_result"
        }
      ],
      "source": [
        "re.findall('\\d{1,2}\\w{2} \\w+ \\d{4}', date)"
      ]
    },
    {
      "cell_type": "code",
      "execution_count": null,
      "metadata": {
        "colab": {
          "base_uri": "https://localhost:8080/"
        },
        "id": "xIyvMM8dXIml",
        "outputId": "465ddd90-4474-47c4-8dde-42aada14fef9"
      },
      "outputs": [
        {
          "data": {
            "text/plain": [
              "['1st september 2019 07:25']"
            ]
          },
          "execution_count": 30,
          "metadata": {},
          "output_type": "execute_result"
        }
      ],
      "source": [
        "re.findall('\\d{1,2}\\w{2}\\s\\w+\\s\\d{4}\\s\\d{2}:\\d{2}', date)"
      ]
    },
    {
      "cell_type": "markdown",
      "metadata": {
        "id": "kXjJXj5hBkBj"
      },
      "source": []
    },
    {
      "cell_type": "code",
      "execution_count": null,
      "metadata": {
        "colab": {
          "base_uri": "https://localhost:8080/"
        },
        "id": "DHp1uMnM_hzI",
        "outputId": "34ff769c-68fe-4a47-cf81-63f6035135f6"
      },
      "outputs": [
        {
          "name": "stdout",
          "output_type": "stream",
          "text": [
            "Не нашел\n"
          ]
        }
      ],
      "source": [
        "# search ищет по всей строке, а match только в начале\n",
        "text = \"\"\"Что такое регулярные выражения и как их использовать? \n",
        "Говоря простым языком, регулярное выражение — это последовательность символов, используемая для поиска и замены текста в строке или файле. Как уже было упомянуто,\\\n",
        "их поддерживает множество языков общего назначения: Python, Perl, R.\n",
        "Так что изучение регулярных выражений рано или поздно пригодится.\"\"\"\n",
        "\n",
        "result = re.match(r'P\\w+', text)\n",
        "# result\n",
        "print('Нашел' if result else 'Не нашел')"
      ]
    },
    {
      "cell_type": "code",
      "execution_count": null,
      "metadata": {
        "colab": {
          "base_uri": "https://localhost:8080/"
        },
        "id": "uM3JJ1eR_hzI",
        "outputId": "d3c786f8-a69b-49cf-82dd-91cab072654b"
      },
      "outputs": [
        {
          "data": {
            "text/plain": [
              "<re.Match object; span=(0, 3), match='Что'>"
            ]
          },
          "execution_count": 32,
          "metadata": {},
          "output_type": "execute_result"
        }
      ],
      "source": [
        "re.match(r'\\w+', text)"
      ]
    },
    {
      "cell_type": "code",
      "execution_count": null,
      "metadata": {
        "colab": {
          "base_uri": "https://localhost:8080/"
        },
        "id": "Js-pRNcy_hzJ",
        "outputId": "b17501a4-7a9a-4337-f19c-724cedb32fa3"
      },
      "outputs": [
        {
          "data": {
            "text/plain": [
              "269"
            ]
          },
          "execution_count": 36,
          "metadata": {},
          "output_type": "execute_result"
        }
      ],
      "source": [
        "res = re.search(r'P\\w+', text)\n",
        "# res.start()\n",
        "# res.group()\n",
        "# res"
      ]
    },
    {
      "cell_type": "code",
      "execution_count": null,
      "metadata": {
        "id": "8BP4XUVO_hzJ"
      },
      "outputs": [],
      "source": []
    },
    {
      "cell_type": "code",
      "execution_count": null,
      "metadata": {
        "id": "sWzhv7xE_hzJ"
      },
      "outputs": [],
      "source": [
        "# экранирование\n",
        "text = \"Эта строка написана 08.06.2021, а могла бы и 01/01/2999\""
      ]
    },
    {
      "cell_type": "code",
      "execution_count": null,
      "metadata": {
        "colab": {
          "base_uri": "https://localhost:8080/"
        },
        "id": "MJGyV901_hzK",
        "outputId": "75ec4337-61e1-4364-eeee-00fe6e1f5815"
      },
      "outputs": [
        {
          "data": {
            "text/plain": [
              "['08.06.2021', '01/01/2999']"
            ]
          },
          "execution_count": 39,
          "metadata": {},
          "output_type": "execute_result"
        }
      ],
      "source": [
        "re.findall(r'\\d\\d.\\d\\d.\\d{4}', text)"
      ]
    },
    {
      "cell_type": "code",
      "execution_count": null,
      "metadata": {
        "id": "iSKV6Rqc_hzK"
      },
      "outputs": [],
      "source": [
        "# определим находится ли домен в зоне com\n",
        "domain = 'www.site.com'"
      ]
    },
    {
      "cell_type": "code",
      "execution_count": null,
      "metadata": {
        "colab": {
          "base_uri": "https://localhost:8080/"
        },
        "id": "m3h4l64J_hzK",
        "outputId": "72e8dbf6-6290-44e2-c1b3-cf675051e6e2"
      },
      "outputs": [
        {
          "data": {
            "text/plain": [
              "['www.site.com']"
            ]
          },
          "execution_count": 41,
          "metadata": {},
          "output_type": "execute_result"
        }
      ],
      "source": [
        "re.findall(r'www\\..+\\.com', domain)"
      ]
    },
    {
      "cell_type": "code",
      "execution_count": null,
      "metadata": {
        "id": "3Fgjt-hA_hzL"
      },
      "outputs": [],
      "source": [
        "# поищем только в начале и конце строки\n",
        "history_comment = '20 век был более опасным, чем 19 век'"
      ]
    },
    {
      "cell_type": "code",
      "execution_count": null,
      "metadata": {
        "colab": {
          "base_uri": "https://localhost:8080/"
        },
        "id": "mBANMW7F_hzL",
        "outputId": "c8e30e5a-674d-4b61-efea-e502aba8e586"
      },
      "outputs": [
        {
          "data": {
            "text/plain": [
              "['20 век', '19 век']"
            ]
          },
          "execution_count": 43,
          "metadata": {},
          "output_type": "execute_result"
        }
      ],
      "source": [
        "re.findall(r'\\d{1,2}\\sвек', history_comment)"
      ]
    },
    {
      "cell_type": "code",
      "execution_count": null,
      "metadata": {
        "colab": {
          "base_uri": "https://localhost:8080/"
        },
        "id": "cxBFLGqF_hzM",
        "outputId": "e92378b5-fb9f-4fec-d956-c42cd87897af"
      },
      "outputs": [
        {
          "data": {
            "text/plain": [
              "['20 век']"
            ]
          },
          "execution_count": 44,
          "metadata": {},
          "output_type": "execute_result"
        }
      ],
      "source": [
        "re.findall(r'^\\d{1,2}\\sвек', history_comment)"
      ]
    },
    {
      "cell_type": "code",
      "execution_count": null,
      "metadata": {
        "colab": {
          "base_uri": "https://localhost:8080/"
        },
        "id": "RHLmO7nh_hzN",
        "outputId": "08dfa3a1-1803-4fbe-b258-c3682bd00eaa"
      },
      "outputs": [
        {
          "data": {
            "text/plain": [
              "['19 век']"
            ]
          },
          "execution_count": 45,
          "metadata": {},
          "output_type": "execute_result"
        }
      ],
      "source": [
        "re.findall(r'\\d{1,2}\\sвек$', history_comment)"
      ]
    },
    {
      "cell_type": "code",
      "execution_count": null,
      "metadata": {
        "id": "rbbiCwSt_hzN"
      },
      "outputs": [],
      "source": []
    },
    {
      "cell_type": "code",
      "execution_count": null,
      "metadata": {
        "colab": {
          "base_uri": "https://localhost:8080/"
        },
        "id": "UYt4Ie2p_hzN",
        "outputId": "a00f3faa-b32b-4344-8f49-c48122f39a77"
      },
      "outputs": [
        {
          "data": {
            "text/plain": [
              "['ноутбук', 'компьютер']"
            ]
          },
          "execution_count": 46,
          "metadata": {},
          "output_type": "execute_result"
        }
      ],
      "source": [
        "# ИЛИ\n",
        "market_search = 'Что лучше: ноутбук или компьютер?'\n",
        "re.findall('ноутбук|компьютер', market_search)"
      ]
    },
    {
      "cell_type": "code",
      "execution_count": null,
      "metadata": {
        "colab": {
          "base_uri": "https://localhost:8080/",
          "height": 36
        },
        "id": "QA_LkF74_hzO",
        "outputId": "9d589ab9-15bf-4666-db00-634ec60d6be2"
      },
      "outputs": [
        {
          "data": {
            "application/vnd.google.colaboratory.intrinsic+json": {
              "type": "string"
            },
            "text/plain": [
              "'Тут текст в который попали пробельные символы в начале и в конце, от которых нужно избавиться'"
            ]
          },
          "execution_count": 47,
          "metadata": {},
          "output_type": "execute_result"
        }
      ],
      "source": [
        "text = '    Тут текст в который попали пробельные символы в начале и в конце, от которых нужно избавиться   ' \n",
        "\n",
        "re.sub(r'^\\s+|\\s+$', '', text) "
      ]
    },
    {
      "cell_type": "code",
      "execution_count": null,
      "metadata": {
        "id": "WJUKoWcN_hzO"
      },
      "outputs": [],
      "source": []
    },
    {
      "cell_type": "code",
      "execution_count": null,
      "metadata": {
        "colab": {
          "base_uri": "https://localhost:8080/"
        },
        "id": "rfzOaAqP_hzP",
        "outputId": "4ed6d5a2-2f65-44cf-e28a-26a2bf701051"
      },
      "outputs": [
        {
          "data": {
            "text/plain": [
              "['регулярные выражения', 'регулярное выражение', 'регулярных выражений']"
            ]
          },
          "execution_count": 48,
          "metadata": {},
          "output_type": "execute_result"
        }
      ],
      "source": [
        "# [] - найдем слово во всем склонениях\n",
        "text = \"\"\"Что такое регулярные выражения и как их использовать? \n",
        "Говоря простым языком, регулярное выражение — это последовательность символов, используемая для поиска и замены текста в строке или файле. Как уже было упомянуто,\n",
        "их поддерживает множество языков общего назначения: Python, Perl, R.\n",
        "Так что изучение регулярных выражений рано или поздно пригодится.\"\"\"\n",
        "pattern = r'[Рр]егулярн[а-я]{2,3}\\sвыражен[а-я]{2,3}'\n",
        "re.findall(pattern, text)"
      ]
    },
    {
      "cell_type": "code",
      "execution_count": null,
      "metadata": {
        "id": "tlzH1TFZ_hzQ"
      },
      "outputs": [],
      "source": []
    },
    {
      "cell_type": "code",
      "execution_count": null,
      "metadata": {
        "id": "M8NQrHsJ_hzR"
      },
      "outputs": [],
      "source": [
        "# найдем все домены, которые состоят из цифр\n",
        "websites = 'www.101.com  www.google.com'"
      ]
    },
    {
      "cell_type": "code",
      "execution_count": null,
      "metadata": {
        "colab": {
          "base_uri": "https://localhost:8080/"
        },
        "id": "Q-e3ERl2_hzR",
        "outputId": "00b07a6c-e472-4258-ef6b-baa2a0daa7bc"
      },
      "outputs": [
        {
          "data": {
            "text/plain": [
              "['www.101.com']"
            ]
          },
          "execution_count": 50,
          "metadata": {},
          "output_type": "execute_result"
        }
      ],
      "source": [
        "re.findall(r'www\\.[0-9]+\\.com', websites)"
      ]
    },
    {
      "cell_type": "code",
      "execution_count": null,
      "metadata": {
        "id": "edYU_HDW_hzR"
      },
      "outputs": [],
      "source": [
        "websites = 'www.101.com  www.google.com'"
      ]
    },
    {
      "cell_type": "code",
      "execution_count": null,
      "metadata": {
        "colab": {
          "base_uri": "https://localhost:8080/"
        },
        "id": "plq39Hbe_hzR",
        "outputId": "ddbcab13-f249-438f-a336-95af028f03ac"
      },
      "outputs": [
        {
          "data": {
            "text/plain": [
              "['www.google.com']"
            ]
          },
          "execution_count": 52,
          "metadata": {},
          "output_type": "execute_result"
        }
      ],
      "source": [
        "re.findall(r'www\\.[^0-9]+\\.com', websites)"
      ]
    },
    {
      "cell_type": "code",
      "execution_count": null,
      "metadata": {
        "id": "9MVX6FV6_hzS"
      },
      "outputs": [],
      "source": []
    },
    {
      "cell_type": "code",
      "execution_count": null,
      "metadata": {
        "colab": {
          "base_uri": "https://localhost:8080/"
        },
        "id": "_eJo-m10_hzS",
        "outputId": "fa3f7ad2-f5c7-4b1b-da53-4a00ad2d521d"
      },
      "outputs": [
        {
          "data": {
            "text/plain": [
              "['Столбец1', 'Столбец2', 'Столбец3', 'Столбец4', 'Столбец5']"
            ]
          },
          "execution_count": 53,
          "metadata": {},
          "output_type": "execute_result"
        }
      ],
      "source": [
        "# split\n",
        "columns = 'Столбец1,Столбец2;Столбец3, Столбец4; Столбец5'\n",
        "re.split(r'[,;]\\s?', columns)"
      ]
    },
    {
      "cell_type": "code",
      "execution_count": null,
      "metadata": {
        "id": "_tiEjOyJ_hzS"
      },
      "outputs": [],
      "source": []
    },
    {
      "cell_type": "code",
      "execution_count": null,
      "metadata": {
        "colab": {
          "base_uri": "https://localhost:8080/"
        },
        "id": "dGqHFMNR_hzT",
        "outputId": "feeaa813-71da-4ab1-fe8c-49d443a1048d"
      },
      "outputs": [
        {
          "name": "stdout",
          "output_type": "stream",
          "text": [
            "Что такое regex и как их использовать? \n",
            "Говоря простым языком, regex — это последовательность символов, используемая для поиска и замены текста в строке или файле. Как уже было упомянуто,\n",
            "их поддерживает множество языков общего назначения: Python, Perl, R.\n",
            "Так что изучение regex рано или поздно пригодится.\n"
          ]
        }
      ],
      "source": [
        "# произведем замену на regex\n",
        "text = \"\"\"Что такое регулярные выражения и как их использовать? \n",
        "Говоря простым языком, регулярное выражение — это последовательность символов, используемая для поиска и замены текста в строке или файле. Как уже было упомянуто,\n",
        "их поддерживает множество языков общего назначения: Python, Perl, R.\n",
        "Так что изучение регулярных выражений рано или поздно пригодится.\"\"\"\n",
        "\n",
        "print(re.sub(r'[Рр]егулярн[а-я]+ выражен[а-я]+', 'regex', text))"
      ]
    },
    {
      "cell_type": "code",
      "execution_count": null,
      "metadata": {
        "colab": {
          "base_uri": "https://localhost:8080/"
        },
        "id": "vEXnaRol_hzT",
        "outputId": "a2db79db-3108-402a-9557-a9b066f8dfa9"
      },
      "outputs": [
        {
          "name": "stdout",
          "output_type": "stream",
          "text": [
            "Некоторые обычные слова подозрительны: censored, censored, censored, хорёк\n"
          ]
        }
      ],
      "source": [
        "text = \"Некоторые обычные слова подозрительны: хор, хук, хек, хорёк\" \n",
        "print(re.sub(r'\\b[хХ]\\w{2}\\b', 'censored', text)) "
      ]
    },
    {
      "cell_type": "code",
      "execution_count": null,
      "metadata": {
        "id": "JC8bnaBk_hzT"
      },
      "outputs": [],
      "source": [
        "# Практика. Удалим все знаки пунктуации из текста через sub\n",
        "text = \"\"\"Что такое регулярные выражения и как их использовать? \n",
        "Говоря простым языком, регулярное выражение — это последовательность символов, используемая для поиска и замены текста в строке или файле. Как уже было упомянуто,\n",
        "их поддерживает множество языков общего назначения: Python, Perl, R.!!!!!\n",
        "Так что изучение регулярных выражений рано или поздно пригодится....\"\"\""
      ]
    },
    {
      "cell_type": "code",
      "execution_count": null,
      "metadata": {
        "colab": {
          "base_uri": "https://localhost:8080/",
          "height": 70
        },
        "id": "fks9ubDa_hzU",
        "outputId": "7d3566f5-5e1c-4754-ed82-983e35af3082"
      },
      "outputs": [
        {
          "data": {
            "application/vnd.google.colaboratory.intrinsic+json": {
              "type": "string"
            },
            "text/plain": [
              "'Что такое регулярные выражения и как их использовать \\nГоворя простым языком регулярное выражение — это последовательность символов используемая для поиска и замены текста в строке или файле Как уже было упомянуто\\nих поддерживает множество языков общего назначения Python Perl R\\nТак что изучение регулярных выражений рано или поздно пригодится'"
            ]
          },
          "execution_count": 64,
          "metadata": {},
          "output_type": "execute_result"
        }
      ],
      "source": [
        "re.sub(r'[!,.:?-]+', '', text)"
      ]
    },
    {
      "cell_type": "code",
      "execution_count": null,
      "metadata": {
        "id": "eKxCtBOTfSxB"
      },
      "outputs": [],
      "source": [
        "print(re.sub(r'[!,.:?]', '', text))"
      ]
    },
    {
      "cell_type": "code",
      "execution_count": null,
      "metadata": {
        "colab": {
          "base_uri": "https://localhost:8080/",
          "height": 70
        },
        "id": "YUkonxrofqXO",
        "outputId": "aae066d2-3766-4505-fd10-c343f6ddda68"
      },
      "outputs": [
        {
          "data": {
            "application/vnd.google.colaboratory.intrinsic+json": {
              "type": "string"
            },
            "text/plain": [
              "'Что такое регулярные выражения и как их использовать \\nГоворя простым языком регулярное выражение это последовательность символов используемая для поиска и замены текста в строке или файле Как уже было упомянуто\\nих поддерживает множество языков общего назначения Python Perl R\\nТак что изучение регулярных выражений рано или поздно пригодится'"
            ]
          },
          "execution_count": 65,
          "metadata": {},
          "output_type": "execute_result"
        }
      ],
      "source": [
        "re.sub(r'[ \\t]?[^\\s\\w]','',text)"
      ]
    },
    {
      "cell_type": "code",
      "execution_count": null,
      "metadata": {
        "colab": {
          "base_uri": "https://localhost:8080/"
        },
        "id": "KKmIwfeBfz0f",
        "outputId": "ad107ab2-3559-4bb6-bf65-7369e47aa281"
      },
      "outputs": [
        {
          "name": "stdout",
          "output_type": "stream",
          "text": [
            "Что такое регулярные выражения и как их использовать \n",
            "Говоря простым языком регулярное выражение  это последовательность символов используемая для поиска и замены текста в строке или файле Как уже было упомянуто\n",
            "их поддерживает множество языков общего назначения Python Perl R\n",
            "Так что изучение регулярных выражений рано или поздно пригодится\n"
          ]
        }
      ],
      "source": [
        "print(re.sub('[^\\w\\s]', '', text))"
      ]
    },
    {
      "cell_type": "markdown",
      "metadata": {
        "id": "ar8N3rykBnvu"
      },
      "source": []
    },
    {
      "cell_type": "code",
      "execution_count": null,
      "metadata": {
        "id": "VzI26XiV_hzU"
      },
      "outputs": [],
      "source": [
        "# скобочные группы\n",
        "# выделим группы символов из посадочного талона, где:\n",
        "# - первые 2 символа - это авиакомпания;\n",
        "# - 4 следующие символа - номер рейса;\n",
        "# - 3 следующих символа - аэропорт отправления;\n",
        "# - 3 следюущих - аэропорт прибытия;\n",
        "# - оставшиеся - дата рейса\n",
        "# Все буквы всегда в верхнем регистре"
      ]
    },
    {
      "cell_type": "code",
      "execution_count": null,
      "metadata": {
        "id": "LlGOJfFT_hzV"
      },
      "outputs": [],
      "source": [
        "flight = '''Boarding pass: \n",
        "LA4214 AER-CDB 06NOV \n",
        "LA4332 AER-CDB 07NOV\n",
        "'''"
      ]
    },
    {
      "cell_type": "code",
      "execution_count": null,
      "metadata": {
        "id": "bjec5-PB_hzV"
      },
      "outputs": [],
      "source": [
        "regex_flight = r'([A-Z]{2})(\\d{4})\\s([A-Z]{3})-([A-Z]{3})\\s(\\d{2}[A-Z]{3})'"
      ]
    },
    {
      "cell_type": "code",
      "execution_count": null,
      "metadata": {
        "id": "K90yhL6J_hzV"
      },
      "outputs": [],
      "source": [
        "# ВНИМАНИЕ! При наличии скобочных групп функция find_all ищет только их! \n",
        "# Остальные функции получают такой-же match объект, в котором есть возможность обратиться к любой группе\n",
        "flight_result = re.findall(regex_flight, flight)"
      ]
    },
    {
      "cell_type": "code",
      "execution_count": null,
      "metadata": {
        "colab": {
          "base_uri": "https://localhost:8080/"
        },
        "id": "FtPQ5puv_hzW",
        "outputId": "7f792d6a-0884-4d53-fd74-83ed2b704264"
      },
      "outputs": [
        {
          "name": "stdout",
          "output_type": "stream",
          "text": [
            "[('LA', '4214', 'AER', 'CDB', '06NOV'), ('LA', '4332', 'AER', 'CDB', '07NOV')]\n"
          ]
        }
      ],
      "source": [
        "print(flight_result)"
      ]
    },
    {
      "cell_type": "code",
      "execution_count": null,
      "metadata": {
        "colab": {
          "base_uri": "https://localhost:8080/"
        },
        "id": "DW-PG4mp_hzW",
        "outputId": "d19c08a2-0428-4499-9986-d8816e6e2559"
      },
      "outputs": [
        {
          "name": "stdout",
          "output_type": "stream",
          "text": [
            "<re.Match object; span=(16, 36), match='LA4214 AER-CDB 06NOV'>\n",
            "('AER', 'CDB')\n"
          ]
        }
      ],
      "source": [
        "flight_match_result = re.search(regex_flight, flight)\n",
        "print(flight_match_result)\n",
        "print(flight_match_result.group(3,4))"
      ]
    },
    {
      "cell_type": "code",
      "execution_count": null,
      "metadata": {
        "colab": {
          "base_uri": "https://localhost:8080/",
          "height": 36
        },
        "id": "dKRzXYJI_hzW",
        "outputId": "b2dcbb2b-a4e5-4ec2-e084-4f107068907d"
      },
      "outputs": [
        {
          "data": {
            "application/vnd.google.colaboratory.intrinsic+json": {
              "type": "string"
            },
            "text/plain": [
              "'some text 30.08.1991 some text'"
            ]
          },
          "execution_count": 78,
          "metadata": {},
          "output_type": "execute_result"
        }
      ],
      "source": [
        "# переведем даты к другому формату при помощи групп\n",
        "date = 'some text 08/30/1991 some text'\n",
        "re.sub(r'(\\d\\d)/(\\d\\d)/(\\d{4})', r'\\2.\\1.\\3', date)"
      ]
    },
    {
      "cell_type": "code",
      "execution_count": 3,
      "metadata": {
        "id": "Igp0COzW_hzX"
      },
      "outputs": [],
      "source": [
        "# удалим последовательные повторы цифр\n",
        "import re\n",
        "numbers = '44444555 6666 8888 7777 44445467457547457555555'"
      ]
    },
    {
      "cell_type": "code",
      "execution_count": 4,
      "metadata": {
        "colab": {
          "base_uri": "https://localhost:8080/",
          "height": 36
        },
        "id": "zCGLQ2Dg_hzX",
        "outputId": "a8900334-c60f-4199-8141-91a05b5e3ba8"
      },
      "outputs": [
        {
          "data": {
            "text/plain": [
              "'45 6 8 7 454674575474575'"
            ]
          },
          "execution_count": 4,
          "metadata": {},
          "output_type": "execute_result"
        }
      ],
      "source": [
        "re.sub(r'(\\d)\\1+', r'\\1', numbers)"
      ]
    },
    {
      "cell_type": "code",
      "execution_count": 9,
      "metadata": {},
      "outputs": [
        {
          "data": {
            "text/plain": [
              "['4', '5', '6', '8', '7', '4', '5']"
            ]
          },
          "execution_count": 9,
          "metadata": {},
          "output_type": "execute_result"
        }
      ],
      "source": [
        "re.findall(r'(\\d)\\1+',numbers)"
      ]
    },
    {
      "cell_type": "code",
      "execution_count": null,
      "metadata": {
        "id": "daNJpfTe_hzX"
      },
      "outputs": [],
      "source": []
    },
    {
      "cell_type": "code",
      "execution_count": null,
      "metadata": {
        "id": "RBGewGNf_hzY"
      },
      "outputs": [],
      "source": [
        "# ПРАКТИКА. Посчитаем количество лайков и репостов по всем сообщениям\n",
        "messages = ['Опять дождь! Лайков: 2', 'Крутой был концерт 21 августа! Лайков: 28, Репостов: 22']"
      ]
    },
    {
      "cell_type": "code",
      "execution_count": null,
      "metadata": {
        "colab": {
          "base_uri": "https://localhost:8080/"
        },
        "id": "gQfec0rL_hzY",
        "outputId": "fe41ae3a-8ab4-4d49-d508-415dbce8a2c4"
      },
      "outputs": [
        {
          "name": "stdout",
          "output_type": "stream",
          "text": [
            "30\n",
            "22\n"
          ]
        }
      ],
      "source": [
        "likes = 0\n",
        "reposts = 0\n",
        "\n",
        "for msg in messages:\n",
        "    likes_pattern = re.search(r'Лайков:\\s(\\d+)', msg) \n",
        "    reposts_pattern = re.search(r'Репостов:\\s(\\d+)', msg) \n",
        "    if likes_pattern: likes += int(likes_pattern.group(1))\n",
        "    if reposts_pattern: reposts += int(reposts_pattern.group(1))\n",
        "\n",
        "print(likes)\n",
        "print(reposts)"
      ]
    },
    {
      "cell_type": "code",
      "execution_count": null,
      "metadata": {
        "id": "kBnKnsiG_hzY"
      },
      "outputs": [],
      "source": []
    },
    {
      "cell_type": "code",
      "execution_count": null,
      "metadata": {
        "id": "JpYcMJ7N_hzY"
      },
      "outputs": [],
      "source": [
        "# Флаги\n",
        "text = \"\"\"Что такое регулярные выражения и как их использовать? \n",
        "Говоря простым языком, регулярное выражение — это последовательность символов, используемая для поиска и замены текста в строке или файле. Как уже было упомянуто,\n",
        "их поддерживает множество языков общего назначения: Python, Perl, R.\n",
        "Так что изучение регулярных выражений рано или поздно пригодится.\"\"\""
      ]
    },
    {
      "cell_type": "code",
      "execution_count": null,
      "metadata": {
        "colab": {
          "base_uri": "https://localhost:8080/"
        },
        "id": "9BJwqTt8_hzZ",
        "outputId": "8edd7af8-e1d9-4b5e-c156-dc32b1a65d3b"
      },
      "outputs": [
        {
          "name": "stdout",
          "output_type": "stream",
          "text": [
            "['ython', 'erl']\n",
            "['Python', 'Perl', 'R']\n"
          ]
        }
      ],
      "source": [
        "print(re.findall(r'[a-z]+', text)) \n",
        "print(re.findall(r'[a-z]+', text, flags=re.IGNORECASE)) "
      ]
    },
    {
      "cell_type": "code",
      "execution_count": null,
      "metadata": {
        "colab": {
          "base_uri": "https://localhost:8080/"
        },
        "id": "p7mS82iG_hzZ",
        "outputId": "cfbdb099-518f-441c-c5eb-ba5e9d68e682"
      },
      "outputs": [
        {
          "name": "stdout",
          "output_type": "stream",
          "text": [
            "['Что']\n",
            "['Что', 'Говоря', 'их', 'Так']\n"
          ]
        }
      ],
      "source": [
        "print(re.findall(r'^\\w+', text)) \n",
        "print(re.findall(r'^\\w+', text, flags=re.MULTILINE)) "
      ]
    },
    {
      "cell_type": "code",
      "execution_count": null,
      "metadata": {
        "id": "ubIcC-fr_hzZ"
      },
      "outputs": [],
      "source": []
    },
    {
      "cell_type": "code",
      "execution_count": null,
      "metadata": {
        "colab": {
          "base_uri": "https://localhost:8080/"
        },
        "id": "MAIeq0qM_hza",
        "outputId": "899d9142-5fd0-4f7c-e0b0-0bd7cefa79ff"
      },
      "outputs": [
        {
          "data": {
            "text/plain": [
              "['22.txt', '44.txt']"
            ]
          },
          "execution_count": 87,
          "metadata": {},
          "output_type": "execute_result"
        }
      ],
      "source": [
        "# lookaround. Достанем имена только загруженных файлов\n",
        "report = 'файл 11.txt загружен, файл 22.txt ошибка 44345, файл 33.txt загружен, файл 44.txt ошибка 43535'\n",
        "# find_downloaded = r'\\d+\\.txt(?=\\sзагружен)'\n",
        "files_error = r'\\d+\\.txt(?!\\sзагружен)'\n",
        "# re.findall(find_downloaded, report)\n",
        "re.findall(files_error, report)"
      ]
    },
    {
      "cell_type": "code",
      "execution_count": null,
      "metadata": {
        "id": "LIjlIz6q_hza"
      },
      "outputs": [],
      "source": []
    },
    {
      "cell_type": "code",
      "execution_count": null,
      "metadata": {
        "id": "zOxfkL8L_hza"
      },
      "outputs": [],
      "source": [
        "# ПРАКТИКА. Получить только рублевые цены\n",
        "prices = 'RUB4.44, RUB10.88, EUR0.99, RUB99.99, USD39.00'"
      ]
    },
    {
      "cell_type": "code",
      "execution_count": null,
      "metadata": {
        "colab": {
          "base_uri": "https://localhost:8080/"
        },
        "id": "eA3B1dhK_hza",
        "outputId": "8964838e-4de9-4717-c989-23aa8a0923ac"
      },
      "outputs": [
        {
          "data": {
            "text/plain": [
              "['4.44', '10.88', '99.99']"
            ]
          },
          "execution_count": 90,
          "metadata": {},
          "output_type": "execute_result"
        }
      ],
      "source": [
        "re.findall(r'(?<=RUB)\\d+\\.\\d{2}',prices)"
      ]
    },
    {
      "cell_type": "code",
      "execution_count": null,
      "metadata": {
        "colab": {
          "base_uri": "https://localhost:8080/"
        },
        "id": "5rOdleMvl4SM",
        "outputId": "5b9e85f4-772d-4bbc-ca48-9a249e2ea587"
      },
      "outputs": [
        {
          "data": {
            "text/plain": [
              "['4.44', '10.88', '99.99']"
            ]
          },
          "execution_count": 93,
          "metadata": {},
          "output_type": "execute_result"
        }
      ],
      "source": [
        "re.findall(r'(?<=RUB)\\d+\\.\\d{2}',prices)"
      ]
    },
    {
      "cell_type": "code",
      "execution_count": null,
      "metadata": {
        "id": "j4INQNePnJYs"
      },
      "outputs": [],
      "source": [
        "'a[cvs]refse4564'"
      ]
    },
    {
      "cell_type": "markdown",
      "metadata": {
        "id": "WiWg81tWHz2b"
      },
      "source": [
        "https://regexcrossword.com/howtoplay\n",
        "\n",
        "https://ihateregex.io\n",
        "\n",
        "https://regex101.com/"
      ]
    },
    {
      "cell_type": "markdown",
      "metadata": {
        "id": "4bInRY3OHWNB"
      },
      "source": [
        "Регулярные\n",
        "выражения\n",
        "Сборник рецептов\n",
        "2015\n",
        "Ян Гойвертс,\n",
        "Стивен\n",
        "Левитан"
      ]
    }
  ],
  "metadata": {
    "colab": {
      "collapsed_sections": [],
      "name": "netology_regex_19_07_22.ipynb",
      "provenance": []
    },
    "kernelspec": {
      "display_name": "Python 3.9.13 64-bit (windows store)",
      "language": "python",
      "name": "python3"
    },
    "language_info": {
      "codemirror_mode": {
        "name": "ipython",
        "version": 3
      },
      "file_extension": ".py",
      "mimetype": "text/x-python",
      "name": "python",
      "nbconvert_exporter": "python",
      "pygments_lexer": "ipython3",
      "version": "3.9.13"
    },
    "vscode": {
      "interpreter": {
        "hash": "200ebbd607595889f78ab90cd33e5b2d7d952683c406cf769739ea41b147450e"
      }
    }
  },
  "nbformat": 4,
  "nbformat_minor": 0
}
