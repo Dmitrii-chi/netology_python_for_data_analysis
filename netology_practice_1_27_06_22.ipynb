{
  "nbformat": 4,
  "nbformat_minor": 0,
  "metadata": {
    "colab": {
      "name": "netology_practice_1_27_06_22.ipynb",
      "provenance": [],
      "collapsed_sections": []
    },
    "kernelspec": {
      "name": "python3",
      "display_name": "Python 3"
    },
    "language_info": {
      "name": "python"
    }
  },
  "cells": [
    {
      "cell_type": "markdown",
      "metadata": {
        "id": "edQI-m-cCgpV"
      },
      "source": [
        "# Практика 1  \n",
        "Теория: Основы Python, введение в типы данных и циклы\n",
        "\n",
        "Булыгин Олег:  \n",
        "* [LinkedIn](linkedin.com/in/obulygin)  \n",
        "* [Мой канал в ТГ по Python](https://t.me/solidtalk)"
      ]
    },
    {
      "cell_type": "markdown",
      "metadata": {
        "id": "yeFs_dLk5YJW"
      },
      "source": [
        "## PEP\n",
        "\n",
        "PEP (python enhanced proposal — заявки на улучшение языка python)."
      ]
    },
    {
      "cell_type": "markdown",
      "metadata": {
        "id": "hQ_c5hAl5eNt"
      },
      "source": [
        "PEP20 – Zen of Python\n",
        "\n",
        "Python придерживается философии, которую сформулировал Тим Петерс в 19 принципах. Её текст выдаётся интерпретатором Python по команде `import this`."
      ]
    },
    {
      "cell_type": "code",
      "metadata": {
        "id": "ANmgIu_25FK9"
      },
      "source": [
        "import this"
      ],
      "execution_count": null,
      "outputs": []
    },
    {
      "cell_type": "markdown",
      "metadata": {
        "id": "9G-RZWKR5t71"
      },
      "source": [
        "PEP8\n",
        "\n",
        "PEP8 – соглашение о том, как писать код для языка python.\n",
        "Ключевая идея такова: код читается намного больше раз, чем пишется. Собственно, рекомендации о стиле написания кода направлены на то, чтобы улучшить читаемость кода и сделать его согласованным между большим числом проектов. В идеале, весь код будет написан в едином стиле, и любой сможет легко его прочесть.\n",
        "\n",
        "https://pythonworld.ru/osnovy/pep-8-rukovodstvo-po-napisaniyu-koda-na-python.html\n",
        "\n",
        "http://pep8online.com/"
      ]
    },
    {
      "cell_type": "code",
      "source": [
        "print(' sdgdhg')"
      ],
      "metadata": {
        "id": "AfIno0lb8-vl"
      },
      "execution_count": null,
      "outputs": []
    },
    {
      "cell_type": "markdown",
      "metadata": {
        "id": "PY_n-RlR54ON"
      },
      "source": [
        "## Краткая запись односложных условий из if и else"
      ]
    },
    {
      "cell_type": "code",
      "metadata": {
        "id": "D2owehr25SCh"
      },
      "source": [
        "# это стандартная запись\n",
        "\n",
        "num = 7\n",
        "\n",
        "if num % 2 == 0:\n",
        "    print('even')\n",
        "else:\n",
        "    print('odd')"
      ],
      "execution_count": null,
      "outputs": []
    },
    {
      "cell_type": "code",
      "metadata": {
        "id": "SG4lSwW46IPf"
      },
      "source": [
        "# можно записать и так, если в условии только if\n",
        "num = 6\n",
        "if num % 2 == 0: print('even') "
      ],
      "execution_count": null,
      "outputs": []
    },
    {
      "cell_type": "code",
      "metadata": {
        "id": "pf8KAcfm6MGE"
      },
      "source": [
        "# если в условии и if и esle, то можно так\n",
        "print('even') if num % 2 == 0 else print('odd')"
      ],
      "execution_count": null,
      "outputs": []
    },
    {
      "cell_type": "markdown",
      "metadata": {
        "id": "AMHNsoZd59w2"
      },
      "source": [
        "## Изменяемые и неизменяемые типы данных"
      ]
    },
    {
      "cell_type": "code",
      "metadata": {
        "id": "Ndf43O1F6ZSj"
      },
      "source": [
        "some_names = ['John', 'James', 'Linda']  "
      ],
      "execution_count": null,
      "outputs": []
    },
    {
      "cell_type": "code",
      "source": [
        "res = some_names.sort()\n",
        "\n",
        "print(res)"
      ],
      "metadata": {
        "id": "iuF_2ml123cG"
      },
      "execution_count": null,
      "outputs": []
    },
    {
      "cell_type": "code",
      "source": [
        "print(some_names)"
      ],
      "metadata": {
        "id": "-viGTLQeA5O7"
      },
      "execution_count": null,
      "outputs": []
    },
    {
      "cell_type": "code",
      "source": [
        "my_str = 'Hello World'\n",
        "res = my_str.lower()\n",
        "\n",
        "print(res)\n",
        "print(my_str)"
      ],
      "metadata": {
        "id": "QTmC-kOnAZzM"
      },
      "execution_count": null,
      "outputs": []
    },
    {
      "cell_type": "code",
      "source": [
        "my_str = 'Hello World'\n",
        "my_str.lower()\n",
        "\n",
        "print(my_str)"
      ],
      "metadata": {
        "id": "13B5xhBgBPYc"
      },
      "execution_count": null,
      "outputs": []
    },
    {
      "cell_type": "code",
      "source": [
        "some_names = ['John', 'James', 'Linda']  \n",
        "some_names.sort()\n",
        "res = some_names\n",
        "print(res)\n",
        "\n",
        "print(some_names)"
      ],
      "metadata": {
        "id": "BLDpIDw6CU2A"
      },
      "execution_count": null,
      "outputs": []
    },
    {
      "cell_type": "code",
      "source": [
        "print(id(some_names))\n",
        "print(id(res))"
      ],
      "metadata": {
        "id": "WwfHU0YkClYv"
      },
      "execution_count": null,
      "outputs": []
    },
    {
      "cell_type": "code",
      "source": [
        "some_names = ('John', 'James', 'Linda')\n",
        "\n",
        "res = sorted(some_names)\n",
        "\n",
        "print(res)"
      ],
      "metadata": {
        "id": "jEjFJGzAC-eM"
      },
      "execution_count": null,
      "outputs": []
    },
    {
      "cell_type": "markdown",
      "source": [
        "Добрый день!Почему tuple(sorted(list)) работает,а tuple(list.sort()) выдаёт ошибку?Как понять в каких случаях нужно через точку работать,а в каких то через скобки?"
      ],
      "metadata": {
        "id": "P2NpcG8-DrIS"
      }
    },
    {
      "cell_type": "code",
      "source": [
        "# print(type(res))"
      ],
      "metadata": {
        "id": "Yq1_S15aEv4W"
      },
      "execution_count": null,
      "outputs": []
    },
    {
      "cell_type": "markdown",
      "metadata": {
        "id": "HDq-QZ_UwPDr"
      },
      "source": [
        "## [f-строки](https://blog.solidtalk.ru/f_strings)\n",
        "\n",
        "Добавляя префикс f к строке можно встраивать в нее произвольные выражения при помощи фигурных скобок – { }."
      ]
    },
    {
      "cell_type": "markdown",
      "metadata": {
        "id": "kohJ7Byxirex"
      },
      "source": [
        "Можно разделять периоды чисел любым разделителем"
      ]
    },
    {
      "cell_type": "code",
      "metadata": {
        "colab": {
          "base_uri": "https://localhost:8080/"
        },
        "id": "nb0QYsTZiiGe",
        "outputId": "66286454-b275-4a09-b240-f3fa2028d85c"
      },
      "source": [
        "year_salary = 10000000\n",
        "result = f\"Годовая зарплата: ${year_salary :,}\"\n",
        "print(result)"
      ],
      "execution_count": null,
      "outputs": [
        {
          "output_type": "stream",
          "name": "stdout",
          "text": [
            "Годовая зарплата: $10,000,000\n"
          ]
        }
      ]
    },
    {
      "cell_type": "markdown",
      "metadata": {
        "id": "vNJl0kXqh8G9"
      },
      "source": [
        "Можно представлять числа с округлением до нужного количества знаков"
      ]
    },
    {
      "cell_type": "code",
      "metadata": {
        "id": "B0d8X-PmwPDs",
        "colab": {
          "base_uri": "https://localhost:8080/"
        },
        "outputId": "b7b2cbb2-80ca-4ae3-ef00-8d04a84f5289"
      },
      "source": [
        "pi_value = 3.141592653589793\n",
        "\n",
        "print(f\"Число Пи: {pi_value :.2f}\")"
      ],
      "execution_count": null,
      "outputs": [
        {
          "output_type": "stream",
          "name": "stdout",
          "text": [
            "Число Пи: 3.14\n"
          ]
        }
      ]
    },
    {
      "cell_type": "markdown",
      "metadata": {
        "id": "gAgqIV6fdb-i"
      },
      "source": [
        "## Практика\n",
        "\n",
        "Выведите результат в виде:\n",
        "```\n",
        "Pluto weighs about 1.3e+22 kilograms (0.218% of Earth's mass). It is home to 52,910,390 Plutonians.\n",
        "```"
      ]
    },
    {
      "cell_type": "code",
      "metadata": {
        "id": "aVeAnbGqdbaH"
      },
      "source": [
        "planet = 'pluto'\n",
        "pluto_mass = 1.303 * 10**22\n",
        "earth_mass = 5.9722 * 10**24\n",
        "population = 52910390"
      ],
      "execution_count": null,
      "outputs": []
    },
    {
      "cell_type": "code",
      "metadata": {
        "id": "niMc9wUIyMFa",
        "colab": {
          "base_uri": "https://localhost:8080/"
        },
        "outputId": "48bf2223-9e17-4ecc-b134-3d07490bb32f"
      },
      "source": [
        "print(f\"{planet.capitalize()} weights about {pluto_mass :.1e} kilograms ({pluto_mass/ earth_mass  :.3%} of Earth's mass). It is home to {population :,} {planet}nians.\")"
      ],
      "execution_count": null,
      "outputs": [
        {
          "output_type": "stream",
          "name": "stdout",
          "text": [
            "Pluto weights about 1.3e+22 kilograms (0.218% of Earth's mass). It is home to 52,910,390 plutonians.\n"
          ]
        }
      ]
    },
    {
      "cell_type": "code",
      "source": [
        "some_str = 'hello world'\n",
        "print(some_str.title())\n",
        "print(some_str.capitalize())"
      ],
      "metadata": {
        "colab": {
          "base_uri": "https://localhost:8080/"
        },
        "id": "fZ_OxGQ6IWN1",
        "outputId": "97bfc1e4-f1f7-464d-b567-39b26c04c565"
      },
      "execution_count": null,
      "outputs": [
        {
          "output_type": "stream",
          "name": "stdout",
          "text": [
            "Hello World\n",
            "Hello world\n"
          ]
        }
      ]
    },
    {
      "cell_type": "markdown",
      "metadata": {
        "id": "rLyLP81sEeYY"
      },
      "source": [
        "## Гипотеза Сиракуз\n",
        "\n",
        "Гипотеза Сиракуз гласит, что любое натуральное число сводится к единице при следующих действиях над ним: \n",
        "\n",
        "а) если число четное, то разделить его пополам, \n",
        "\n",
        "б) если число нечетное, то умножить его на 3, прибавить 1 и результат разделить на 2. \n",
        "\n",
        "Над вновь полученным числом вновь повторить действия a) или б) в зависимости от четности числа. Рано или поздно число станет равным 1.\n",
        "\n",
        "Напишем программу, проверяющую гипотезу Сиракуз. Пусть пользователь вводит любое натуральное число. Будем выполнять в цикле над ним вышеуказанные действия, пока оно не станет равным 1. Если гипотеза верна, то рано или поздно цикл закончится, а если нет - то произойдет зацикливание программы."
      ]
    },
    {
      "cell_type": "code",
      "metadata": {
        "id": "fNPueODdEeYY",
        "colab": {
          "base_uri": "https://localhost:8080/"
        },
        "outputId": "ed334a2a-ceab-41fe-d0e3-3416b2b56fcc"
      },
      "source": [
        "n = int(input())\n",
        "\n",
        "counter = 0\n",
        "while n != 1:\n",
        "    if n % 2 == 0:\n",
        "        n /= 2\n",
        "        # n = n / 2\n",
        "    else:\n",
        "        n = (n * 3 + 1) / 2\n",
        "    counter += 1\n",
        "\n",
        "print(n, counter)\n"
      ],
      "execution_count": null,
      "outputs": [
        {
          "output_type": "stream",
          "name": "stdout",
          "text": [
            "34856824627265256724245724245745457454574224572424752424524574545645456\n",
            "1.0 420\n"
          ]
        }
      ]
    },
    {
      "cell_type": "code",
      "source": [
        "# n = n + 1\n",
        "# n += 1\n",
        "\n",
        "# n = n - 10\n",
        "# n -= 1"
      ],
      "metadata": {
        "id": "-W00d7S6JwzU"
      },
      "execution_count": null,
      "outputs": []
    },
    {
      "cell_type": "markdown",
      "metadata": {
        "id": "E6ywQi0G5-o1"
      },
      "source": [
        "## else и циклы"
      ]
    },
    {
      "cell_type": "markdown",
      "source": [
        "Напишем игру \"Угадай число\""
      ],
      "metadata": {
        "id": "rrt2CXpIxlJz"
      }
    },
    {
      "cell_type": "code",
      "source": [
        "import random\n",
        "\n",
        "number = random.randint(1, 100)\n",
        "print(number)\n",
        "max_tries = 3\n",
        "tries = 0\n",
        "\n",
        "while tries < max_tries:\n",
        "    guess = int(input('Назови свой вариант'))\n",
        "    if guess < number:\n",
        "        print('Загаданное число больше')\n",
        "    elif guess > number:\n",
        "        print('Загаданное число меньше')\n",
        "    else:\n",
        "        print('Вы победили!')\n",
        "        break\n",
        "    tries += 1\n",
        "else: \n",
        "    print('Вы проиграли')\n",
        "    print('Было загадано число:', number)"
      ],
      "metadata": {
        "colab": {
          "base_uri": "https://localhost:8080/"
        },
        "id": "8oU2aES0g53U",
        "outputId": "91b06e2c-c100-4064-e0ca-300b274674d9"
      },
      "execution_count": null,
      "outputs": [
        {
          "output_type": "stream",
          "name": "stdout",
          "text": [
            "97\n",
            "Назови свой вариант97\n",
            "Вы победили!\n"
          ]
        }
      ]
    },
    {
      "cell_type": "markdown",
      "metadata": {
        "id": "XQe7nsuY__r7"
      },
      "source": [
        "## Практика\n",
        "\n",
        "Определите длину каждого из этих списков"
      ]
    },
    {
      "cell_type": "code",
      "metadata": {
        "id": "TkYg2RmtA66L"
      },
      "source": [
        "a = [1, 2, 3]\n",
        "b = [1, [2, 3]]\n",
        "c = []\n",
        "d = [1, 2, 3][1:]"
      ],
      "execution_count": null,
      "outputs": []
    },
    {
      "cell_type": "markdown",
      "metadata": {
        "id": "v23yWHR_7yO3"
      },
      "source": [
        "Выведем на экран список всех слов длиннее n букв из текста"
      ]
    },
    {
      "cell_type": "code",
      "metadata": {
        "id": "ZfRx-Pag7wjm"
      },
      "source": [
        "text = 'Python — высокоуровневый язык программирования, ориентированный на повышение производительности разработчика и читаемости кода.'\n",
        "n = 4"
      ],
      "execution_count": null,
      "outputs": []
    },
    {
      "cell_type": "code",
      "metadata": {
        "id": "0SwJmvOG8FVs",
        "colab": {
          "base_uri": "https://localhost:8080/"
        },
        "outputId": "a693cce9-77ef-4233-9765-22cab210fdef"
      },
      "source": [
        "word_list = []\n",
        "\n",
        "for word in text.split():\n",
        "    word = word.strip(',!.:?')\n",
        "    if len(word) > n:\n",
        "        word_list.append(word)\n",
        "\n",
        "print(word_list)"
      ],
      "execution_count": null,
      "outputs": [
        {
          "output_type": "stream",
          "name": "stdout",
          "text": [
            "['Python', 'высокоуровневый', 'программирования', 'ориентированный', 'повышение', 'производительности', 'разработчика', 'читаемости']\n"
          ]
        }
      ]
    },
    {
      "cell_type": "markdown",
      "metadata": {
        "id": "1dYKDsmV_U4o"
      },
      "source": [
        "## Сумма элементов по главной диагонали в матрице"
      ]
    },
    {
      "cell_type": "code",
      "metadata": {
        "id": "XcpgxMI19KLl"
      },
      "source": [
        "data = [\n",
        "    [13, 25, 23, 34],\n",
        "    [45, 32, 44, 47],\n",
        "    [12, 33, 23, 95],\n",
        "    [13, 53, 34, 35]\n",
        "]"
      ],
      "execution_count": null,
      "outputs": []
    },
    {
      "cell_type": "code",
      "metadata": {
        "id": "tSlpdpFf9S7x",
        "colab": {
          "base_uri": "https://localhost:8080/"
        },
        "outputId": "8d02ed37-8a4c-4cb8-abe6-e02416ca3969"
      },
      "source": [
        "result = 0\n",
        "index = 0\n",
        "for row in data:\n",
        "    # print(row)\n",
        "    result += row[index]\n",
        "    index += 1\n",
        "\n",
        "print(result)"
      ],
      "execution_count": null,
      "outputs": [
        {
          "output_type": "stream",
          "name": "stdout",
          "text": [
            "103\n"
          ]
        }
      ]
    },
    {
      "cell_type": "code",
      "source": [
        "result = 0\n",
        "for row in data:\n",
        "    # print(row)\n",
        "    result += row[1]\n",
        "\n",
        "print(result)"
      ],
      "metadata": {
        "colab": {
          "base_uri": "https://localhost:8080/"
        },
        "id": "WRyxlRhNP0mo",
        "outputId": "6d18a58f-4873-4d6a-cb74-d2f31ca589ee"
      },
      "execution_count": null,
      "outputs": [
        {
          "output_type": "stream",
          "name": "stdout",
          "text": [
            "143\n"
          ]
        }
      ]
    },
    {
      "cell_type": "markdown",
      "metadata": {
        "id": "PkzrJqs29V7z"
      },
      "source": [
        "А теперь посчитаем сумму элементов по **обратной** диагонали в квадратной матрице"
      ]
    },
    {
      "cell_type": "code",
      "metadata": {
        "id": "Jd5l2Kca9VC_",
        "colab": {
          "base_uri": "https://localhost:8080/"
        },
        "outputId": "d1b400c4-6967-432b-cfc6-adacadb189cb"
      },
      "source": [
        "result = 0\n",
        "index = -1\n",
        "for row in data:\n",
        "    result += row[index]\n",
        "    index -= 1\n",
        "\n",
        "print(result)"
      ],
      "execution_count": null,
      "outputs": [
        {
          "output_type": "stream",
          "name": "stdout",
          "text": [
            "124\n"
          ]
        }
      ]
    },
    {
      "cell_type": "markdown",
      "metadata": {
        "id": "ZhsS0uFL_J9l"
      },
      "source": [
        "## Выведем фамилии построчно с указанием профессии в виде:\n",
        "```\n",
        "IT:  \n",
        "Гейтс  \n",
        "Джобс  \n",
        "Возняк  \n",
        "\n",
        "Физика:  \n",
        "Эйнштейн  \n",
        "Фейнман  \n",
        "\n",
        "Математика:  \n",
        "Эвклид  \n",
        "Ньютон\n",
        "```\n",
        "\n"
      ]
    },
    {
      "cell_type": "code",
      "metadata": {
        "id": "z4y6_PVy_S0v"
      },
      "source": [
        "professions = ['IT', 'Физика', 'Математика']\n",
        "persons = [['Гейтс', 'Джобс', 'Возняк'], ['Эйнштейн', 'Фейнман'], ['Эвклид', 'Ньютон']]"
      ],
      "execution_count": null,
      "outputs": []
    },
    {
      "cell_type": "code",
      "metadata": {
        "id": "4dXBJV0D_Pr3",
        "colab": {
          "base_uri": "https://localhost:8080/"
        },
        "outputId": "b2543cb5-697a-478f-89a2-83eef5731f05"
      },
      "source": [
        "for pro, names in zip(professions, persons):\n",
        "    print(f'{pro}:')\n",
        "    for name in names:\n",
        "        print(name)\n",
        "    print()"
      ],
      "execution_count": null,
      "outputs": [
        {
          "output_type": "stream",
          "name": "stdout",
          "text": [
            "IT:\n",
            "Гейтс\n",
            "Джобс\n",
            "Возняк\n",
            "\n",
            "Физика:\n",
            "Эйнштейн\n",
            "Фейнман\n",
            "\n",
            "Математика:\n",
            "Эвклид\n",
            "Ньютон\n",
            "\n"
          ]
        }
      ]
    },
    {
      "cell_type": "code",
      "source": [
        "for pro, names in zip(professions, persons):\n",
        "    print(f'{pro}:')\n",
        "    print('\\n'.join(names))\n",
        "    print()"
      ],
      "metadata": {
        "colab": {
          "base_uri": "https://localhost:8080/"
        },
        "id": "L_WqoeEbWsMr",
        "outputId": "f3fac12a-8d79-4b6c-ebda-6b31d2fab4f9"
      },
      "execution_count": null,
      "outputs": [
        {
          "output_type": "stream",
          "name": "stdout",
          "text": [
            "IT:\n",
            "Гейтс\n",
            "Джобс\n",
            "Возняк\n",
            "\n",
            "Физика:\n",
            "Эйнштейн\n",
            "Фейнман\n",
            "\n",
            "Математика:\n",
            "Эвклид\n",
            "Ньютон\n",
            "\n"
          ]
        }
      ]
    },
    {
      "cell_type": "markdown",
      "metadata": {
        "id": "4sIiydRs_u2V"
      },
      "source": [
        "Получим такой же результат без вложенного цикла"
      ]
    },
    {
      "cell_type": "code",
      "metadata": {
        "id": "GDL5bUiV_Wz2",
        "colab": {
          "base_uri": "https://localhost:8080/"
        },
        "outputId": "56c1a2f5-46f8-4eaf-9627-e913a7e24474"
      },
      "source": [
        "list(zip(professions, persons))"
      ],
      "execution_count": null,
      "outputs": [
        {
          "output_type": "execute_result",
          "data": {
            "text/plain": [
              "[('IT', ['Гейтс', 'Джобс', 'Возняк']),\n",
              " ('Физика', ['Эйнштейн', 'Фейнман']),\n",
              " ('Математика', ['Эвклид', 'Ньютон'])]"
            ]
          },
          "metadata": {},
          "execution_count": 57
        }
      ]
    },
    {
      "cell_type": "code",
      "source": [
        "word = 'testingr'\n",
        "\n",
        "print(len(word) // 2 - 1)\n",
        "print(len(word) // 2 + 1)\n"
      ],
      "metadata": {
        "colab": {
          "base_uri": "https://localhost:8080/"
        },
        "id": "JXnhyyn2Ru-r",
        "outputId": "60aab215-622c-4b07-e7d6-acc770257e9f"
      },
      "execution_count": null,
      "outputs": [
        {
          "output_type": "stream",
          "name": "stdout",
          "text": [
            "3\n",
            "5\n"
          ]
        }
      ]
    },
    {
      "cell_type": "code",
      "source": [
        "print(0.1 + 0.1 + 0.1)\n",
        "print(0.1 + 0.15 + 0.05)\n",
        "\n",
        "print(0.1 + 0.1 + 0.1 == 0.1 + 0.15 + 0.05)"
      ],
      "metadata": {
        "colab": {
          "base_uri": "https://localhost:8080/"
        },
        "id": "MBRi8KyjSwua",
        "outputId": "2285cbb3-855d-4dd4-f9e5-e0082a235506"
      },
      "execution_count": null,
      "outputs": [
        {
          "output_type": "stream",
          "name": "stdout",
          "text": [
            "0.30000000000000004\n",
            "0.3\n",
            "False\n"
          ]
        }
      ]
    },
    {
      "cell_type": "code",
      "source": [
        "visits_Oleg = ['Italy', 'Spain', 'German', 'China', 'Peru']\n",
        "visits_Kate = ['Cuba', 'Greece', 'Turkey', 'France', 'Italy', 'USA']"
      ],
      "metadata": {
        "id": "ql4m7mY5Tby9"
      },
      "execution_count": null,
      "outputs": []
    },
    {
      "cell_type": "code",
      "source": [
        "result = False\n",
        "for country in visits_Oleg:\n",
        "    # print(country)\n",
        "    if country in visits_Kate:\n",
        "        result = True\n",
        "        break\n",
        "# print('Страны в списках вообще не пересекаются')\n",
        "\n",
        "if result == True:\n",
        "    print('Общие страны есть!')\n",
        "else:\n",
        "    print('Страны в списках вообще не пересекаются')"
      ],
      "metadata": {
        "colab": {
          "base_uri": "https://localhost:8080/"
        },
        "id": "bpAkhOEhTdRs",
        "outputId": "5c1c3df5-0a8c-4773-bae4-dc672e0a4f82"
      },
      "execution_count": null,
      "outputs": [
        {
          "output_type": "stream",
          "name": "stdout",
          "text": [
            "Общие страны есть!\n"
          ]
        }
      ]
    },
    {
      "cell_type": "markdown",
      "metadata": {
        "id": "aOL5iGS9BlF0"
      },
      "source": [
        "## Рекомендуемые материалы:\n",
        "\n",
        "1. Тренажеры: https://t.me/solidtalk/94\n",
        "\n",
        "2. Литература:\n",
        " - А Byte of Python [англ. версия](https://python.swaroopch.com/), [рус. перевод](https://wombat.org.ua/AByteOfPython/AByteofPythonRussian-2.02.pdf). Легально, бесплатно, без СМС и регистрации.\n",
        " - Адитья Бхаргава, Грокаем алгоритмы. [На бумаге](https://bit.ly/3c4Drq3), [Электронная](https://bit.ly/3IWxklj). Бесплатно сами.\n",
        "\n",
        "3. Визуализатор исполнения кода: http://pythontutor.com/visualize.html#mode=edit\n",
        "\n",
        " Он может очень сильно помочь на начальном этапе изчения Python, когда вы пишите свои собственные программы, но ещё не понимаете как именно работает ваш код. Самые частые ошибки новичков – это непонимание границ выполнения ключевых этапов работы программы. Порой очень хороший код не будет работать из-за одной маленькой ошибки."
      ]
    },
    {
      "cell_type": "markdown",
      "metadata": {
        "id": "n0u7ea-9TC6U"
      },
      "source": [
        "**Установка  и настройка Anaconda**\n",
        "\n",
        "\n",
        "https://www.anaconda.com/distribution/\n",
        "\n",
        "1. Запустите скачанный инсталлятор. В первом появившемся окне необходимо нажать “Next”.\n",
        "2. Далее следует принять лицензионное соглашение.\n",
        "3. Выберете одну из опций установки:\n",
        "\n",
        "    * Just Me – только для пользователя, запустившего установку;\n",
        "    * All Users – для всех пользователей. (для тех, кто планирует выйти за пределы анализа данных)\n",
        "    \n",
        "4. Укажите путь, по которому будет установлена Anaconda.\n",
        "5. Укажите дополнительные опции:\n",
        "\n",
        "    * Add Anaconda to the system PATH environment variable – добавить Anaconda в системную переменную PATH\n",
        "    * Register Anaconda as the system Python  – использовать Anaconda, как интерпретатор Python по умолчанию.\n",
        "\n",
        "6. Для начала установки нажмите на кнопку “Install”\n",
        "7. После установки программы запустите Jupyter Notebook  (наберите его в поиске)\n",
        "8. В результате запустится веб-сервер и среда разработки в браузере.\n",
        "9. Создайте ноутбук для разработки, для этого нажмите на кнопку New (в правом углу окна) и в появившемся списке выберете Python.\n"
      ]
    },
    {
      "cell_type": "markdown",
      "metadata": {
        "id": "O4HbNmr0GcXH"
      },
      "source": [
        "## Ваши вопросы ^_^"
      ]
    },
    {
      "cell_type": "code",
      "metadata": {
        "id": "U8j1kWgjB3If"
      },
      "source": [
        ""
      ],
      "execution_count": null,
      "outputs": []
    }
  ]
}