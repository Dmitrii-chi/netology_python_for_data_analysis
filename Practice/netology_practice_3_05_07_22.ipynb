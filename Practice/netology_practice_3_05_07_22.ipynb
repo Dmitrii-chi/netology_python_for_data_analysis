{
  "nbformat": 4,
  "nbformat_minor": 0,
  "metadata": {
    "colab": {
      "name": "netology_practice_3_05_07_22.ipynb",
      "provenance": [],
      "collapsed_sections": []
    },
    "kernelspec": {
      "name": "python3",
      "display_name": "Python 3"
    },
    "language_info": {
      "name": "python"
    }
  },
  "cells": [
    {
      "cell_type": "markdown",
      "metadata": {
        "id": "edQI-m-cCgpV"
      },
      "source": [
        "# Практика 3\n",
        "Теория: Функции\n",
        "\n",
        "Булыгин Олег:  \n",
        "* [LinkedIn](linkedin.com/in/obulygin)  \n",
        "* [Мой канал в ТГ по Python](https://t.me/solidtalk)"
      ]
    },
    {
      "cell_type": "markdown",
      "metadata": {
        "id": "U72FhsNpDhxX"
      },
      "source": [
        "\n",
        "\n",
        "1.   Вспомним args\n",
        "2.   Вспомним lambda-функции и посмотрим на итераторы\n",
        "3.   Напишем программу в процедурном стиле на основе функций\n",
        "\n",
        "\n"
      ]
    },
    {
      "cell_type": "markdown",
      "metadata": {
        "id": "XOY7VKI357LA"
      },
      "source": [
        "### Практика. Напишем функцию, которая определяет является ли слово палиндромом\n",
        "\n",
        "Пример работы программы:\n",
        "```\n",
        "print(is_palindrom('Радар'))\n",
        "True\n",
        "```\n",
        "\n",
        "```\n",
        "print(is_palindrom('строка'))\n",
        "False\n",
        "```"
      ]
    },
    {
      "cell_type": "code",
      "metadata": {
        "id": "TL8qWkEI6mLE",
        "colab": {
          "base_uri": "https://localhost:8080/"
        },
        "outputId": "4694261d-e64a-49ef-cebd-fa6aa3994632"
      },
      "source": [
        "def is_palindrom(some_string):\n",
        "  return some_string.lower() == some_string.lower()[::-1]\n",
        "\n",
        "is_palindrom('строка')"
      ],
      "execution_count": null,
      "outputs": [
        {
          "output_type": "execute_result",
          "data": {
            "text/plain": [
              "False"
            ]
          },
          "metadata": {},
          "execution_count": 4
        }
      ]
    },
    {
      "cell_type": "markdown",
      "metadata": {
        "id": "BF7EhPbcSVBV"
      },
      "source": [
        "## args and kwargs\n",
        "Иногда возникает ситуация, когда вы заранее не знаете, какое количество аргументов будет необходимо принять функции. В этом случае следует использовать аргументы произвольной длины ([args и kwargs](https://habr.com/ru/company/ruvds/blog/482464/)). Они задаются произвольным именем переменной, перед которой ставится звездочка (args) или две здездочки (kwargs)."
      ]
    },
    {
      "cell_type": "code",
      "metadata": {
        "id": "ilXaysWUawBT",
        "colab": {
          "base_uri": "https://localhost:8080/"
        },
        "outputId": "1f76d686-805b-46ab-ba46-876528c9b513"
      },
      "source": [
        "# Сумму всех позиционных аргументов вычисляем с помощью sum\n",
        "# *args упаковывает все позиционные аргументы в кортеж\n",
        "# **kwargs упаковывает все именованные аргументы в словарь, из которого получаем значение по ключу\n",
        "\n",
        "def sum_division(*args, **kwargs):\n",
        "    print(args)\n",
        "    print(kwargs)\n",
        "    return round(sum(args) / kwargs['divisor'], kwargs['accuracy'])\n",
        "\n",
        "print(sum_division(1, 2, 3, 4, 5, 6, 7, 8, 9, 10, divisor=7, accuracy=2))"
      ],
      "execution_count": null,
      "outputs": [
        {
          "output_type": "stream",
          "name": "stdout",
          "text": [
            "(1, 2, 3, 4, 5, 6, 7, 8, 9, 10)\n",
            "{'divisor': 7, 'accuracy': 2}\n",
            "7.86\n"
          ]
        }
      ]
    },
    {
      "cell_type": "code",
      "metadata": {
        "id": "9XSfxweRawBT",
        "colab": {
          "base_uri": "https://localhost:8080/"
        },
        "outputId": "b5842e96-d64f-4484-b20b-7b0be665795e"
      },
      "source": [
        "# распаковка позволяет отделить создание списка аргументов от их передачи в функцию\n",
        "numbers = [1, 2, 3, 4, 5, 6, 7, 8, 9, 10]\n",
        "params = {'divisor':7,'accuracy':2}\n",
        "\n",
        "print(sum_division(*numbers, **params))"
      ],
      "execution_count": null,
      "outputs": [
        {
          "output_type": "stream",
          "name": "stdout",
          "text": [
            "(1, 2, 3, 4, 5, 6, 7, 8, 9, 10)\n",
            "{'divisor': 7, 'accuracy': 2}\n",
            "7.86\n"
          ]
        }
      ]
    },
    {
      "cell_type": "markdown",
      "metadata": {
        "id": "6GGM5SzuRYl3"
      },
      "source": [
        "### Практика. Напишем функцию, которая будет находить среднюю цену квартиры по всем переданным в нее районам города"
      ]
    },
    {
      "cell_type": "code",
      "metadata": {
        "id": "CRljX_0tRexA"
      },
      "source": [
        "district_1 = {'flat_1': 10500, 'flat_2': 11000}\n",
        "district_2 = {'flat_3': 15000}\n",
        "district_3 = {'flat_4': 6500, 'flat_5': 7000, 'flat_6': 6000}   "
      ],
      "execution_count": null,
      "outputs": []
    },
    {
      "cell_type": "code",
      "metadata": {
        "id": "2SGGQbgGRnpC"
      },
      "source": [
        "def get_avg_price(*districts):\n",
        "    print(districts)\n",
        "    cost = 0\n",
        "    count = 0\n",
        "    for district in districts:\n",
        "        cost += sum(district.values())\n",
        "        count += len(district.values())\n",
        "    return round(cost / count, 2)"
      ],
      "execution_count": null,
      "outputs": []
    },
    {
      "cell_type": "code",
      "metadata": {
        "id": "S5KPqo9_u9NU",
        "colab": {
          "base_uri": "https://localhost:8080/"
        },
        "outputId": "d78b89ab-96b6-42cd-a685-8da7c2d1ef44"
      },
      "source": [
        "get_avg_price(district_1, district_2, district_3)"
      ],
      "execution_count": null,
      "outputs": [
        {
          "output_type": "stream",
          "name": "stdout",
          "text": [
            "({'flat_1': 10500, 'flat_2': 11000}, {'flat_3': 15000}, {'flat_4': 6500, 'flat_5': 7000, 'flat_6': 6000})\n"
          ]
        },
        {
          "output_type": "execute_result",
          "data": {
            "text/plain": [
              "9333.33"
            ]
          },
          "metadata": {},
          "execution_count": 18
        }
      ]
    },
    {
      "cell_type": "markdown",
      "metadata": {
        "id": "_mY3dvurRsd4"
      },
      "source": [
        "## Комплексный пример"
      ]
    },
    {
      "cell_type": "code",
      "metadata": {
        "id": "OPd5-8lVRuL5"
      },
      "source": [
        "students_list = [\n",
        "    {\"name\": \"Василий\", \"surname\": \"Теркин\", \"gender\": \"м\", \"program_exp\": True, \"grade\": [8, 8, 9, 10], \"exam\": 8},\n",
        "    {\"name\": \"Мария\", \"surname\": \"Павлова\", \"gender\": \"ж\", \"program_exp\": True, \"grade\": [7, 8, 9, 7, 9], \"exam\": 9},\n",
        "    {\"name\": \"Ирина\", \"surname\": \"Андреева\", \"gender\": \"ж\", \"program_exp\": False, \"grade\": [10, 9, 8, 10], \"exam\": 7},\n",
        "    {\"name\": \"Татьяна\", \"surname\": \"Сидорова\", \"gender\": \"ж\", \"program_exp\": False, \"grade\": [7, 8, 8, 9, 8],\"exam\": 10},\n",
        "    {\"name\": \"Иван\", \"surname\": \"Васильев\", \"gender\": \"м\", \"program_exp\": True, \"grade\": [9, 8, 9, 6, 9, 4], \"exam\": 5},\n",
        "    {\"name\": \"Роман\", \"surname\": \"Золотарев\", \"gender\": \"м\", \"program_exp\": False, \"grade\": [8, 9, 9, 6, 9], \"exam\": 6}\n",
        "]"
      ],
      "execution_count": null,
      "outputs": []
    },
    {
      "cell_type": "code",
      "source": [
        "def get_avg_ex_grade(students):\n",
        "    sum_ex = 0\n",
        "    for student in students:\n",
        "        sum_ex += student['exam']\n",
        "    return round(sum_ex / len(students), 2)"
      ],
      "metadata": {
        "id": "V1pidOPDDt1o"
      },
      "execution_count": null,
      "outputs": []
    },
    {
      "cell_type": "code",
      "source": [
        "get_avg_ex_grade(students_list)"
      ],
      "metadata": {
        "colab": {
          "base_uri": "https://localhost:8080/"
        },
        "id": "BfSg3n6pOlrU",
        "outputId": "b6cdbf00-b017-42b6-a0fd-5ff0c5ef7c5d"
      },
      "execution_count": null,
      "outputs": [
        {
          "output_type": "execute_result",
          "data": {
            "text/plain": [
              "7.5"
            ]
          },
          "metadata": {},
          "execution_count": 22
        }
      ]
    },
    {
      "cell_type": "code",
      "source": [
        "def get_avg_hw_grade(students):\n",
        "    sum_hw = 0\n",
        "    for student in students:\n",
        "        sum_hw += sum(student['grade']) / len(student['grade'])\n",
        "    return round(sum_hw / len(students), 2)"
      ],
      "metadata": {
        "id": "8t_ZX-W0RCvF"
      },
      "execution_count": null,
      "outputs": []
    },
    {
      "cell_type": "code",
      "source": [
        "get_avg_hw_grade(students_list)"
      ],
      "metadata": {
        "colab": {
          "base_uri": "https://localhost:8080/"
        },
        "id": "yEsr-ou_RZkj",
        "outputId": "236ea582-72fc-4246-d1a7-d66814684f6d"
      },
      "execution_count": null,
      "outputs": [
        {
          "output_type": "execute_result",
          "data": {
            "text/plain": [
              "8.28"
            ]
          },
          "metadata": {},
          "execution_count": 24
        }
      ]
    },
    {
      "cell_type": "code",
      "source": [
        "def get_avg_hw_grade(students, exp):\n",
        "    '''\n",
        "    this is my function it returns something \n",
        "    - \n",
        "    - \n",
        "    - \n",
        "    '''\n",
        "    sum_hw = 0\n",
        "    counter = 0\n",
        "    for student in students:\n",
        "        if student['program_exp'] == exp:\n",
        "            sum_hw += sum(student['grade']) / len(student['grade'])\n",
        "            counter += 1\n",
        "    return round(sum_hw / counter, 2)"
      ],
      "metadata": {
        "id": "VEgHO3MVR_Pj"
      },
      "execution_count": null,
      "outputs": []
    },
    {
      "cell_type": "code",
      "source": [
        "help(get_avg_hw_grade)"
      ],
      "metadata": {
        "colab": {
          "base_uri": "https://localhost:8080/"
        },
        "id": "wj28LzNAVWxw",
        "outputId": "37b81530-834b-4e0c-a061-1375916f4885"
      },
      "execution_count": null,
      "outputs": [
        {
          "output_type": "stream",
          "name": "stdout",
          "text": [
            "Help on function get_avg_hw_grade in module __main__:\n",
            "\n",
            "get_avg_hw_grade(students, exp)\n",
            "    this is my function it returns something \n",
            "    \n",
            "    - \n",
            "    - \n",
            "    -\n",
            "\n"
          ]
        }
      ]
    },
    {
      "cell_type": "code",
      "source": [
        "print(get_avg_hw_grade(students_list, True))\n",
        "print(get_avg_hw_grade(students_list, False))"
      ],
      "metadata": {
        "colab": {
          "base_uri": "https://localhost:8080/"
        },
        "id": "UXeCaWt9SbLd",
        "outputId": "ea58501e-0e0c-421a-9f33-950afd2723ab"
      },
      "execution_count": null,
      "outputs": [
        {
          "output_type": "stream",
          "name": "stdout",
          "text": [
            "8.08\n",
            "8.48\n"
          ]
        }
      ]
    },
    {
      "cell_type": "code",
      "source": [
        "def get_avg_hw_grade(students, exp=None):\n",
        "    sum_hw = 0\n",
        "    counter = 0\n",
        "    for student in students:\n",
        "        if student['program_exp'] == exp or exp is None:\n",
        "            sum_hw += sum(student['grade']) / len(student['grade'])\n",
        "            counter += 1\n",
        "    return round(sum_hw / counter, 2)\n",
        "\n",
        "print(get_avg_hw_grade(students_list))\n",
        "print(get_avg_hw_grade(students_list, True))\n",
        "print(get_avg_hw_grade(students_list, False))"
      ],
      "metadata": {
        "colab": {
          "base_uri": "https://localhost:8080/"
        },
        "id": "Pejow83JVpLb",
        "outputId": "8950eeab-c247-4867-b465-7e737206d28d"
      },
      "execution_count": null,
      "outputs": [
        {
          "output_type": "stream",
          "name": "stdout",
          "text": [
            "8.28\n",
            "8.08\n",
            "8.48\n"
          ]
        }
      ]
    },
    {
      "cell_type": "code",
      "source": [
        "def get_avg_hw_grade(students, exp=None, gender=None):\n",
        "    sum_hw = 0\n",
        "    counter = 0\n",
        "    for student in students:\n",
        "        if (student['program_exp'] == exp or exp is None) and (student['gender'] == gender or gender is None):\n",
        "            sum_hw += sum(student['grade']) / len(student['grade'])\n",
        "            counter += 1\n",
        "    return round(sum_hw / counter, 2)\n",
        "\n",
        "# print(get_avg_hw_grade(students_list))\n",
        "# print(get_avg_hw_grade(students_list, True))\n",
        "# print(get_avg_hw_grade(students_list, False))\n",
        "# print(get_avg_hw_grade(students_list, True, 'м'))\n",
        "# print(get_avg_hw_grade(students_list, False, 'ж'))\n",
        "\n",
        "print(get_avg_hw_grade(students_list, None, 'ж'))\n",
        "print(get_avg_hw_grade(students_list, gender='ж'))"
      ],
      "metadata": {
        "colab": {
          "base_uri": "https://localhost:8080/"
        },
        "id": "v5z4eug0XPH_",
        "outputId": "bc135698-443c-4506-8026-069c88164aca"
      },
      "execution_count": null,
      "outputs": [
        {
          "output_type": "stream",
          "name": "stdout",
          "text": [
            "8.42\n",
            "8.42\n"
          ]
        }
      ]
    },
    {
      "cell_type": "code",
      "source": [
        "def avg_hw_by_std(students):\n",
        "    for student in students:\n",
        "        print(f\"Студент: {student['name']} {student['surname']}, средний балл: {sum(student['grade']) / len(student['grade'])}\")\n",
        "\n",
        "avg_hw_by_std(students_list)"
      ],
      "metadata": {
        "colab": {
          "base_uri": "https://localhost:8080/"
        },
        "id": "xNH7S6diYSCM",
        "outputId": "7217f9bc-cc83-4090-ca5b-b898cad850b4"
      },
      "execution_count": null,
      "outputs": [
        {
          "output_type": "stream",
          "name": "stdout",
          "text": [
            "Студент: Василий Теркин, средний балл: 8.75\n",
            "Студент: Мария Павлова, средний балл: 8.0\n",
            "Студент: Ирина Андреева, средний балл: 9.25\n",
            "Студент: Татьяна Сидорова, средний балл: 8.0\n",
            "Студент: Иван Васильев, средний балл: 7.5\n",
            "Студент: Роман Золотарев, средний балл: 8.2\n"
          ]
        }
      ]
    },
    {
      "cell_type": "code",
      "source": [
        "def main(students):\n",
        "    while True:\n",
        "        command = input('Введите команду')\n",
        "        if command == '1':\n",
        "            print(get_avg_hw_grade(students))\n",
        "        elif command == '2':\n",
        "            print(get_avg_hw_grade(students, None, 'ж'))\n",
        "        elif command == '3':\n",
        "            avg_hw_by_std(students)\n",
        "        elif command == 'q':\n",
        "            break\n",
        "\n",
        "main(students_list)"
      ],
      "metadata": {
        "colab": {
          "base_uri": "https://localhost:8080/"
        },
        "id": "qKtGtPDOYw5Z",
        "outputId": "67a22af0-8819-4f69-eb70-466bbf0133a9"
      },
      "execution_count": null,
      "outputs": [
        {
          "name": "stdout",
          "output_type": "stream",
          "text": [
            "Введите команду1\n",
            "8.28\n",
            "Введите команду2\n",
            "8.42\n",
            "Введите команду3\n",
            "Студент: Василий Теркин, средний балл: 8.75\n",
            "Студент: Мария Павлова, средний балл: 8.0\n",
            "Студент: Ирина Андреева, средний балл: 9.25\n",
            "Студент: Татьяна Сидорова, средний балл: 8.0\n",
            "Студент: Иван Васильев, средний балл: 7.5\n",
            "Студент: Роман Золотарев, средний балл: 8.2\n",
            "Введите команду1\n",
            "8.28\n",
            "Введите командуq\n"
          ]
        }
      ]
    },
    {
      "cell_type": "markdown",
      "metadata": {
        "id": "mgMjftejd7Ph"
      },
      "source": [
        "## Анонимные функции, функции map и filter\n",
        "\n",
        "[Анонимные функции](https://habr.com/ru/post/507642/) создаются при помощи инструкции lambda и используются для более краткой записи функций с одним выражением. Выполняются быстрее обычных и не требуют инструкции return."
      ]
    },
    {
      "cell_type": "markdown",
      "metadata": {
        "id": "hvVaGxqS7P9Z"
      },
      "source": [
        "Отсортируем словарь"
      ]
    },
    {
      "cell_type": "code",
      "metadata": {
        "id": "49SDXEYuOREp"
      },
      "source": [
        "my_dict = {\n",
        "    'id1': 654321, \n",
        "    'id2': 123456, \n",
        "    'id3': 777777\n",
        "}"
      ],
      "execution_count": null,
      "outputs": []
    },
    {
      "cell_type": "code",
      "metadata": {
        "id": "avPFj4lxORa2"
      },
      "source": [
        "res = {}\n",
        "for sorted_value in sorted(my_dict.values()):\n",
        "    for key, value in my_dict.items():\n",
        "        if sorted_value == value:\n",
        "           res[key] = sorted_value \n",
        "\n",
        "print(res)"
      ],
      "execution_count": null,
      "outputs": []
    },
    {
      "cell_type": "markdown",
      "metadata": {
        "id": "xkoo_sMMPW_l"
      },
      "source": [
        "### Отсортируем словарь без циклов"
      ]
    },
    {
      "cell_type": "code",
      "metadata": {
        "id": "3lsPYgCxQRYi"
      },
      "source": [
        ""
      ],
      "execution_count": null,
      "outputs": []
    },
    {
      "cell_type": "markdown",
      "metadata": {
        "id": "1whxQleKMlLv"
      },
      "source": [
        "Получим список из средних цен в каждой категории товаров"
      ]
    },
    {
      "cell_type": "code",
      "metadata": {
        "id": "xZTL8aTPMNEE"
      },
      "source": [
        "prices_by_categories = [[100, 200, 400, 600], [200, 500], [100, 200, 100, 100], [800, 900]]"
      ],
      "execution_count": null,
      "outputs": []
    },
    {
      "cell_type": "code",
      "metadata": {
        "colab": {
          "base_uri": "https://localhost:8080/"
        },
        "id": "m1DA5YEIMxw3",
        "outputId": "9c625e1e-0cdd-4cb8-f1c1-9b3a004eebfc"
      },
      "source": [
        "def get_avg_prices(prices):\n",
        "    mean_prices = []\n",
        "    for category in prices:\n",
        "        mean_prices.append(sum(category) / len(category))\n",
        "    return mean_prices\n",
        "\n",
        "print(get_avg_prices(prices_by_categories))"
      ],
      "execution_count": null,
      "outputs": [
        {
          "output_type": "stream",
          "name": "stdout",
          "text": [
            "[325.0, 350.0, 125.0, 850.0]\n"
          ]
        }
      ]
    },
    {
      "cell_type": "code",
      "metadata": {
        "id": "zWKy77kXQaTT"
      },
      "source": [
        "# при помощи list comprehension\n",
        "\n",
        "[sum(category) / len(category) for category in prices_by_categories]"
      ],
      "execution_count": null,
      "outputs": []
    },
    {
      "cell_type": "markdown",
      "metadata": {
        "id": "y46TpSe5NFei"
      },
      "source": [
        "### Получим список из средних цен без цикла"
      ]
    },
    {
      "cell_type": "code",
      "metadata": {
        "id": "uTmmXJz8NlzC",
        "colab": {
          "base_uri": "https://localhost:8080/"
        },
        "outputId": "b0117315-3d77-4665-db14-180099469b09"
      },
      "source": [
        "list(map(lambda category: sum(category) / len(category), prices_by_categories))"
      ],
      "execution_count": null,
      "outputs": [
        {
          "output_type": "execute_result",
          "data": {
            "text/plain": [
              "[325.0, 350.0, 125.0, 850.0]"
            ]
          },
          "metadata": {},
          "execution_count": 47
        }
      ]
    },
    {
      "cell_type": "markdown",
      "metadata": {
        "id": "yH-gS2ATQesE"
      },
      "source": [
        "Решим задачу с фильтрацией структуры по гордам без цикла"
      ]
    },
    {
      "cell_type": "code",
      "metadata": {
        "id": "EBLHeZpvQnFZ"
      },
      "source": [
        "geo_logs = [\n",
        "    {'visit1': ['Москва', 'Россия']},\n",
        "    {'visit2': ['Дели', 'Индия']},\n",
        "    {'visit3': ['Владимир', 'Россия']},\n",
        "    {'visit4': ['Лиссабон', 'Португалия']},\n",
        "    {'visit5': ['Париж', 'Франция']},\n",
        "    {'visit7': ['Тула', 'Россия']},\n",
        "    {'visit9': ['Курск', 'Россия']},\n",
        "    {'visit10': ['Архангельск', 'Россия']}\n",
        "]"
      ],
      "execution_count": null,
      "outputs": []
    },
    {
      "cell_type": "code",
      "metadata": {
        "id": "DaRAQ3R1QsP1",
        "colab": {
          "base_uri": "https://localhost:8080/"
        },
        "outputId": "c40ad209-5536-4e22-e017-bb2a910a0868"
      },
      "source": [
        "result = []\n",
        "for log in geo_logs:\n",
        "    if 'Россия' in list(log.values())[0]:\n",
        "        result.append(log)\n",
        "        \n",
        "print(result)"
      ],
      "execution_count": null,
      "outputs": [
        {
          "output_type": "stream",
          "name": "stdout",
          "text": [
            "[{'visit1': ['Москва', 'Россия']}, {'visit3': ['Владимир', 'Россия']}, {'visit7': ['Тула', 'Россия']}, {'visit9': ['Курск', 'Россия']}, {'visit10': ['Архангельск', 'Россия']}]\n"
          ]
        }
      ]
    },
    {
      "cell_type": "code",
      "source": [
        "def my_filter(log):\n",
        "    return 'Россия' in list(log.values())[0]\n",
        "\n",
        "list(filter(my_filter, geo_logs))"
      ],
      "metadata": {
        "colab": {
          "base_uri": "https://localhost:8080/"
        },
        "id": "q4uab-MSb_AS",
        "outputId": "7210ba3e-7667-4931-9332-20e303ad7b22"
      },
      "execution_count": null,
      "outputs": [
        {
          "output_type": "execute_result",
          "data": {
            "text/plain": [
              "[{'visit1': ['Москва', 'Россия']},\n",
              " {'visit3': ['Владимир', 'Россия']},\n",
              " {'visit7': ['Тула', 'Россия']},\n",
              " {'visit9': ['Курск', 'Россия']},\n",
              " {'visit10': ['Архангельск', 'Россия']}]"
            ]
          },
          "metadata": {},
          "execution_count": 44
        }
      ]
    },
    {
      "cell_type": "code",
      "metadata": {
        "id": "69ru-aTZQu8j",
        "colab": {
          "base_uri": "https://localhost:8080/"
        },
        "outputId": "398c4c11-9471-4c19-ffa6-55c3e79fbd4f"
      },
      "source": [
        "list(filter(lambda log: 'Россия' in list(log.values())[0], geo_logs))"
      ],
      "execution_count": null,
      "outputs": [
        {
          "output_type": "execute_result",
          "data": {
            "text/plain": [
              "[{'visit1': ['Москва', 'Россия']},\n",
              " {'visit3': ['Владимир', 'Россия']},\n",
              " {'visit7': ['Тула', 'Россия']},\n",
              " {'visit9': ['Курск', 'Россия']},\n",
              " {'visit10': ['Архангельск', 'Россия']}]"
            ]
          },
          "metadata": {},
          "execution_count": 43
        }
      ]
    },
    {
      "cell_type": "markdown",
      "metadata": {
        "id": "ONpdieq_fpaF"
      },
      "source": [
        "## Цикл / рекурсия / reduce ?\n",
        "\n",
        "Напишем функцию, преобразующую произвольный список вида `['2018-01-01', 'yandex', 'cpc', 100]` (он может быть любой длины) в словарь `{'2018-01-01': {'yandex': {'cpc': 100}}}`"
      ]
    },
    {
      "cell_type": "code",
      "metadata": {
        "id": "GEn97dBdfxx_"
      },
      "source": [
        "some_list = ['2018-01-01', 'yandex', 'cpc', 100]"
      ],
      "execution_count": null,
      "outputs": []
    },
    {
      "cell_type": "code",
      "metadata": {
        "id": "jB-JJVCo8DD3"
      },
      "source": [
        ""
      ],
      "execution_count": null,
      "outputs": []
    },
    {
      "cell_type": "code",
      "metadata": {
        "id": "tpi4nSM-gLOh"
      },
      "source": [
        "def get_crazy_nested_dict(some_list):\n",
        "    res = some_list[-1]            \n",
        "    for el in reversed(some_list[:-1]):      \n",
        "        res = {el: res}    \n",
        "    return res\n",
        "    \n",
        "print(get_crazy_nested_dict(some_list))"
      ],
      "execution_count": null,
      "outputs": []
    },
    {
      "cell_type": "markdown",
      "source": [
        "Реализация через рекурсию\n",
        "\n",
        "Рекурсивная функция — функция, которавя вызывает саму себя"
      ],
      "metadata": {
        "id": "-YWodOgdCPgR"
      }
    },
    {
      "cell_type": "code",
      "metadata": {
        "id": "IUQ7BAaVgVnt"
      },
      "source": [
        ""
      ],
      "execution_count": null,
      "outputs": []
    },
    {
      "cell_type": "markdown",
      "metadata": {
        "id": "cxXK7hh34vOd"
      },
      "source": [
        "Реализация через reduce\n",
        "\n",
        "reduce последовательно применяет функцию-аргумент к элементам итерируемого объекта и возвращает единичное значение. \n"
      ]
    },
    {
      "cell_type": "code",
      "metadata": {
        "id": "sAzUILMAYebk"
      },
      "source": [
        "from functools import reduce\n",
        "res = reduce(lambda a, b: a * b, [1, 5, 7, 9])"
      ],
      "execution_count": null,
      "outputs": []
    },
    {
      "cell_type": "code",
      "metadata": {
        "id": "GGdtz70qhBx8"
      },
      "source": [
        "# from functools import reduce\n",
        "print(reduce(lambda value, key: {key: value}, reversed(some_list)))"
      ],
      "execution_count": null,
      "outputs": []
    },
    {
      "cell_type": "code",
      "source": [
        "print(reduce(lambda key, value: {value: key}, some_list))"
      ],
      "metadata": {
        "id": "6jh0iCULwiWn"
      },
      "execution_count": null,
      "outputs": []
    },
    {
      "cell_type": "markdown",
      "metadata": {
        "id": "D2RHLDZREpo4"
      },
      "source": [
        "## Ваши вопросы"
      ]
    },
    {
      "cell_type": "code",
      "metadata": {
        "id": "8CdShv8BSV3A",
        "colab": {
          "base_uri": "https://localhost:8080/"
        },
        "outputId": "cd1e7223-21bc-467f-81eb-1a4fe5408f23"
      },
      "source": [
        "number = 747456\n",
        "\n",
        "num_1 = number // 100000\n",
        "\n",
        "print(num_1)\n",
        "\n",
        "num_2 = number // 10000 % 10\n",
        "print(num_2)\n",
        "\n",
        "num_3 = number // 1000 % 10\n",
        "print(num_3)"
      ],
      "execution_count": null,
      "outputs": [
        {
          "output_type": "stream",
          "name": "stdout",
          "text": [
            "7\n",
            "4\n",
            "7\n"
          ]
        }
      ]
    },
    {
      "cell_type": "code",
      "metadata": {
        "id": "idXHoa_6Eqml"
      },
      "source": [
        "my_list = ['2018-01-01', 'yandex', 'cpc', 100]\n",
        "# {'2018-01-01': {'yandex': {'cpc': 100}}}\n",
        "\n",
        "# res = 100\n",
        "\n",
        "# for ...:\n",
        "#     res = {:}"
      ],
      "execution_count": null,
      "outputs": []
    },
    {
      "cell_type": "code",
      "source": [
        "weird_numb = [4, 8, 15, 16, 23, 42]\n",
        "\n",
        "for weird_numb[-1] in weird_numb:\n",
        "  print(weird_numb[-1], end=' ')"
      ],
      "metadata": {
        "colab": {
          "base_uri": "https://localhost:8080/"
        },
        "id": "C4B8EMMDfaUV",
        "outputId": "68706514-ba09-4036-d9c9-8600e0ed6fd1"
      },
      "execution_count": null,
      "outputs": [
        {
          "output_type": "stream",
          "name": "stdout",
          "text": [
            "4 8 15 16 23 23 "
          ]
        }
      ]
    },
    {
      "cell_type": "code",
      "source": [
        "for el in weird_numb:\n",
        "    weird_numb[-1] = el\n",
        "    print(el, end=' ')"
      ],
      "metadata": {
        "colab": {
          "base_uri": "https://localhost:8080/"
        },
        "id": "_0AKNeHCfyQ-",
        "outputId": "9bba47ae-873e-4910-d670-1f41bb26be66"
      },
      "execution_count": null,
      "outputs": [
        {
          "output_type": "stream",
          "name": "stdout",
          "text": [
            "4 8 15 16 23 23 "
          ]
        }
      ]
    },
    {
      "cell_type": "code",
      "source": [
        "a = [1, 2, 3]\n",
        "b = a\n",
        "b.append(4)\n",
        "\n",
        "print(a)"
      ],
      "metadata": {
        "id": "GUfVRWfMgi9Q"
      },
      "execution_count": null,
      "outputs": []
    }
  ]
}