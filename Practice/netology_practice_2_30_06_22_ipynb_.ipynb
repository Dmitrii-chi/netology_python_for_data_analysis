{
  "nbformat": 4,
  "nbformat_minor": 0,
  "metadata": {
    "colab": {
      "name": "Копия блокнота \"netology_practice_2_30_06_22.ipynb\"",
      "provenance": [],
      "collapsed_sections": []
    },
    "kernelspec": {
      "name": "python3",
      "display_name": "Python 3"
    },
    "language_info": {
      "name": "python"
    }
  },
  "cells": [
    {
      "cell_type": "markdown",
      "metadata": {
        "id": "edQI-m-cCgpV"
      },
      "source": [
        "# Практика 2\n",
        "Теория: Типы данных и циклы. Часть 2\n",
        "\n",
        "Булыгин Олег:  \n",
        "* [LinkedIn](linkedin.com/in/obulygin)  \n",
        "* [Мой канал в ТГ по Python](https://t.me/solidtalk)"
      ]
    },
    {
      "cell_type": "markdown",
      "metadata": {
        "id": "U72FhsNpDhxX"
      },
      "source": [
        "\n",
        "\n",
        "1.   Пару полезностей\n",
        "2.   list comprehension\n",
        "3.   Словари\n",
        "4.   dict comprehension\n",
        "5.   Множества\n",
        "\n",
        "\n"
      ]
    },
    {
      "cell_type": "markdown",
      "metadata": {
        "id": "QNfWgqNZEeYb"
      },
      "source": [
        "Напишем программу для проверки логина и пароля\n",
        "\n",
        "1) логин и пароль пользователя хранится в переменной\n",
        "\n",
        "2) будем давать пользователю k попыток на ввод логина и пароля\n",
        "\n",
        "3) если после трех попыток вверного ввода не было, то заблокируем вход - вывести на экран сообщение \"Вход заблокирован\"\n",
        "\n",
        "4) если пароль и логин были введены верно, то вывести на экран сообщение \"Добро пожаловать!\""
      ]
    },
    {
      "cell_type": "code",
      "metadata": {
        "id": "WPYGThD8EeYb",
        "colab": {
          "base_uri": "https://localhost:8080/"
        },
        "outputId": "8d809b17-50d0-4853-8328-9d9155086b94"
      },
      "source": [
        "login = 'admin'\n",
        "pswd = 'admin'\n",
        "\n",
        "k = 3\n",
        "for i in range(0, k):\n",
        "    user_log = input('Введите логин')\n",
        "    user_pswd = input('Введите пароль')\n",
        "    if user_log != login or user_pswd != pswd:\n",
        "        k -= 1\n",
        "        print(f'Осталось {k} попыток')\n",
        "    else:\n",
        "        print('Добро пожаловать!')\n",
        "        break\n",
        "else:\n",
        "    print('Вход заблокирован!')\n",
        "    "
      ],
      "execution_count": null,
      "outputs": [
        {
          "output_type": "stream",
          "name": "stdout",
          "text": [
            "Введите логинhrt\n",
            "Введите пароль356h\n",
            "Осталось 2 попыток\n",
            "Введите логинrtggr\n",
            "Введите пароль45y\n",
            "Осталось 1 попыток\n",
            "Введите логинerh\n",
            "Введите пароль45y\n",
            "Осталось 0 попыток\n",
            "Вход заблокирован!\n"
          ]
        }
      ]
    },
    {
      "cell_type": "code",
      "source": [
        "zip_list = zip([1, 2, 3], (34345, 34, 36))\n",
        "\n",
        "# print(f'Какой-то список: {list(zip_list[0])}')\n",
        "print(f'Какой-то список: {list(zip_list)[0]}')"
      ],
      "metadata": {
        "colab": {
          "base_uri": "https://localhost:8080/"
        },
        "id": "UbdXCVX6lxPI",
        "outputId": "7430c9b1-e99b-4649-fe64-0eb6e5d759bf"
      },
      "execution_count": null,
      "outputs": [
        {
          "output_type": "stream",
          "name": "stdout",
          "text": [
            "Какой-то список: (1, 34345)\n"
          ]
        }
      ]
    },
    {
      "cell_type": "code",
      "source": [
        "for number in range(5, 20, 3):\n",
        "    print(number)"
      ],
      "metadata": {
        "colab": {
          "base_uri": "https://localhost:8080/"
        },
        "id": "4jSGL__RmxPi",
        "outputId": "32dc1bb6-90fc-4146-cedc-9e99f15f76c2"
      },
      "execution_count": null,
      "outputs": [
        {
          "output_type": "stream",
          "name": "stdout",
          "text": [
            "5\n",
            "8\n",
            "11\n",
            "14\n",
            "17\n"
          ]
        }
      ]
    },
    {
      "cell_type": "code",
      "source": [
        "list(range(5, 20, 3))"
      ],
      "metadata": {
        "colab": {
          "base_uri": "https://localhost:8080/"
        },
        "id": "p2poF22nnAPb",
        "outputId": "9fef3ed0-308c-427b-8634-198944e4a7a5"
      },
      "execution_count": null,
      "outputs": [
        {
          "output_type": "execute_result",
          "data": {
            "text/plain": [
              "[5, 8, 11, 14, 17]"
            ]
          },
          "metadata": {},
          "execution_count": 14
        }
      ]
    },
    {
      "cell_type": "markdown",
      "metadata": {
        "id": "XOY7VKI357LA"
      },
      "source": [
        "Как можно \"разгладить\" список. Задачка на мышление  \n",
        "Должен получится результат:\n",
        "\n",
        "`['Екатеринбург', 'Москва', 'Санкт-Петербург', 'Норильск', 'Пермь', 'Астрахань']`"
      ]
    },
    {
      "cell_type": "code",
      "metadata": {
        "id": "TL8qWkEI6mLE"
      },
      "source": [
        "my_list = [['Екатеринбург', 'Москва'], ['Санкт-Петербург', 'Норильск'], ['Пермь', 'Астрахань']]"
      ],
      "execution_count": null,
      "outputs": []
    },
    {
      "cell_type": "code",
      "source": [
        "res = []\n",
        "for cities in my_list:\n",
        "    for city in cities:\n",
        "        res.append(city)\n",
        "res"
      ],
      "metadata": {
        "colab": {
          "base_uri": "https://localhost:8080/"
        },
        "id": "WMv6rxj4nFjB",
        "outputId": "e19742d4-a286-4a72-ded0-20808e770d68"
      },
      "execution_count": null,
      "outputs": [
        {
          "output_type": "execute_result",
          "data": {
            "text/plain": [
              "['Екатеринбург', 'Москва', 'Санкт-Петербург', 'Норильск', 'Пермь', 'Астрахань']"
            ]
          },
          "metadata": {},
          "execution_count": 16
        }
      ]
    },
    {
      "cell_type": "code",
      "source": [
        "res = []\n",
        "for cities in my_list:\n",
        "    res += cities\n",
        "res"
      ],
      "metadata": {
        "colab": {
          "base_uri": "https://localhost:8080/"
        },
        "id": "MDcGmLRfnsFw",
        "outputId": "51cbbc70-c4f2-4639-ce9e-0a9cb3791144"
      },
      "execution_count": null,
      "outputs": [
        {
          "output_type": "execute_result",
          "data": {
            "text/plain": [
              "['Екатеринбург', 'Москва', 'Санкт-Петербург', 'Норильск', 'Пермь', 'Астрахань']"
            ]
          },
          "metadata": {},
          "execution_count": 17
        }
      ]
    },
    {
      "cell_type": "code",
      "source": [
        "sum(my_list, [])"
      ],
      "metadata": {
        "colab": {
          "base_uri": "https://localhost:8080/"
        },
        "id": "tAJ8ZgKtoAQY",
        "outputId": "e6cc5881-f6a3-4009-b362-7d289653078e"
      },
      "execution_count": null,
      "outputs": [
        {
          "output_type": "execute_result",
          "data": {
            "text/plain": [
              "['Екатеринбург', 'Москва', 'Санкт-Петербург', 'Норильск', 'Пермь', 'Астрахань']"
            ]
          },
          "metadata": {},
          "execution_count": 22
        }
      ]
    },
    {
      "cell_type": "code",
      "source": [
        "number_list = [1, 3, 45, 43346]\n",
        "sum(number_list)"
      ],
      "metadata": {
        "colab": {
          "base_uri": "https://localhost:8080/"
        },
        "id": "9LWtrt-CoPDK",
        "outputId": "1ea1835d-0d33-4ed3-8898-4605cb79ffe8"
      },
      "execution_count": null,
      "outputs": [
        {
          "output_type": "execute_result",
          "data": {
            "text/plain": [
              "43395"
            ]
          },
          "metadata": {},
          "execution_count": 19
        }
      ]
    },
    {
      "cell_type": "code",
      "source": [
        "sum_ = 0\n",
        "for number in number_list:\n",
        "    sum_ += number\n",
        "\n",
        "print(sum_)"
      ],
      "metadata": {
        "colab": {
          "base_uri": "https://localhost:8080/"
        },
        "id": "oA-V_MvSokIJ",
        "outputId": "004724e9-8654-4556-c616-2f0bf7fcd661"
      },
      "execution_count": null,
      "outputs": [
        {
          "output_type": "stream",
          "name": "stdout",
          "text": [
            "43395\n"
          ]
        }
      ]
    },
    {
      "cell_type": "code",
      "source": [
        "?sum"
      ],
      "metadata": {
        "id": "i7Li5hSHowm2"
      },
      "execution_count": null,
      "outputs": []
    },
    {
      "cell_type": "markdown",
      "source": [
        "Изменим тип данных элементов в списке"
      ],
      "metadata": {
        "id": "0CsLXJJzpwgh"
      }
    },
    {
      "cell_type": "code",
      "source": [
        "str_list = ['5235', '325', '325', '2345']\n",
        "res = []\n",
        "\n",
        "for el in str_list:\n",
        "    res.append(int(el))\n",
        "res"
      ],
      "metadata": {
        "colab": {
          "base_uri": "https://localhost:8080/"
        },
        "id": "s_9ZGmLdprkF",
        "outputId": "13bf283a-49fb-4c41-8d1e-5feda42549da"
      },
      "execution_count": null,
      "outputs": [
        {
          "output_type": "execute_result",
          "data": {
            "text/plain": [
              "[5235, 325, 325, 2345]"
            ]
          },
          "metadata": {},
          "execution_count": 23
        }
      ]
    },
    {
      "cell_type": "code",
      "source": [
        "my_var = [int(el) for el in str_list]\n",
        "my_var"
      ],
      "metadata": {
        "colab": {
          "base_uri": "https://localhost:8080/"
        },
        "id": "iemPtIRhqEva",
        "outputId": "f3075d81-bef8-4bd4-a617-8f8a37958c9d"
      },
      "execution_count": null,
      "outputs": [
        {
          "output_type": "execute_result",
          "data": {
            "text/plain": [
              "[5235, 325, 325, 2345]"
            ]
          },
          "metadata": {},
          "execution_count": 25
        }
      ]
    },
    {
      "cell_type": "markdown",
      "metadata": {
        "id": "PEJpQwzs8JI9"
      },
      "source": [
        "**Практика**. Решим задачу с диагональной матрицей в одну строку"
      ]
    },
    {
      "cell_type": "code",
      "metadata": {
        "id": "tyIq2ve46Ppw"
      },
      "source": [
        "data = [\n",
        "    [13, 25, 23, 34],\n",
        "    [45, 32, 44, 47],\n",
        "    [12, 33, 23, 95],\n",
        "    [13, 53, 34, 35]\n",
        "]"
      ],
      "execution_count": null,
      "outputs": []
    },
    {
      "cell_type": "code",
      "metadata": {
        "id": "i_aU30a96Psx"
      },
      "source": [
        "# в прошлый раз было вот такое решение\n",
        "result = 0\n",
        "index = 0\n",
        "for row in data:\n",
        "    result += row[index]\n",
        "    index += 1\n",
        "print(result)"
      ],
      "execution_count": null,
      "outputs": []
    },
    {
      "cell_type": "code",
      "metadata": {
        "id": "CP_Vi8dv6Pva",
        "colab": {
          "base_uri": "https://localhost:8080/"
        },
        "outputId": "21d74273-6a7b-43a2-8690-64864247dc1b"
      },
      "source": [
        "res = sum([row[-index-1] for index, row in enumerate(data)])\n",
        "res"
      ],
      "execution_count": null,
      "outputs": [
        {
          "output_type": "execute_result",
          "data": {
            "text/plain": [
              "124"
            ]
          },
          "metadata": {},
          "execution_count": 33
        }
      ]
    },
    {
      "cell_type": "code",
      "source": [
        "import numpy as np\n",
        "\n",
        "np.mean(my_var)\n",
        "# min(my_var)"
      ],
      "metadata": {
        "colab": {
          "base_uri": "https://localhost:8080/"
        },
        "id": "zvFqfCW-sHG5",
        "outputId": "c0bc872f-0a2a-4400-fcc0-2619bfb0d938"
      },
      "execution_count": null,
      "outputs": [
        {
          "output_type": "execute_result",
          "data": {
            "text/plain": [
              "2057.5"
            ]
          },
          "metadata": {},
          "execution_count": 37
        }
      ]
    },
    {
      "cell_type": "code",
      "source": [
        "sum(my_var) / len(my_var)"
      ],
      "metadata": {
        "colab": {
          "base_uri": "https://localhost:8080/"
        },
        "id": "5zncGPTtsS21",
        "outputId": "865772ff-bcea-4901-b93f-34df840c3701"
      },
      "execution_count": null,
      "outputs": [
        {
          "output_type": "execute_result",
          "data": {
            "text/plain": [
              "2057.5"
            ]
          },
          "metadata": {},
          "execution_count": 38
        }
      ]
    },
    {
      "cell_type": "markdown",
      "metadata": {
        "id": "N48ikJJQApD2"
      },
      "source": [
        "Выведем информацию о странах и столициах в виде:  \n",
        " `The capital of ... is ...`"
      ]
    },
    {
      "cell_type": "code",
      "metadata": {
        "id": "vCv-tCPrA2Gp"
      },
      "source": [
        "europe = {'spain': {'capital':'madrid'},\n",
        "           'france': {'capital':'paris'},\n",
        "           'germany': {'capital':'berlin'},\n",
        "           'norway': {'capital':'oslo'}}"
      ],
      "execution_count": null,
      "outputs": []
    },
    {
      "cell_type": "code",
      "source": [
        "for country, capital in europe.items():\n",
        "    print(country)\n",
        "    print(capital)\n",
        "    \n",
        "    # print(f\"The capital of {country.title()} is {capital['capital'].title()}\")"
      ],
      "metadata": {
        "colab": {
          "base_uri": "https://localhost:8080/"
        },
        "id": "GAohQZ_guUWN",
        "outputId": "ce57271e-6cf9-4785-9a9e-57bbc0993519"
      },
      "execution_count": null,
      "outputs": [
        {
          "output_type": "stream",
          "name": "stdout",
          "text": [
            "spain\n",
            "{'capital': 'madrid'}\n",
            "france\n",
            "{'capital': 'paris'}\n",
            "germany\n",
            "{'capital': 'berlin'}\n",
            "norway\n",
            "{'capital': 'oslo'}\n"
          ]
        }
      ]
    },
    {
      "cell_type": "code",
      "metadata": {
        "id": "wWWxuvvLA7df",
        "colab": {
          "base_uri": "https://localhost:8080/"
        },
        "outputId": "0009192b-a1ed-437b-f9be-3d534bdf1514"
      },
      "source": [
        "for country, capital  in europe.items():\n",
        "    \n",
        "    print(f\"The capital of {country.title()} is {capital['capital'].title()}\")"
      ],
      "execution_count": null,
      "outputs": [
        {
          "output_type": "stream",
          "name": "stdout",
          "text": [
            "The capital of Spain is Madrid\n",
            "The capital of France is Paris\n",
            "The capital of Germany is Berlin\n",
            "The capital of Norway is Oslo\n"
          ]
        }
      ]
    },
    {
      "cell_type": "markdown",
      "source": [
        "Прошу обсудить вопрос с поиском  в словаре записи с максимальным значением. Задача типовая, должна как то просто решаться."
      ],
      "metadata": {
        "id": "6ex-XvtguBLf"
      }
    },
    {
      "cell_type": "code",
      "source": [
        "# people = [{'name': 'Oleg', 'age': '29', 'sex': 'Male'}, \n",
        "#           {'name': 'Kate', 'age': '21', 'sex': 'Female'}, \n",
        "#           {'name': 'Liza', 'age': '29', 'sex': 'Female'}, \n",
        "#           {'name': 'Pavel', 'age': '36', 'sex': 'Male'}]\n",
        "\n",
        "# target_age = 0\n",
        "\n",
        "# for person in people:\n",
        "#     if int(person['age']) == target_age:\n",
        "#         print(person['name'])"
      ],
      "metadata": {
        "colab": {
          "base_uri": "https://localhost:8080/"
        },
        "id": "XCzl6XfTt_dB",
        "outputId": "3cec7ab6-a80e-4ead-c709-a6ed9b3f7e90"
      },
      "execution_count": null,
      "outputs": [
        {
          "output_type": "stream",
          "name": "stdout",
          "text": [
            "Oleg\n",
            "Liza\n"
          ]
        }
      ]
    },
    {
      "cell_type": "code",
      "source": [
        "# f\"{(indicators['revenue'] / indicators['cost'] - 1) :.2%}\""
      ],
      "metadata": {
        "id": "xSqwNebzxFwR"
      },
      "execution_count": null,
      "outputs": []
    },
    {
      "cell_type": "markdown",
      "source": [
        ""
      ],
      "metadata": {
        "id": "5r9hPcyUwOff"
      }
    },
    {
      "cell_type": "markdown",
      "metadata": {
        "id": "M_J5Soup_9eI"
      },
      "source": [
        "**Практика**. Посчитаем средний возраст в коллективе"
      ]
    },
    {
      "cell_type": "code",
      "metadata": {
        "id": "1p9kq0qx__sL"
      },
      "source": [
        "people = {1: {'name': 'Oleg', 'age': '29', 'sex': 'Male'},\n",
        "          2: {'name': 'Kate', 'age': '21', 'sex': 'Female'},\n",
        "          3: {'name': 'Liza', 'age': '24', 'sex': 'Female'},\n",
        "          4: {'name': 'Pavel', 'age': '36', 'sex': 'Male'}}"
      ],
      "execution_count": null,
      "outputs": []
    },
    {
      "cell_type": "code",
      "metadata": {
        "id": "3X86dn5OACtD",
        "colab": {
          "base_uri": "https://localhost:8080/"
        },
        "outputId": "359f22a5-dde1-4e9d-be6f-0e4620a4c9af"
      },
      "source": [
        "age = 0\n",
        "for person in people.values():\n",
        "    age += int(person['age'])\n",
        "print(age / len(people))"
      ],
      "execution_count": null,
      "outputs": [
        {
          "output_type": "stream",
          "name": "stdout",
          "text": [
            "27.5\n"
          ]
        }
      ]
    },
    {
      "cell_type": "markdown",
      "metadata": {
        "id": "7aA2_CcMAD6x"
      },
      "source": [
        "Посчитаем средний возраст без цикла"
      ]
    },
    {
      "cell_type": "code",
      "metadata": {
        "id": "ovLtJHjxAFR9",
        "colab": {
          "base_uri": "https://localhost:8080/"
        },
        "outputId": "910a61f4-0119-4ed7-ba06-0836d9655139"
      },
      "source": [
        "sum([int(person['age']) for person in people.values()]) / len(people)"
      ],
      "execution_count": null,
      "outputs": [
        {
          "output_type": "execute_result",
          "data": {
            "text/plain": [
              "27.5"
            ]
          },
          "metadata": {},
          "execution_count": 52
        }
      ]
    },
    {
      "cell_type": "markdown",
      "metadata": {
        "id": "Ggm1L159-KAn"
      },
      "source": [
        "Удалим из словаря все пустые элементы (со значением None)"
      ]
    },
    {
      "cell_type": "code",
      "metadata": {
        "id": "hU7NKnDK6P0h"
      },
      "source": [
        "my_dict = {\n",
        "    'id1': 123456, \n",
        "    'id2': 654321, \n",
        "    'id3': None,\n",
        "    'id4': 0\n",
        "}"
      ],
      "execution_count": null,
      "outputs": []
    },
    {
      "cell_type": "code",
      "metadata": {
        "id": "YOq1vYnJ6P3c",
        "colab": {
          "base_uri": "https://localhost:8080/"
        },
        "outputId": "90b359d1-a32d-4377-a720-f311a315561c"
      },
      "source": [
        "res = {}\n",
        "\n",
        "for key, value in my_dict.items():\n",
        "    if value is not None:\n",
        "        res[key] = value\n",
        "print(res)"
      ],
      "execution_count": null,
      "outputs": [
        {
          "output_type": "stream",
          "name": "stdout",
          "text": [
            "{'id1': 123456, 'id2': 654321, 'id4': 0}\n"
          ]
        }
      ]
    },
    {
      "cell_type": "markdown",
      "metadata": {
        "id": "QSpBh3Z_-UcU"
      },
      "source": [
        "Сформируем такой же словарь без явного цикла"
      ]
    },
    {
      "cell_type": "code",
      "metadata": {
        "id": "Lv5s_iWK6P53",
        "colab": {
          "base_uri": "https://localhost:8080/"
        },
        "outputId": "0e21cdde-da59-4066-e7c5-cb2d062f3386"
      },
      "source": [
        "{key: value for key, value in my_dict.items() if value is not None}"
      ],
      "execution_count": null,
      "outputs": [
        {
          "output_type": "execute_result",
          "data": {
            "text/plain": [
              "{'id1': 123456, 'id2': 654321, 'id4': 0}"
            ]
          },
          "metadata": {},
          "execution_count": 61
        }
      ]
    },
    {
      "cell_type": "code",
      "metadata": {
        "id": "shq6fHSp6OFC"
      },
      "source": [
        ""
      ],
      "execution_count": null,
      "outputs": []
    },
    {
      "cell_type": "markdown",
      "metadata": {
        "id": "_4kcD1mOCEF9"
      },
      "source": [
        "Посчитаем сколько раз каждое слово встречалось в тексте и выведем информацию в виде:  \n",
        "`\"слово\": \"количество вхождений\" `\n"
      ]
    },
    {
      "cell_type": "code",
      "metadata": {
        "id": "jA_Vq1zMCFbs"
      },
      "source": [
        "some_oxy_text = '''\n",
        "Весь мой рэп, если коротко, про то, что\n",
        "Уж который год который город под подошвой\n",
        "В гору, когда прет. Потом под гору, когда тошно\n",
        "Я не то, что Гулливер, но все же город под подошвой\n",
        "Город под подошвой, город под подошвой\n",
        "Светофоры, госпошлины, сборы и таможни\n",
        "Я не знаю, вброд или на дно эта дорожка\n",
        "Ты живешь под каблуком, у меня - город под подошвой\n",
        "'''"
      ],
      "execution_count": null,
      "outputs": []
    },
    {
      "cell_type": "code",
      "metadata": {
        "id": "bpqff5vvCTOV",
        "colab": {
          "base_uri": "https://localhost:8080/"
        },
        "outputId": "4c6a4b4c-ab35-43c0-c229-1a6f4fcda28c"
      },
      "source": [
        "res = {}\n",
        "\n",
        "splitted_text = some_oxy_text.lower().replace('-', '').split()\n",
        "\n",
        "for word in splitted_text:\n",
        "    word = word.strip(',.!?')\n",
        "    res.setdefault(word, 0)\n",
        "    res[word] += 1\n",
        "\n",
        "print(res)"
      ],
      "execution_count": null,
      "outputs": [
        {
          "output_type": "stream",
          "name": "stdout",
          "text": [
            "{'весь': 1, 'мой': 1, 'рэп': 1, 'если': 1, 'коротко': 1, 'про': 1, 'то': 2, 'что': 2, 'уж': 1, 'который': 2, 'год': 1, 'город': 5, 'под': 7, 'подошвой': 5, 'в': 1, 'гору': 2, 'когда': 2, 'прет': 1, 'потом': 1, 'тошно': 1, 'я': 2, 'не': 2, 'гулливер': 1, 'но': 1, 'все': 1, 'же': 1, 'светофоры': 1, 'госпошлины': 1, 'сборы': 1, 'и': 1, 'таможни': 1, 'знаю': 1, 'вброд': 1, 'или': 1, 'на': 1, 'дно': 1, 'эта': 1, 'дорожка': 1, 'ты': 1, 'живешь': 1, 'каблуком': 1, 'у': 1, 'меня': 1}\n"
          ]
        }
      ]
    },
    {
      "cell_type": "markdown",
      "metadata": {
        "id": "wqRLJ6u8CUWy"
      },
      "source": [
        "Выведем информацию о встречаемости слов без второго цикла при помощи множества"
      ]
    },
    {
      "cell_type": "code",
      "metadata": {
        "id": "2GI3_onVCy21",
        "colab": {
          "base_uri": "https://localhost:8080/"
        },
        "outputId": "d88f2191-8cd4-4f14-f07a-19972570e407"
      },
      "source": [
        "text_clean = [word.strip(',.!?') for word in some_oxy_text.lower().replace('-', '').split()]\n",
        "for word in set(text_clean):\n",
        "    print(f'{word}: {text_clean.count(word)}')"
      ],
      "execution_count": null,
      "outputs": [
        {
          "output_type": "stream",
          "name": "stdout",
          "text": [
            "весь: 1\n",
            "или: 1\n",
            "потом: 1\n",
            "под: 7\n",
            "и: 1\n",
            "год: 1\n",
            "если: 1\n",
            "меня: 1\n",
            "дно: 1\n",
            "рэп: 1\n",
            "каблуком: 1\n",
            "все: 1\n",
            "на: 1\n",
            "эта: 1\n",
            "дорожка: 1\n",
            "у: 1\n",
            "подошвой: 5\n",
            "когда: 2\n",
            "сборы: 1\n",
            "который: 2\n",
            "то: 2\n",
            "госпошлины: 1\n",
            "гулливер: 1\n",
            "вброд: 1\n",
            "в: 1\n",
            "тошно: 1\n",
            "коротко: 1\n",
            "но: 1\n",
            "же: 1\n",
            "таможни: 1\n",
            "живешь: 1\n",
            "знаю: 1\n",
            "не: 2\n",
            "уж: 1\n",
            "я: 2\n",
            "гору: 2\n",
            "ты: 1\n",
            "что: 2\n",
            "прет: 1\n",
            "светофоры: 1\n",
            "город: 5\n",
            "про: 1\n",
            "мой: 1\n"
          ]
        }
      ]
    },
    {
      "cell_type": "markdown",
      "metadata": {
        "id": "hvVaGxqS7P9Z"
      },
      "source": [
        "Проблема изменение длины объекта во время итерации по нему"
      ]
    },
    {
      "cell_type": "markdown",
      "metadata": {
        "id": "O9Bqi6u87Wr8"
      },
      "source": [
        "Дан список с визитами по городам и странам. \n",
        "Напишем код, который возвращает отфильтрованный список `geo_logs`, содержащий только визиты из России.\n"
      ]
    },
    {
      "cell_type": "code",
      "metadata": {
        "id": "0B_AqXss7Onq"
      },
      "source": [
        "geo_logs = [\n",
        "    {'visit1': ['Москва', 'Россия']},\n",
        "    {'visit2': ['Дели', 'Индия']},\n",
        "    {'visit3': ['Владимир', 'Россия']},\n",
        "    {'visit4': ['Лиссабон', 'Португалия']},\n",
        "    {'visit5': ['Париж', 'Франция']},\n",
        "    {'visit7': ['Тула', 'Россия']},\n",
        "    {'visit9': ['Курск', 'Россия']},\n",
        "    {'visit10': ['Архангельск', 'Россия']}\n",
        "]"
      ],
      "execution_count": null,
      "outputs": []
    },
    {
      "cell_type": "code",
      "source": [
        "for log in geo_logs:\n",
        "    for el in log.values():\n",
        "        if 'Россия' not in el:\n",
        "            geo_logs.remove(log)\n",
        "print(geo_logs)"
      ],
      "metadata": {
        "colab": {
          "base_uri": "https://localhost:8080/"
        },
        "id": "zFwZX1XZ-3tz",
        "outputId": "cdc92f1c-1ffa-4f86-f724-2eb8ec32aa88"
      },
      "execution_count": null,
      "outputs": [
        {
          "output_type": "stream",
          "name": "stdout",
          "text": [
            "[{'visit1': ['Москва', 'Россия']}, {'visit3': ['Владимир', 'Россия']}, {'visit5': ['Париж', 'Франция']}, {'visit7': ['Тула', 'Россия']}, {'visit9': ['Курск', 'Россия']}, {'visit10': ['Архангельск', 'Россия']}]\n"
          ]
        }
      ]
    },
    {
      "cell_type": "code",
      "source": [
        "geo_log_copy = geo_logs.copy()\n",
        "\n",
        "for log in geo_log_copy:\n",
        "    if 'Россия' not in list(log.values())[0]:\n",
        "        geo_logs.remove(log)\n",
        "\n",
        "print(geo_logs)"
      ],
      "metadata": {
        "colab": {
          "base_uri": "https://localhost:8080/"
        },
        "id": "4zEEEHBx3D56",
        "outputId": "37635de2-d710-4b9d-f457-1026683376af"
      },
      "execution_count": null,
      "outputs": [
        {
          "output_type": "stream",
          "name": "stdout",
          "text": [
            "[{'visit1': ['Москва', 'Россия']}, {'visit3': ['Владимир', 'Россия']}, {'visit7': ['Тула', 'Россия']}, {'visit9': ['Курск', 'Россия']}, {'visit10': ['Архангельск', 'Россия']}]\n"
          ]
        }
      ]
    },
    {
      "cell_type": "code",
      "source": [
        "res = []\n",
        "\n",
        "for log in geo_logs:\n",
        "    if 'Россия' in list(log.values())[0]:\n",
        "        res.append(log)\n",
        "\n",
        "print(res)\n",
        "\n"
      ],
      "metadata": {
        "colab": {
          "base_uri": "https://localhost:8080/"
        },
        "id": "ifDcLxtg3vpu",
        "outputId": "c7f0ab81-b2c5-4305-9e5b-ab5bdf61e867"
      },
      "execution_count": null,
      "outputs": [
        {
          "output_type": "stream",
          "name": "stdout",
          "text": [
            "[{'visit1': ['Москва', 'Россия']}, {'visit3': ['Владимир', 'Россия']}, {'visit7': ['Тула', 'Россия']}, {'visit9': ['Курск', 'Россия']}, {'visit10': ['Архангельск', 'Россия']}]\n"
          ]
        }
      ]
    },
    {
      "cell_type": "markdown",
      "metadata": {
        "id": "LO0RZ_2sOuNH"
      },
      "source": [
        "Посчитаем количество лайков и репостов у постов в ленте ВК"
      ]
    },
    {
      "cell_type": "code",
      "source": [
        "import requests\n",
        "import time\n",
        "params = {\n",
        "    'access_token': 'vk1.a.JiKFqeec8vbQTB6bNVdEtKdgwEcV2jq4ctC8XQ-ZbJRLyJOA3LNuQYiulX-EPhzwdzmoxMMIA_UIJjGkhKcivNLNbe_vi_ZK6pIWqS0ofVRpl52-yWchekjcNAUt9TUaJqafWv6dyYl6u-XE-7G8suaSv1qvOtk8-hTgtEauLgcLinvQVVYpmGxKJWYiUIQ8',\n",
        "    'v':'5.131',\n",
        "    'q': 'Нетология',\n",
        "    'start_from': '',\n",
        "    'count': 200,\n",
        "    'extended': 1\n",
        "}   \n",
        "res = []\n",
        "while True:\n",
        "\n",
        "    result = requests.get('https://api.vk.com/method/newsfeed.search', params)\n",
        "    time.sleep(0.33)\n",
        "    res += result.json()['response']['items']\n",
        "    if 'next_from' in result.json()['response'].keys():\n",
        "        params['start_from'] = result.json()['response']['next_from']\n",
        "    else:\n",
        "        break"
      ],
      "metadata": {
        "id": "4ITjFtNYTBDC"
      },
      "execution_count": null,
      "outputs": []
    },
    {
      "cell_type": "code",
      "metadata": {
        "id": "tV20crjSNBav",
        "colab": {
          "base_uri": "https://localhost:8080/"
        },
        "outputId": "c4bdca97-8167-477d-d9e5-3de6c565987f"
      },
      "source": [
        "print(type(res))\n",
        "print(len(res))"
      ],
      "execution_count": null,
      "outputs": [
        {
          "output_type": "stream",
          "name": "stdout",
          "text": [
            "<class 'list'>\n",
            "958\n"
          ]
        }
      ]
    },
    {
      "cell_type": "code",
      "metadata": {
        "id": "f5Ty6GTqOawt",
        "colab": {
          "base_uri": "https://localhost:8080/"
        },
        "outputId": "b6d90212-ebb9-4278-a906-f231626a7189"
      },
      "source": [
        "print(res[0])"
      ],
      "execution_count": null,
      "outputs": [
        {
          "output_type": "stream",
          "name": "stdout",
          "text": [
            "{'id': 10928, 'date': 1656613120, 'owner_id': 25755928, 'from_id': 25755928, 'is_favorite': False, 'post_type': 'post', 'text': 'Нетология: университет интернет-профессий', 'attachments': [{'type': 'link', 'link': {'url': 'https://go.redav.online/ca68f3cdb44f7e90', 'title': 'Нетология: университет интернет-профессий', 'caption': 'netology.ru', 'description': 'Обучение перспективным интернет-профессиям в центре онлайн-образования «Нетология»: теория, практика и помощь в трудоустройстве.', 'photo': {'album_id': -27, 'date': 1656613120, 'id': 457415841, 'owner_id': 2000040079, 'sizes': [{'height': 89, 'url': 'https://sun9-72.userapi.com/-faTnpC2LjeKauRbEgUmwFJ1b6DJEBEjo7U7hA/GV5493O1Vk4.jpg', 'type': 'a', 'width': 200}, {'height': 179, 'url': 'https://sun9-34.userapi.com/V6OfBpnR9aCMTKDRBoCdy6cDoqDWXUFUZ4SN3w/BODLgZnW8Ms.jpg', 'type': 'b', 'width': 400}, {'height': 200, 'url': 'https://sun9-16.userapi.com/-9phR1iisWaJq5fGIkaKTavhemmBCJZHwGpIAQ/aEcEAclWQtg.jpg', 'type': 'c', 'width': 200}, {'height': 100, 'url': 'https://sun9-84.userapi.com/xG5sOB-61peWqRgXN5kpXY2jpnNbfnrHeRH08Q/ZjNjPCcYtog.jpg', 'type': 'd', 'width': 100}, {'height': 50, 'url': 'https://sun9-2.userapi.com/pG_fYer_Lm8DGsxetBtrvgLvHkPafM1OtU4KKw/JXR9pdGe5t0.jpg', 'type': 'e', 'width': 50}, {'height': 480, 'url': 'https://sun9-17.userapi.com/impg/3EvUur21j90C7r7M_G7Mvy_F8fAlMtGx6L7yJw/kUUv6IrDw2Q.jpg?size=1074x480&quality=96&sign=1d6d417a1b899cdaa2c89a1a86f5cb2b&c_uniq_tag=WRzoxSHqEYX8FtD6tBuihrSAf4awR2HauWIIWHTJhcE&type=share', 'type': 'k', 'width': 1074}, {'height': 240, 'url': 'https://sun9-17.userapi.com/impg/3EvUur21j90C7r7M_G7Mvy_F8fAlMtGx6L7yJw/kUUv6IrDw2Q.jpg?size=537x240&quality=96&sign=9dc0c8e8dfa13418d3cb6f49dba6e83b&c_uniq_tag=yTnfbk6Gwk9wPHWAambWtjh0Fdgp5eAdF6OpVa6KG8M&type=share', 'type': 'l', 'width': 537}, {'height': 240, 'url': 'https://sun9-52.userapi.com/oSzMP4EQQbevmeYM9TCj67LMq3q-YH7hRY6hQw/4ahFRnw4tzM.jpg', 'type': 'o', 'width': 537}], 'text': '', 'user_id': 100, 'has_tags': False}, 'is_favorite': False}}], 'post_source': {'type': 'vk'}, 'comments': {'can_post': 0, 'count': 0, 'groups_can_post': True}, 'likes': {'can_like': 1, 'count': 0, 'user_likes': 0, 'can_publish': 1}, 'reposts': {'count': 0, 'user_reposted': 0}, 'views': {'count': 1}, 'donut': {'is_donut': False}, 'short_text_rate': 0.8}\n"
          ]
        }
      ]
    },
    {
      "cell_type": "code",
      "metadata": {
        "id": "DEmdHfw8Ok1g",
        "colab": {
          "base_uri": "https://localhost:8080/"
        },
        "outputId": "4b817e12-dc0e-4d08-b73d-3c24bc11573a"
      },
      "source": [
        "# функция pprint позволяет более структурированно выводить сложные структуры\n",
        "from pprint import pprint\n",
        "pprint(res[0])"
      ],
      "execution_count": null,
      "outputs": [
        {
          "output_type": "stream",
          "name": "stdout",
          "text": [
            "{'attachments': [{'link': {'caption': 'netology.ru',\n",
            "                           'description': 'Обучение перспективным '\n",
            "                                          'интернет-профессиям в центре '\n",
            "                                          'онлайн-образования «Нетология»: '\n",
            "                                          'теория, практика и помощь в '\n",
            "                                          'трудоустройстве.',\n",
            "                           'is_favorite': False,\n",
            "                           'photo': {'album_id': -27,\n",
            "                                     'date': 1656613120,\n",
            "                                     'has_tags': False,\n",
            "                                     'id': 457415841,\n",
            "                                     'owner_id': 2000040079,\n",
            "                                     'sizes': [{'height': 89,\n",
            "                                                'type': 'a',\n",
            "                                                'url': 'https://sun9-72.userapi.com/-faTnpC2LjeKauRbEgUmwFJ1b6DJEBEjo7U7hA/GV5493O1Vk4.jpg',\n",
            "                                                'width': 200},\n",
            "                                               {'height': 179,\n",
            "                                                'type': 'b',\n",
            "                                                'url': 'https://sun9-34.userapi.com/V6OfBpnR9aCMTKDRBoCdy6cDoqDWXUFUZ4SN3w/BODLgZnW8Ms.jpg',\n",
            "                                                'width': 400},\n",
            "                                               {'height': 200,\n",
            "                                                'type': 'c',\n",
            "                                                'url': 'https://sun9-16.userapi.com/-9phR1iisWaJq5fGIkaKTavhemmBCJZHwGpIAQ/aEcEAclWQtg.jpg',\n",
            "                                                'width': 200},\n",
            "                                               {'height': 100,\n",
            "                                                'type': 'd',\n",
            "                                                'url': 'https://sun9-84.userapi.com/xG5sOB-61peWqRgXN5kpXY2jpnNbfnrHeRH08Q/ZjNjPCcYtog.jpg',\n",
            "                                                'width': 100},\n",
            "                                               {'height': 50,\n",
            "                                                'type': 'e',\n",
            "                                                'url': 'https://sun9-2.userapi.com/pG_fYer_Lm8DGsxetBtrvgLvHkPafM1OtU4KKw/JXR9pdGe5t0.jpg',\n",
            "                                                'width': 50},\n",
            "                                               {'height': 480,\n",
            "                                                'type': 'k',\n",
            "                                                'url': 'https://sun9-17.userapi.com/impg/3EvUur21j90C7r7M_G7Mvy_F8fAlMtGx6L7yJw/kUUv6IrDw2Q.jpg?size=1074x480&quality=96&sign=1d6d417a1b899cdaa2c89a1a86f5cb2b&c_uniq_tag=WRzoxSHqEYX8FtD6tBuihrSAf4awR2HauWIIWHTJhcE&type=share',\n",
            "                                                'width': 1074},\n",
            "                                               {'height': 240,\n",
            "                                                'type': 'l',\n",
            "                                                'url': 'https://sun9-17.userapi.com/impg/3EvUur21j90C7r7M_G7Mvy_F8fAlMtGx6L7yJw/kUUv6IrDw2Q.jpg?size=537x240&quality=96&sign=9dc0c8e8dfa13418d3cb6f49dba6e83b&c_uniq_tag=yTnfbk6Gwk9wPHWAambWtjh0Fdgp5eAdF6OpVa6KG8M&type=share',\n",
            "                                                'width': 537},\n",
            "                                               {'height': 240,\n",
            "                                                'type': 'o',\n",
            "                                                'url': 'https://sun9-52.userapi.com/oSzMP4EQQbevmeYM9TCj67LMq3q-YH7hRY6hQw/4ahFRnw4tzM.jpg',\n",
            "                                                'width': 537}],\n",
            "                                     'text': '',\n",
            "                                     'user_id': 100},\n",
            "                           'title': 'Нетология: университет интернет-профессий',\n",
            "                           'url': 'https://go.redav.online/ca68f3cdb44f7e90'},\n",
            "                  'type': 'link'}],\n",
            " 'comments': {'can_post': 0, 'count': 0, 'groups_can_post': True},\n",
            " 'date': 1656613120,\n",
            " 'donut': {'is_donut': False},\n",
            " 'from_id': 25755928,\n",
            " 'id': 10928,\n",
            " 'is_favorite': False,\n",
            " 'likes': {'can_like': 1, 'can_publish': 1, 'count': 0, 'user_likes': 0},\n",
            " 'owner_id': 25755928,\n",
            " 'post_source': {'type': 'vk'},\n",
            " 'post_type': 'post',\n",
            " 'reposts': {'count': 0, 'user_reposted': 0},\n",
            " 'short_text_rate': 0.8,\n",
            " 'text': 'Нетология: университет интернет-профессий',\n",
            " 'views': {'count': 1}}\n"
          ]
        }
      ]
    },
    {
      "cell_type": "code",
      "metadata": {
        "id": "iri8Z2C9N7Ek",
        "colab": {
          "base_uri": "https://localhost:8080/"
        },
        "outputId": "6ff20e81-1e62-463e-9eb1-fbc93283d2e1"
      },
      "source": [
        "likes_count = 0\n",
        "reposts_count = 0\n",
        "for post in res:\n",
        "    if 'likes' in post:\n",
        "        likes_count += post['likes']['count']\n",
        "    if 'reposts' in post:\n",
        "        reposts_count += post['reposts']['count']\n",
        "\n",
        "print(likes_count)\n",
        "print(reposts_count)"
      ],
      "execution_count": null,
      "outputs": [
        {
          "output_type": "stream",
          "name": "stdout",
          "text": [
            "6011\n",
            "1624\n"
          ]
        }
      ]
    },
    {
      "cell_type": "markdown",
      "metadata": {
        "id": "D2RHLDZREpo4"
      },
      "source": [
        "Ваши вопросы"
      ]
    },
    {
      "cell_type": "code",
      "metadata": {
        "id": "idXHoa_6Eqml"
      },
      "source": [
        ""
      ],
      "execution_count": null,
      "outputs": []
    }
  ]
}