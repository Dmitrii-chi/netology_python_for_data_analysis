{
 "cells": [
  {
   "cell_type": "markdown",
   "id": "10fc06b6",
   "metadata": {},
   "source": [
    "Задание 1\n",
    "\n",
    "Даны 2 переменных, в которых хранятся строки произвольной длины: phrase_1 и phrase_2.\n",
    "Напишите код, который проверяет какая из этих строк длиннее."
   ]
  },
  {
   "cell_type": "code",
   "execution_count": null,
   "id": "61445243",
   "metadata": {},
   "outputs": [],
   "source": [
    "phrase_1 = 'Насколько проще было бы писать программы, если бы не заказчики'\n",
    "phrase_2 = '640Кб должно хватить для любых задач. Билл Гейтс (по легенде)'"
   ]
  },
  {
   "cell_type": "code",
   "execution_count": 2,
   "id": "c1967116",
   "metadata": {},
   "outputs": [
    {
     "name": "stdout",
     "output_type": "stream",
     "text": [
      "Фраза 1 длинее фразы 2\n"
     ]
    }
   ],
   "source": [
    "if len(phrase_1) > len(phrase_2): \n",
    "    print ('Фраза 1 длинее фразы 2')\n",
    "if len(phrase_2) > len(phrase_1):\n",
    "    print ('Фраза 2 длинее фразы 1')\n",
    "if len(phrase_1) == len(phrase_2):\n",
    "    print('Фразы равной длинны')"
   ]
  },
  {
   "cell_type": "markdown",
   "id": "68cbc7f5",
   "metadata": {},
   "source": [
    "Задание 2\n",
    "\n",
    "Дана переменная, в которой хранится четырехзначное число (год). Необходимо написать программу, которая выведет, является ли данный год високосным или обычным."
   ]
  },
  {
   "cell_type": "code",
   "execution_count": null,
   "id": "d49fd7d7",
   "metadata": {},
   "outputs": [],
   "source": [
    "year = 2001"
   ]
  },
  {
   "cell_type": "code",
   "execution_count": null,
   "id": "6d04830d",
   "metadata": {},
   "outputs": [],
   "source": [
    "if (year % 4 == 0):\n",
    "    print ('Год високосный')\n",
    "else:\n",
    "    print ('Год не високосный')\n",
    "    "
   ]
  },
  {
   "cell_type": "markdown",
   "id": "894141d7",
   "metadata": {},
   "source": [
    "Задание 3\n",
    "\n",
    "\n",
    "Необходимо написать программу, которая будет запрашивать у пользователя месяц и дату рождения и выводить соответствующий знак зодиака."
   ]
  },
  {
   "cell_type": "code",
   "execution_count": 41,
   "id": "a221cd33",
   "metadata": {
    "scrolled": true
   },
   "outputs": [
    {
     "name": "stdout",
     "output_type": "stream",
     "text": [
      "Введите день:\n",
      "15\n",
      "Введите месяц:\n",
      "август\n",
      "Введите год:\n",
      "1995\n"
     ]
    }
   ],
   "source": [
    "print ('Введите день:')\n",
    "day = (int(input()))\n",
    "\n",
    "print ('Введите месяц:')\n",
    "month = (str(input()))\n",
    "\n",
    "print ('Введите год:')\n",
    "year = (int(input()))"
   ]
  },
  {
   "cell_type": "code",
   "execution_count": 43,
   "id": "75f0a0c0",
   "metadata": {},
   "outputs": [
    {
     "name": "stdout",
     "output_type": "stream",
     "text": [
      "Ваш знак зодиака: Лев\n"
     ]
    }
   ],
   "source": [
    "if (day >= 21 and month == 'март') or (day <= 19 and month =='апрель'):\n",
    "    print ('Ваш знак зодиака: Овен')\n",
    "elif (day >= 20 and month == 'апрель') or (day <= 20 and month == 'май'):\n",
    "    print ('Ваш знак зодиака: Телец')\n",
    "elif (day >= 21 and month == 'май') or (day <= 20 and month == 'июнь'):\n",
    "    print ('Ваш знак зодиака: Близнецы')\n",
    "elif (day >= 21 and month == 'июнь') or (day <= 22 and month == 'июль'):\n",
    "    print ('Ваш знак зодиака: Рак')\n",
    "elif (day >= 23 and month == 'июль') or (day <= 22 and month == 'август'):\n",
    "    print ('Ваш знак зодиака: Лев')\n",
    "elif (day >= 23 and month == 'август') or (day <= 22 and month == 'сентябрь'):\n",
    "    print ('Ваш знак зодиака: Дева')\n",
    "elif (day >= 23 and month == 'сентябрь') or (day <= 22 and month == 'октябрь'):\n",
    "    print ('Ваш знак зодиака: Весы')   \n",
    "elif (day >= 23 and month == 'октябрь') or (day <= 21 and month == 'ноябрь'):\n",
    "    print ('Ваш знак зодиака: Скорпион')\n",
    "elif (day >= 22 and month == 'ноябрь') or (day <= 23 and month == 'декабрь'):\n",
    "    print ('Ваш знак зодиака: Стрелец')\n",
    "elif (day >= 22 and month == 'декабрь') or (day <= 19 and month == 'январь'):\n",
    "    print ('Ваш знак зодиака: Козерог')\n",
    "elif (day >= 20 and month == 'январь') or (day <= 18 and month == 'февраль'):\n",
    "    print ('Ваш знак зодиака: Водолей')\n",
    "elif (day >= 19 and month == 'февраль') or (day <= 20 and month == 'март'):\n",
    "    print ('Ваш знак зодиака: Рыба')\n",
    "else:\n",
    "    print ('значеня введены не корректно')"
   ]
  },
  {
   "cell_type": "markdown",
   "id": "746841eb",
   "metadata": {},
   "source": [
    "Задание 4\n",
    "\n",
    "\n",
    "Вам нужно написать программу для подбора упаковок по размерам товара. Размеры (ширина, длина, высота) хранятся в переменных (в сантиметрах):"
   ]
  },
  {
   "cell_type": "code",
   "execution_count": 55,
   "id": "e21e3eea",
   "metadata": {},
   "outputs": [
    {
     "name": "stdout",
     "output_type": "stream",
     "text": [
      "width\n",
      "45\n",
      "length\n",
      "45\n",
      "height\n",
      "45\n"
     ]
    }
   ],
   "source": [
    "print ('width')\n",
    "width = int(input())\n",
    "print ('length')\n",
    "length = int(input())\n",
    "print ('height')\n",
    "height = int(input())"
   ]
  },
  {
   "cell_type": "code",
   "execution_count": 56,
   "id": "73b56a66",
   "metadata": {},
   "outputs": [
    {
     "name": "stdout",
     "output_type": "stream",
     "text": [
      "Коробка №2\n"
     ]
    }
   ],
   "source": [
    "if (width <= 15) and (length <= 15) and (height <= 15):\n",
    "    print ('Коробка №1')\n",
    "elif ((15 < width < 50) or (15 < length < 50) or (15 < height < 50)) and (length < 200):\n",
    "    print ('Коробка №2')\n",
    "elif (length > 200):\n",
    "    print ('Упаковка для лыж')\n",
    "else:\n",
    "    print ('Стандартная коробка №3')"
   ]
  }
 ],
 "metadata": {
  "kernelspec": {
   "display_name": "Python 3.9.12 ('base')",
   "language": "python",
   "name": "python3"
  },
  "language_info": {
   "codemirror_mode": {
    "name": "ipython",
    "version": 3
   },
   "file_extension": ".py",
   "mimetype": "text/x-python",
   "name": "python",
   "nbconvert_exporter": "python",
   "pygments_lexer": "ipython3",
   "version": "3.9.12"
  },
  "vscode": {
   "interpreter": {
    "hash": "df224edfafea814fbe4084cfca4cbf9a77ce3cb2560d2c8e1ba5f544f3b08d59"
   }
  }
 },
 "nbformat": 4,
 "nbformat_minor": 5
}
